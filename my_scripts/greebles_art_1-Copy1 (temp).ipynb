{
 "cells": [
  {
   "cell_type": "code",
   "execution_count": 15,
   "metadata": {
    "ExecuteTime": {
     "end_time": "2021-03-02T06:41:33.894973Z",
     "start_time": "2021-03-02T06:41:28.944985Z"
    },
    "pycharm": {
     "is_executing": true
    },
    "scrolled": false
   },
   "outputs": [],
   "source": [
    "\"\"\"\n",
    "The script demonstrates a simple example of using ART with Keras. The example train a small model on the MNIST dataset\n",
    "and creates adversarial examples using the Fast Gradient Sign Method. Here we use the ART classifier to train the model,\n",
    "it would also be possible to provide a pretrained model to the ART classifier.\n",
    "The parameters are chosen for reduced computational requirements of the script and not optimised for accuracy.\n",
    "\"\"\"\n",
    "# https://stackoverflow.com/questions/42212810/tqdm-in-jupyter-notebook-prints-new-progress-bars-repeatedly\n",
    "# https://stackoverflow.com/questions/42212810/tqdm-in-jupyter-notebook-prints-new-progress-bars-repeatedly\n",
    "# replace tqdm imported by any other module with tqdm.notebook\n",
    "import sys\n",
    "import tqdm\n",
    "from tqdm.notebook import tqdm\n",
    "sys.modules[\"tqdm\"].tqdm = tqdm\n",
    "sys.modules[\"tqdm.tqdm\"] = tqdm\n",
    "import ipywidgets as widgets # check if this is installed to make normal tqdm work inside the notebook\n",
    "\n",
    "import os\n",
    "import warnings\n",
    "warnings.filterwarnings('ignore')\n",
    "import logging\n",
    "logging.getLogger('tensorflow').setLevel(logging.FATAL)\n",
    "\n",
    "import numpy as np\n",
    "import keras\n",
    "from keras.models import Sequential\n",
    "from keras.layers import Dense, Flatten, Conv2D, MaxPooling2D\n",
    "\n",
    "from keras.applications.resnet50 import ResNet50\n",
    "from keras.applications.vgg16 import preprocess_input, VGG16\n",
    "\n",
    "from art.estimators.classification import KerasClassifier\n",
    "\n",
    "from art.attacks.evasion import SpatialTransformation\n",
    "from art.attacks.evasion import FastGradientMethod\n",
    "\n",
    "from art.defences.trainer import AdversarialTrainer\n",
    "\n",
    "# from art.utils import load_mnist\n",
    "from art.utils import load_dataset\n",
    "\n",
    "#this is what makes the plots transparent in notebooks\n",
    "%matplotlib inline\n",
    "import matplotlib.pyplot as plt\n",
    "import seaborn as sn\n",
    "# sn.set() #this changes the style of all plots, and imshow shows up wrong\n",
    "import pandas as pd\n",
    "from sklearn.metrics import confusion_matrix\n",
    "from sklearn.metrics import accuracy_score\n",
    "from sklearn.metrics import classification_report\n",
    "from sklearn.externals import joblib\n",
    "\n",
    "import time\n",
    "import platform\n",
    "import subprocess\n",
    "import shutil\n",
    "import load10_temp as ltemp\n",
    "\n",
    "try:\n",
    "    import tensorflow as tf\n",
    "    # tf.config.run_functions_eagerly(False)\n",
    "    tf.compat.v1.disable_eager_execution()\n",
    "except:\n",
    "    print(\"Failed to disable tensorflow eager execution\")"
   ]
  },
  {
   "cell_type": "code",
   "execution_count": 3,
   "metadata": {
    "ExecuteTime": {
     "end_time": "2021-03-02T06:41:35.662136Z",
     "start_time": "2021-03-02T06:41:33.897919Z"
    },
    "pycharm": {
     "is_executing": true
    }
   },
   "outputs": [],
   "source": [
    "# img_size = 32\n",
    "img_size = 256\n",
    "# img_size = 512\n",
    "\n",
    "render_util_folder = os.getcwd()\n",
    "if (platform.system() == \"Windows\"):\n",
    "    blender_folder = r\"D:\\Users\\Enzo\\Desktop\\poke102938\\School\\RIT No Sync\\Research\\GAN\\blender-2.78c-windows64\" \n",
    "    dataset_folder = r\"D:\\Users\\Enzo\\Desktop\\poke102938\\School\\RIT No Sync\\Research\\GAN\\greebles-generator-master\\Greebles_3DS_10\"\n",
    "else:\n",
    "    blender_folder = r\"/home/ec1018/projects/blender-2.78c-linux-glibc219-x86_64\"\n",
    "    dataset_folder = r\"/home/ec1018/projects/Greebles_3DS_10\"\n",
    "\n",
    "render_folder = os.path.join(os.getcwd(), \"greebles_10\") #reduced dataset of 10\n",
    "\n",
    "# Delete folder - comment and uncomment as you need\n",
    "# if os.path.exists(render_folder) and os.path.isdir(render_folder):\n",
    "#     shutil.rmtree(render_folder)\n",
    "    \n",
    "if not os.path.isdir(dataset_folder):\n",
    "    raise OSError(2, 'No such directory', str(dataset_folder))\n",
    "if not os.path.exists(os.path.join(render_util_folder, 'render.py')):\n",
    "    raise OSError(2, 'render.py not found', str(render_util_folder))\n",
    "\n",
    "render_script = os.path.join(render_util_folder, 'render.py')\n",
    "\n",
    "# Find the correct version of blender depending on the OS\n",
    "if (platform.system() == \"Windows\"):\n",
    "    blender_exec = os.path.join(blender_folder, 'blender.exe')\n",
    "else:\n",
    "    blender_exec = os.path.join(blender_folder, 'blender')\n",
    "    \n",
    "if not os.path.exists(os.path.join(blender_folder, blender_exec)):\n",
    "    raise OSError(2, 'Blender executable not found', str(blender_folder))\n",
    "\n",
    "# If you want to split command automatically\n",
    "# import shlex; shlex.split(\"/bin/prog -i data.txt -o \\\"more data.txt\\\"\")\n",
    "# https://janakiev.com/blog/python-shell-commands/\n",
    "\n",
    "\n",
    "set_mode = 'specific_all'\n",
    "set_type = 'specific_angle'\n",
    "#####################################\n",
    "# Generate training set\n",
    "blender_process = subprocess.run([blender_exec, '-b', '-P', render_script, '--', \n",
    "                    '-st', set_type, '-sm', set_mode, '-rp', render_folder, '-dp', dataset_folder, '-rm', 'none', '-pf', 'tensorflow',\n",
    "                    '-is', str(img_size), '-ni', '1', '-xr', '0', '-yr', '0', '-zr', '0'])\n",
    "\n",
    "# Move training set to folder                    \n",
    "source_folder = os.path.join(render_folder, \"greebles_tf-\" + set_mode, set_type)\n",
    "ltemp.move_to_folder(source_folder, os.path.join(source_folder, \"train\"))"
   ]
  },
  {
   "cell_type": "code",
   "execution_count": 4,
   "metadata": {
    "ExecuteTime": {
     "end_time": "2021-03-02T06:41:35.710012Z",
     "start_time": "2021-03-02T06:41:35.664134Z"
    },
    "pycharm": {
     "is_executing": true
    }
   },
   "outputs": [
    {
     "output_type": "stream",
     "name": "stdout",
     "text": [
      "(10, 512, 512, 1)\n(10, 10)\n"
     ]
    },
    {
     "output_type": "execute_result",
     "data": {
      "text/plain": [
       "array([[0., 0., 0., 0., 0., 1., 0., 0., 0., 0.],\n",
       "       [1., 0., 0., 0., 0., 0., 0., 0., 0., 0.],\n",
       "       [0., 1., 0., 0., 0., 0., 0., 0., 0., 0.],\n",
       "       [0., 0., 0., 0., 0., 0., 1., 0., 0., 0.],\n",
       "       [0., 0., 1., 0., 0., 0., 0., 0., 0., 0.],\n",
       "       [0., 0., 0., 0., 0., 0., 0., 1., 0., 0.],\n",
       "       [0., 0., 0., 1., 0., 0., 0., 0., 0., 0.],\n",
       "       [0., 0., 0., 0., 0., 0., 0., 0., 1., 0.],\n",
       "       [0., 0., 0., 0., 1., 0., 0., 0., 0., 0.],\n",
       "       [0., 0., 0., 0., 0., 0., 0., 0., 0., 1.]], dtype=float32)"
      ]
     },
     "metadata": {},
     "execution_count": 4
    }
   ],
   "source": [
    "# Step 1: Get training set\n",
    "\n",
    "(x_train, y_train) = ltemp.load_dataset_temp(\"train\", source_folder)\n",
    "x_train = np.array(x_train, dtype='float64')\n",
    "y_train = np.array(y_train, dtype='float32')\n",
    "\n",
    "print(x_train.shape)\n",
    "print(y_train.shape)\n",
    "y_train"
   ]
  },
  {
   "cell_type": "code",
   "execution_count": 5,
   "metadata": {
    "ExecuteTime": {
     "end_time": "2021-03-02T06:41:35.725975Z",
     "start_time": "2021-03-02T06:41:35.712008Z"
    }
   },
   "outputs": [
    {
     "output_type": "execute_result",
     "data": {
      "text/plain": [
       "array([[[64.],\n",
       "        [64.],\n",
       "        [64.],\n",
       "        ...,\n",
       "        [64.],\n",
       "        [64.],\n",
       "        [64.]],\n",
       "\n",
       "       [[64.],\n",
       "        [64.],\n",
       "        [64.],\n",
       "        ...,\n",
       "        [64.],\n",
       "        [64.],\n",
       "        [64.]],\n",
       "\n",
       "       [[64.],\n",
       "        [64.],\n",
       "        [64.],\n",
       "        ...,\n",
       "        [64.],\n",
       "        [64.],\n",
       "        [64.]],\n",
       "\n",
       "       ...,\n",
       "\n",
       "       [[64.],\n",
       "        [64.],\n",
       "        [64.],\n",
       "        ...,\n",
       "        [64.],\n",
       "        [64.],\n",
       "        [64.]],\n",
       "\n",
       "       [[64.],\n",
       "        [64.],\n",
       "        [64.],\n",
       "        ...,\n",
       "        [64.],\n",
       "        [64.],\n",
       "        [64.]],\n",
       "\n",
       "       [[64.],\n",
       "        [64.],\n",
       "        [64.],\n",
       "        ...,\n",
       "        [64.],\n",
       "        [64.],\n",
       "        [64.]]])"
      ]
     },
     "metadata": {},
     "execution_count": 5
    }
   ],
   "source": [
    "x_train[3]"
   ]
  },
  {
   "cell_type": "code",
   "execution_count": 6,
   "metadata": {
    "ExecuteTime": {
     "end_time": "2021-03-02T06:41:36.275507Z",
     "start_time": "2021-03-02T06:41:35.728968Z"
    },
    "pycharm": {
     "is_executing": true,
     "name": "#%%\n"
    }
   },
   "outputs": [
    {
     "output_type": "stream",
     "name": "stdout",
     "text": [
      "247.0\n23.0\nModeResult(mode=array([64.]), count=array([222174]))\n---------\n247.0\n23.0\nModeResult(mode=array([64.]), count=array([219430]))\n---------\n247.0\n0.0\nModeResult(mode=array([64.]), count=array([226285]))\n---------\n247.0\n23.0\nModeResult(mode=array([64.]), count=array([225003]))\n---------\n247.0\n23.0\nModeResult(mode=array([64.]), count=array([219452]))\n---------\n246.0\n23.0\nModeResult(mode=array([64.]), count=array([220180]))\n---------\n247.0\n0.0\nModeResult(mode=array([64.]), count=array([225402]))\n---------\n247.0\n23.0\nModeResult(mode=array([64.]), count=array([225043]))\n---------\n247.0\n0.0\nModeResult(mode=array([64.]), count=array([226606]))\n---------\n247.0\n0.0\nModeResult(mode=array([64.]), count=array([225920]))\n---------\n247.0\n23.0\n247.0\n0.0\n"
     ]
    },
    {
     "output_type": "display_data",
     "data": {
      "text/plain": "<Figure size 432x288 with 1 Axes>",
      "image/png": "[encoded data removed]"
     },
     "metadata": {
      "needs_background": "light"
     }
    },
    {
     "output_type": "display_data",
     "data": {
      "text/plain": "<Figure size 432x288 with 1 Axes>",
      "image/png": "[encoded data removed]"
     },
     "metadata": {
      "needs_background": "light"
     }
    },
    {
     "output_type": "stream",
     "name": "stdout",
     "text": [
      "train1: [64.]\ntrain2: [64.]\ntest: 64.0\n"
     ]
    },
    {
     "output_type": "display_data",
     "data": {
      "text/plain": "<Figure size 432x288 with 1 Axes>",
      "image/png": "[encoded data removed]"
     },
     "metadata": {
      "needs_background": "light"
     }
    }
   ],
   "source": [
    "# for sample in x_train:\n",
    "#     sample[sample == 64.0] = 1.0\n",
    "\n",
    "from scipy import stats\n",
    "for i in x_train:\n",
    "    print(np.max(i))\n",
    "    print(np.min(i))\n",
    "    print(stats.mode(i,axis=None))\n",
    "    print('---------')\n",
    "\n",
    "cm = 'Greys_r'\n",
    "# cm = 'GnBu'\n",
    "# cm = 'viridis'\n",
    "i1 = 1\n",
    "i2 = 6\n",
    "print(np.max(x_train[i1]))\n",
    "print(np.min(x_train[i1]))\n",
    "print(np.max(x_train[i2]))\n",
    "print(np.min(x_train[i2]))\n",
    "\n",
    "plt.imshow(x_train[i1][:,:,0], cmap=cm)\n",
    "# plt.imshow(x_train[i1], cmap=cm)\n",
    "plt.show()\n",
    "plt.imshow(x_train[i2][:,:,0], cmap=cm)\n",
    "# plt.imshow(x_train[i2], cmap=cm)\n",
    "plt.show()\n",
    "\n",
    "import cv2\n",
    "from PIL import Image\n",
    "im_test_path = r\"greebles_10\\greebles_tf-specific_all\\specific_angle\\train\\f4_41_lamps_000.png\"\n",
    "im_test_path = os.path.join(os.getcwd(), \"greebles_10\",\"greebles_tf-specific_all\",\"specific_angle\",\"train\",\"f4_41_lamps_000.png\")\n",
    "\n",
    "# im_test = cv2.imread(im_test_path,0)\n",
    "# im_test = np.float64(im_test)\n",
    "im_test = np.array(Image.open(im_test_path).convert('L'), dtype='float64')\n",
    "# im_test *= (1.0/255)\n",
    "\n",
    "test_color_bg_idx = [40,40]\n",
    "print(\"train1:\", x_train[i1][test_color_bg_idx[0], test_color_bg_idx[1]])\n",
    "print(\"train2:\", x_train[i2][test_color_bg_idx[0], test_color_bg_idx[1]])\n",
    "print(\"test:\", im_test[test_color_bg_idx[0], test_color_bg_idx[1]])\n",
    "\n",
    "plt.imshow(im_test, cmap=cm)\n",
    "plt.show()\n",
    "# print(im_test.shape)\n",
    "# a = (x_train[i2][:,:,0] == im_test)\n",
    "# print(np.where(a == False))"
   ]
  },
  {
   "cell_type": "code",
   "execution_count": 7,
   "metadata": {
    "ExecuteTime": {
     "end_time": "2021-03-02T06:45:14.293842Z",
     "start_time": "2021-03-02T06:41:36.277502Z"
    },
    "pycharm": {
     "is_executing": true
    }
   },
   "outputs": [
    {
     "output_type": "stream",
     "name": "stdout",
     "text": [
      "\n (10, 512, 512, 1)\n"
     ]
    }
   ],
   "source": [
    "# Put all the different angles in a dictionary to access individually later\n",
    "all_test = {}\n",
    "\n",
    "test_set_gen_params = [-90, 90, 1]\n",
    "# test_set_gen_params = [85, 90, 1]\n",
    "test_set_name = \"greebles10_test_{}_{}_{}_{}.npy\".format(\n",
    "                test_set_gen_params[0], test_set_gen_params[1], test_set_gen_params[2], img_size)\n",
    "\n",
    "test_set_path = os.path.join(source_folder, test_set_name)\n",
    "\n",
    "if not (os.path.isfile(test_set_path)):\n",
    "    # Generate test set\n",
    "    for z in range(test_set_gen_params[0], test_set_gen_params[1] + 1, test_set_gen_params[2]):\n",
    "\n",
    "        blender_process = subprocess.run([blender_exec, '-b', '-P', render_script, '--', \n",
    "                            '-st', set_type, '-sm', set_mode, '-rp', render_folder, '-dp', dataset_folder, '-rm', 'none', '-pf', 'tensorflow',\n",
    "                            '-is', str(img_size), '-ni', '1', '-xr', '0', '-yr', '0', '-zr', str(z)])\n",
    "\n",
    "        # Move training set to folder                    \n",
    "        source_folder = os.path.join(render_folder, \"greebles_tf-\" + set_mode, set_type)\n",
    "        ltemp.move_to_folder(source_folder, os.path.join(source_folder, \"test\"))\n",
    "\n",
    "        print(z, end=\", \")\n",
    "        (x_test, y_test) = ltemp.load_dataset_temp(\"test\", source_folder)\n",
    "        x_test = np.array(x_test, dtype='float64')\n",
    "        y_test = np.array(y_test, dtype='float32')\n",
    "\n",
    "        all_test[str(z)] = (x_test, y_test)\n",
    "    \n",
    "    # Save the concatenated set after loop\n",
    "#     np.save(test_set_path, all_test) #not working with higher res images\n",
    "    joblib.dump(all_test, test_set_path)\n",
    "\n",
    "\n",
    "# all_test = np.load(test_set_path, allow_pickle=True).item()\n",
    "all_test = joblib.load(test_set_path)\n",
    "print(\"\\n\", all_test[\"90\"][0].shape)"
   ]
  },
  {
   "cell_type": "code",
   "execution_count": null,
   "metadata": {},
   "outputs": [],
   "source": []
  },
  {
   "cell_type": "code",
   "execution_count": 8,
   "metadata": {
    "ExecuteTime": {
     "end_time": "2021-03-02T06:45:14.309520Z",
     "start_time": "2021-03-02T06:45:14.295794Z"
    }
   },
   "outputs": [],
   "source": [
    "# all_test_2 = joblib.load(test_set_path)"
   ]
  },
  {
   "cell_type": "code",
   "execution_count": 9,
   "metadata": {
    "ExecuteTime": {
     "end_time": "2021-03-02T06:45:14.324788Z",
     "start_time": "2021-03-02T06:45:14.313518Z"
    }
   },
   "outputs": [],
   "source": [
    "# # Test for equality\n",
    "# for z in range(test_set_gen_params[0], test_set_gen_params[1] + 1, test_set_gen_params[2]):\n",
    "#     i = str(z)\n",
    "#     a1 = np.array(all_test[i][0])\n",
    "#     a2 = np.array(all_test_2[i][0])\n",
    "#     if not np.array_equal(a1,a2):\n",
    "#         print('nooooo')\n",
    "# print('Done')"
   ]
  },
  {
   "cell_type": "code",
   "execution_count": 10,
   "metadata": {
    "ExecuteTime": {
     "end_time": "2021-03-02T07:03:16.972024Z",
     "start_time": "2021-03-02T07:03:16.933127Z"
    },
    "pycharm": {
     "is_executing": true
    }
   },
   "outputs": [
    {
     "output_type": "stream",
     "name": "stdout",
     "text": [
      "0.9686274509803922\n0.0\n0.9725490196078431\n0.0\n{'train': array(['f-1', 'f-2', 'f-3', 'f-4', 'f-5', 'm-1', 'm-2', 'm-3', 'm-4',\n       'm-5'], dtype='<U3')}\nClasses for confusion matrix\n0: f-1\n1: f-2\n2: f-3\n3: f-4\n4: f-5\n5: m-1\n6: m-2\n7: m-3\n8: m-4\n9: m-5\n"
     ]
    }
   ],
   "source": [
    "(x_test, y_test) = np.copy(all_test['80'][0]), np.copy(all_test['80'][1])\n",
    "# IMPORTANT NOTE: The test set is not being normalized here, only training\n",
    "\n",
    "# Normalize images, try scaling with the stdev. subtract mean and mult by a factor. or just leave them as is.\n",
    "# x_train *= (1.0/x_train.max())\n",
    "# x_test *= (1.0/x_test.max())\n",
    "\n",
    "x_train *= (1.0/255)\n",
    "x_test *= (1.0/255)\n",
    "\n",
    "print(np.max(x_train))\n",
    "print(np.min(x_train))\n",
    "print(np.max(x_test))\n",
    "print(np.min(x_test))\n",
    "\n",
    "class_names = ltemp.get_class_names()\n",
    "print(class_names)\n",
    "# print(class_names['train'] == class_names['test'])\n",
    "print(\"Classes for confusion matrix\")\n",
    "for idx, c in enumerate(class_names['train']):\n",
    "    print(\"{}: {}\".format(idx, c))"
   ]
  },
  {
   "cell_type": "code",
   "execution_count": 11,
   "metadata": {
    "ExecuteTime": {
     "end_time": "2021-03-02T07:03:25.428898Z",
     "start_time": "2021-03-02T07:03:24.014680Z"
    },
    "pycharm": {
     "is_executing": true
    },
    "scrolled": true
   },
   "outputs": [
    {
     "output_type": "display_data",
     "data": {
      "text/plain": "<Figure size 720x288 with 10 Axes>",
      "image/png": "[encoded data removed]"
     },
     "metadata": {
      "needs_background": "light"
     }
    },
    {
     "output_type": "display_data",
     "data": {
      "text/plain": "<Figure size 720x288 with 10 Axes>",
      "image/png": "[encoded data removed]"
     },
     "metadata": {
      "needs_background": "light"
     }
    }
   ],
   "source": [
    "# Step 1.1: Visualize training set and labels\n",
    "fig, axes = plt.subplots(1,10, figsize=(10,4))\n",
    "for i,ax in enumerate(axes.flat):\n",
    "    ax.imshow(x_train[i][:,:,0], interpolation='nearest', cmap=cm)\n",
    "    # ax.imshow(x_train[i], interpolation='nearest', cmap=cm)\n",
    "    true_label = np.argwhere(y_train[i] == 1).flatten()\n",
    "    ax.set_title(\"{number}: {label}\".format(label=true_label, number=i), fontsize=15, color='#ba5e27')\n",
    "    ax.set_yticklabels([])\n",
    "    ax.set_xticklabels([])\n",
    "    ax.tick_params(axis=u'both', which=u'both', length=0)\n",
    "\n",
    "fig.suptitle('Training Samples', fontsize=15, color='orange')\n",
    "\n",
    "fig, axes = plt.subplots(1,10, figsize=(10,4))\n",
    "for i,ax in enumerate(axes.flat):\n",
    "    ax.imshow(x_test[i][:,:,0], cmap=cm)\n",
    "    # ax.imshow(x_test[i], cmap=cm)\n",
    "    true_label = np.argwhere(y_test[i] == 1).flatten()\n",
    "    ax.set_title(\"{number}: {label}\".format(label=true_label, number=i), fontsize=15, color='#ba5e27')\n",
    "    ax.set_yticklabels([])\n",
    "    ax.set_xticklabels([])\n",
    "    ax.tick_params(axis=u'both', which=u'both', length=0)\n",
    "\n",
    "fig.suptitle('Testing Samples', fontsize=15, color='orange')\n",
    "\n",
    "plt.show()"
   ]
  },
  {
   "cell_type": "code",
   "execution_count": 16,
   "metadata": {
    "ExecuteTime": {
     "end_time": "2021-03-02T06:46:54.484940Z",
     "start_time": "2021-03-02T06:46:54.306470Z"
    },
    "pycharm": {
     "is_executing": true
    }
   },
   "outputs": [
    {
     "output_type": "stream",
     "name": "stdout",
     "text": [
      "Model: \"sequential\"\n_________________________________________________________________\nLayer (type)                 Output Shape              Param #   \n=================================================================\nconv2d (Conv2D)              (None, 508, 508, 4)       104       \n_________________________________________________________________\nmax_pooling2d (MaxPooling2D) (None, 254, 254, 4)       0         \n_________________________________________________________________\nconv2d_1 (Conv2D)            (None, 250, 250, 10)      1010      \n_________________________________________________________________\nmax_pooling2d_1 (MaxPooling2 (None, 125, 125, 10)      0         \n_________________________________________________________________\nflatten (Flatten)            (None, 156250)            0         \n_________________________________________________________________\ndense (Dense)                (None, 100)               15625100  \n_________________________________________________________________\ndense_1 (Dense)              (None, 10)                1010      \n=================================================================\nTotal params: 15,627,224\nTrainable params: 15,627,224\nNon-trainable params: 0\n_________________________________________________________________\n"
     ]
    }
   ],
   "source": [
    "# Step 2: Create the model\n",
    "keras.backend.clear_session()\n",
    "input_shape = (img_size, img_size, 1)\n",
    "model = Sequential()\n",
    "model.add(Conv2D(filters=4, kernel_size=(5, 5), strides=1, activation=\"relu\", input_shape=input_shape))\n",
    "model.add(MaxPooling2D(pool_size=(2, 2)))\n",
    "model.add(Conv2D(filters=10, kernel_size=(5, 5), strides=1, activation=\"relu\", input_shape=(23, 23, 4)))\n",
    "model.add(MaxPooling2D(pool_size=(2, 2)))\n",
    "model.add(Flatten())\n",
    "model.add(Dense(100, activation=\"relu\"))\n",
    "model.add(Dense(10, activation=\"softmax\"))\n",
    "\n",
    "model.compile(loss=keras.losses.categorical_crossentropy, optimizer=keras.optimizers.Adam(lr=0.001), metrics=[\"accuracy\"])\n",
    "# model.compile(loss=keras.losses.categorical_crossentropy, optimizer=keras.optimizers.SGD(lr=0.1), metrics=[\"accuracy\"])\n",
    "#############################\n",
    "# model.add(ResNet50(input_shape=(img_size,img_size,1),include_top=False, pooling='avg', weights=None))\n",
    "# model.add(Dense(10, activation=\"softmax\"))\n",
    "\n",
    "# model.add(VGG16(input_shape=(img_size,img_size,1),include_top=True, pooling='max', weights=None, classes=10))\n",
    "\n",
    "# model.compile(\n",
    "#     loss=keras.losses.categorical_crossentropy, optimizer=keras.optimizers.Adam(lr=0.01), metrics=[\"accuracy\"]\n",
    "# )\n",
    "\n",
    "model.summary()"
   ]
  },
  {
   "cell_type": "code",
   "execution_count": 17,
   "metadata": {
    "ExecuteTime": {
     "end_time": "2021-03-02T06:46:54.658582Z",
     "start_time": "2021-03-02T06:46:54.489932Z"
    },
    "pycharm": {
     "is_executing": true
    }
   },
   "outputs": [],
   "source": [
    "# Step 3: Create the ART classifier\n",
    "min_pixel_value = 0.0\n",
    "max_pixel_value = 1.0\n",
    "classifier = KerasClassifier(model=model, clip_values=(min_pixel_value, max_pixel_value), use_logits=False)"
   ]
  },
  {
   "cell_type": "code",
   "execution_count": null,
   "metadata": {},
   "outputs": [],
   "source": [
    "x_train.shape"
   ]
  },
  {
   "cell_type": "code",
   "execution_count": 18,
   "metadata": {
    "ExecuteTime": {
     "end_time": "2021-03-02T06:47:00.674131Z",
     "start_time": "2021-03-02T06:46:54.660534Z"
    },
    "pycharm": {
     "is_executing": true
    },
    "tags": [
     "outputPrepend"
    ]
   },
   "outputs": [
    {
     "output_type": "stream",
     "name": "stdout",
     "text": [
      "=============================] - 0s 14ms/step - batch: 0.0000e+00 - size: 10.0000 - loss: 8.8399e-05 - accuracy: 1.0000\n",
      "Epoch 359/500\n",
      "1/1 [==============================] - 0s 14ms/step - batch: 0.0000e+00 - size: 10.0000 - loss: 9.9210e-05 - accuracy: 1.0000\n",
      "Epoch 360/500\n",
      "1/1 [==============================] - 0s 14ms/step - batch: 0.0000e+00 - size: 10.0000 - loss: 9.1428e-05 - accuracy: 1.0000\n",
      "Epoch 361/500\n",
      "1/1 [==============================] - 0s 14ms/step - batch: 0.0000e+00 - size: 10.0000 - loss: 4.4869e-05 - accuracy: 1.0000\n",
      "Epoch 362/500\n",
      "1/1 [==============================] - 0s 14ms/step - batch: 0.0000e+00 - size: 10.0000 - loss: 6.9328e-05 - accuracy: 1.0000\n",
      "Epoch 363/500\n",
      "1/1 [==============================] - 0s 14ms/step - batch: 0.0000e+00 - size: 10.0000 - loss: 5.8124e-05 - accuracy: 1.0000\n",
      "Epoch 364/500\n",
      "1/1 [==============================] - 0s 14ms/step - batch: 0.0000e+00 - size: 10.0000 - loss: 5.7349e-05 - accuracy: 1.0000\n",
      "Epoch 365/500\n",
      "1/1 [==============================] - 0s 14ms/step - batch: 0.0000e+00 - size: 10.0000 - loss: 9.2048e-05 - accuracy: 1.0000\n",
      "Epoch 366/500\n",
      "1/1 [==============================] - 0s 14ms/step - batch: 0.0000e+00 - size: 10.0000 - loss: 9.5765e-05 - accuracy: 1.0000\n",
      "Epoch 367/500\n",
      "1/1 [==============================] - 0s 14ms/step - batch: 0.0000e+00 - size: 10.0000 - loss: 5.6491e-05 - accuracy: 1.0000\n",
      "Epoch 368/500\n",
      "1/1 [==============================] - 0s 14ms/step - batch: 0.0000e+00 - size: 10.0000 - loss: 4.9994e-05 - accuracy: 1.0000\n",
      "Epoch 369/500\n",
      "1/1 [==============================] - 0s 14ms/step - batch: 0.0000e+00 - size: 10.0000 - loss: 5.2605e-05 - accuracy: 1.0000\n",
      "Epoch 370/500\n",
      "1/1 [==============================] - 0s 14ms/step - batch: 0.0000e+00 - size: 10.0000 - loss: 7.9173e-05 - accuracy: 1.0000\n",
      "Epoch 371/500\n",
      "1/1 [==============================] - 0s 14ms/step - batch: 0.0000e+00 - size: 10.0000 - loss: 8.3572e-05 - accuracy: 1.0000\n",
      "Epoch 372/500\n",
      "1/1 [==============================] - 0s 14ms/step - batch: 0.0000e+00 - size: 10.0000 - loss: 5.6800e-05 - accuracy: 1.0000\n",
      "Epoch 373/500\n",
      "1/1 [==============================] - 0s 14ms/step - batch: 0.0000e+00 - size: 10.0000 - loss: 4.2842e-05 - accuracy: 1.0000\n",
      "Epoch 374/500\n",
      "1/1 [==============================] - 0s 14ms/step - batch: 0.0000e+00 - size: 10.0000 - loss: 3.9361e-05 - accuracy: 1.0000\n",
      "Epoch 375/500\n",
      "1/1 [==============================] - 0s 14ms/step - batch: 0.0000e+00 - size: 10.0000 - loss: 6.1628e-05 - accuracy: 1.0000\n",
      "Epoch 376/500\n",
      "1/1 [==============================] - 0s 14ms/step - batch: 0.0000e+00 - size: 10.0000 - loss: 5.7313e-05 - accuracy: 1.0000\n",
      "Epoch 377/500\n",
      "1/1 [==============================] - 0s 14ms/step - batch: 0.0000e+00 - size: 10.0000 - loss: 1.0036e-04 - accuracy: 1.0000\n",
      "Epoch 378/500\n",
      "1/1 [==============================] - 0s 14ms/step - batch: 0.0000e+00 - size: 10.0000 - loss: 3.9850e-05 - accuracy: 1.0000\n",
      "Epoch 379/500\n",
      "1/1 [==============================] - 0s 14ms/step - batch: 0.0000e+00 - size: 10.0000 - loss: 7.4190e-05 - accuracy: 1.0000\n",
      "Epoch 380/500\n",
      "1/1 [==============================] - 0s 14ms/step - batch: 0.0000e+00 - size: 10.0000 - loss: 9.0617e-05 - accuracy: 1.0000\n",
      "Epoch 381/500\n",
      "1/1 [==============================] - 0s 14ms/step - batch: 0.0000e+00 - size: 10.0000 - loss: 3.5178e-05 - accuracy: 1.0000\n",
      "Epoch 382/500\n",
      "1/1 [==============================] - 0s 14ms/step - batch: 0.0000e+00 - size: 10.0000 - loss: 6.3238e-05 - accuracy: 1.0000\n",
      "Epoch 383/500\n",
      "1/1 [==============================] - 0s 14ms/step - batch: 0.0000e+00 - size: 10.0000 - loss: 5.8172e-05 - accuracy: 1.0000\n",
      "Epoch 384/500\n",
      "1/1 [==============================] - 0s 14ms/step - batch: 0.0000e+00 - size: 10.0000 - loss: 5.8517e-05 - accuracy: 1.0000\n",
      "Epoch 385/500\n",
      "1/1 [==============================] - 0s 14ms/step - batch: 0.0000e+00 - size: 10.0000 - loss: 8.2094e-05 - accuracy: 1.0000\n",
      "Epoch 386/500\n",
      "1/1 [==============================] - 0s 14ms/step - batch: 0.0000e+00 - size: 10.0000 - loss: 1.1923e-04 - accuracy: 1.0000\n",
      "Epoch 387/500\n",
      "1/1 [==============================] - 0s 14ms/step - batch: 0.0000e+00 - size: 10.0000 - loss: 7.9388e-05 - accuracy: 1.0000\n",
      "Epoch 388/500\n",
      "1/1 [==============================] - 0s 14ms/step - batch: 0.0000e+00 - size: 10.0000 - loss: 2.9408e-05 - accuracy: 1.0000\n",
      "Epoch 389/500\n",
      "1/1 [==============================] - 0s 14ms/step - batch: 0.0000e+00 - size: 10.0000 - loss: 8.0747e-05 - accuracy: 1.0000\n",
      "Epoch 390/500\n",
      "1/1 [==============================] - 0s 14ms/step - batch: 0.0000e+00 - size: 10.0000 - loss: 6.2582e-05 - accuracy: 1.0000\n",
      "Epoch 391/500\n",
      "1/1 [==============================] - 0s 14ms/step - batch: 0.0000e+00 - size: 10.0000 - loss: 4.7348e-05 - accuracy: 1.0000\n",
      "Epoch 392/500\n",
      "1/1 [==============================] - 0s 14ms/step - batch: 0.0000e+00 - size: 10.0000 - loss: 5.9495e-05 - accuracy: 1.0000\n",
      "Epoch 393/500\n",
      "1/1 [==============================] - 0s 14ms/step - batch: 0.0000e+00 - size: 10.0000 - loss: 4.7920e-05 - accuracy: 1.0000\n",
      "Epoch 394/500\n",
      "1/1 [==============================] - 0s 14ms/step - batch: 0.0000e+00 - size: 10.0000 - loss: 5.9875e-05 - accuracy: 1.0000\n",
      "Epoch 395/500\n",
      "1/1 [==============================] - 0s 14ms/step - batch: 0.0000e+00 - size: 10.0000 - loss: 7.4930e-05 - accuracy: 1.0000\n",
      "Epoch 396/500\n",
      "1/1 [==============================] - 0s 15ms/step - batch: 0.0000e+00 - size: 10.0000 - loss: 5.6217e-05 - accuracy: 1.0000\n",
      "Epoch 397/500\n",
      "1/1 [==============================] - 0s 14ms/step - batch: 0.0000e+00 - size: 10.0000 - loss: 5.9424e-05 - accuracy: 1.0000\n",
      "Epoch 398/500\n",
      "1/1 [==============================] - 0s 14ms/step - batch: 0.0000e+00 - size: 10.0000 - loss: 5.8839e-05 - accuracy: 1.0000\n",
      "Epoch 399/500\n",
      "1/1 [==============================] - 0s 14ms/step - batch: 0.0000e+00 - size: 10.0000 - loss: 8.8687e-05 - accuracy: 1.0000\n",
      "Epoch 400/500\n",
      "1/1 [==============================] - 0s 14ms/step - batch: 0.0000e+00 - size: 10.0000 - loss: 6.4203e-05 - accuracy: 1.0000\n",
      "Epoch 401/500\n",
      "1/1 [==============================] - 0s 14ms/step - batch: 0.0000e+00 - size: 10.0000 - loss: 5.7623e-05 - accuracy: 1.0000\n",
      "Epoch 402/500\n",
      "1/1 [==============================] - 0s 14ms/step - batch: 0.0000e+00 - size: 10.0000 - loss: 8.4193e-05 - accuracy: 1.0000\n",
      "Epoch 403/500\n",
      "1/1 [==============================] - 0s 14ms/step - batch: 0.0000e+00 - size: 10.0000 - loss: 6.4573e-05 - accuracy: 1.0000\n",
      "Epoch 404/500\n",
      "1/1 [==============================] - 0s 14ms/step - batch: 0.0000e+00 - size: 10.0000 - loss: 5.6717e-05 - accuracy: 1.0000\n",
      "Epoch 405/500\n",
      "1/1 [==============================] - 0s 14ms/step - batch: 0.0000e+00 - size: 10.0000 - loss: 2.5784e-05 - accuracy: 1.0000\n",
      "Epoch 406/500\n",
      "1/1 [==============================] - 0s 14ms/step - batch: 0.0000e+00 - size: 10.0000 - loss: 6.0770e-05 - accuracy: 1.0000\n",
      "Epoch 407/500\n",
      "1/1 [==============================] - 0s 14ms/step - batch: 0.0000e+00 - size: 10.0000 - loss: 5.7885e-05 - accuracy: 1.0000\n",
      "Epoch 408/500\n",
      "1/1 [==============================] - 0s 14ms/step - batch: 0.0000e+00 - size: 10.0000 - loss: 6.0163e-05 - accuracy: 1.0000\n",
      "Epoch 409/500\n",
      "1/1 [==============================] - 0s 14ms/step - batch: 0.0000e+00 - size: 10.0000 - loss: 5.0042e-05 - accuracy: 1.0000\n",
      "Epoch 410/500\n",
      "1/1 [==============================] - 0s 14ms/step - batch: 0.0000e+00 - size: 10.0000 - loss: 5.3594e-05 - accuracy: 1.0000\n",
      "Epoch 411/500\n",
      "1/1 [==============================] - 0s 14ms/step - batch: 0.0000e+00 - size: 10.0000 - loss: 5.6431e-05 - accuracy: 1.0000\n",
      "Epoch 412/500\n",
      "1/1 [==============================] - 0s 14ms/step - batch: 0.0000e+00 - size: 10.0000 - loss: 5.6884e-05 - accuracy: 1.0000\n",
      "Epoch 413/500\n",
      "1/1 [==============================] - 0s 14ms/step - batch: 0.0000e+00 - size: 10.0000 - loss: 3.9326e-05 - accuracy: 1.0000\n",
      "Epoch 414/500\n",
      "1/1 [==============================] - 0s 14ms/step - batch: 0.0000e+00 - size: 10.0000 - loss: 4.6168e-05 - accuracy: 1.0000\n",
      "Epoch 415/500\n",
      "1/1 [==============================] - 0s 14ms/step - batch: 0.0000e+00 - size: 10.0000 - loss: 5.0161e-05 - accuracy: 1.0000\n",
      "Epoch 416/500\n",
      "1/1 [==============================] - 0s 14ms/step - batch: 0.0000e+00 - size: 10.0000 - loss: 3.7526e-05 - accuracy: 1.0000\n",
      "Epoch 417/500\n",
      "1/1 [==============================] - 0s 14ms/step - batch: 0.0000e+00 - size: 10.0000 - loss: 5.0817e-05 - accuracy: 1.0000\n",
      "Epoch 418/500\n",
      "1/1 [==============================] - 0s 14ms/step - batch: 0.0000e+00 - size: 10.0000 - loss: 5.6777e-05 - accuracy: 1.0000\n",
      "Epoch 419/500\n",
      "1/1 [==============================] - 0s 14ms/step - batch: 0.0000e+00 - size: 10.0000 - loss: 4.4404e-05 - accuracy: 1.0000\n",
      "Epoch 420/500\n",
      "1/1 [==============================] - 0s 14ms/step - batch: 0.0000e+00 - size: 10.0000 - loss: 4.6287e-05 - accuracy: 1.0000\n",
      "Epoch 421/500\n",
      "1/1 [==============================] - 0s 14ms/step - batch: 0.0000e+00 - size: 10.0000 - loss: 7.7053e-05 - accuracy: 1.0000\n",
      "Epoch 422/500\n",
      "1/1 [==============================] - 0s 14ms/step - batch: 0.0000e+00 - size: 10.0000 - loss: 7.7864e-05 - accuracy: 1.0000\n",
      "Epoch 423/500\n",
      "1/1 [==============================] - 0s 14ms/step - batch: 0.0000e+00 - size: 10.0000 - loss: 5.3678e-05 - accuracy: 1.0000\n",
      "Epoch 424/500\n",
      "1/1 [==============================] - 0s 14ms/step - batch: 0.0000e+00 - size: 10.0000 - loss: 4.6335e-05 - accuracy: 1.0000\n",
      "Epoch 425/500\n",
      "1/1 [==============================] - 0s 14ms/step - batch: 0.0000e+00 - size: 10.0000 - loss: 4.3033e-05 - accuracy: 1.0000\n",
      "Epoch 426/500\n",
      "1/1 [==============================] - 0s 14ms/step - batch: 0.0000e+00 - size: 10.0000 - loss: 8.4872e-05 - accuracy: 1.0000\n",
      "Epoch 427/500\n",
      "1/1 [==============================] - 0s 14ms/step - batch: 0.0000e+00 - size: 10.0000 - loss: 4.7479e-05 - accuracy: 1.0000\n",
      "Epoch 428/500\n",
      "1/1 [==============================] - 0s 14ms/step - batch: 0.0000e+00 - size: 10.0000 - loss: 3.3509e-05 - accuracy: 1.0000\n",
      "Epoch 429/500\n",
      "1/1 [==============================] - 0s 14ms/step - batch: 0.0000e+00 - size: 10.0000 - loss: 4.7181e-05 - accuracy: 1.0000\n",
      "Epoch 430/500\n",
      "1/1 [==============================] - 0s 14ms/step - batch: 0.0000e+00 - size: 10.0000 - loss: 5.3678e-05 - accuracy: 1.0000\n",
      "Epoch 431/500\n",
      "1/1 [==============================] - 0s 14ms/step - batch: 0.0000e+00 - size: 10.0000 - loss: 5.0626e-05 - accuracy: 1.0000\n",
      "Epoch 432/500\n",
      "1/1 [==============================] - 0s 14ms/step - batch: 0.0000e+00 - size: 10.0000 - loss: 4.5072e-05 - accuracy: 1.0000\n",
      "Epoch 433/500\n",
      "1/1 [==============================] - 0s 14ms/step - batch: 0.0000e+00 - size: 10.0000 - loss: 4.1627e-05 - accuracy: 1.0000\n",
      "Epoch 434/500\n",
      "1/1 [==============================] - 0s 14ms/step - batch: 0.0000e+00 - size: 10.0000 - loss: 4.3629e-05 - accuracy: 1.0000\n",
      "Epoch 435/500\n",
      "1/1 [==============================] - 0s 14ms/step - batch: 0.0000e+00 - size: 10.0000 - loss: 6.8363e-05 - accuracy: 1.0000\n",
      "Epoch 436/500\n",
      "1/1 [==============================] - 0s 14ms/step - batch: 0.0000e+00 - size: 10.0000 - loss: 6.8744e-05 - accuracy: 1.0000\n",
      "Epoch 437/500\n",
      "1/1 [==============================] - 0s 14ms/step - batch: 0.0000e+00 - size: 10.0000 - loss: 2.7024e-05 - accuracy: 1.0000\n",
      "Epoch 438/500\n",
      "1/1 [==============================] - 0s 14ms/step - batch: 0.0000e+00 - size: 10.0000 - loss: 9.3919e-05 - accuracy: 1.0000\n",
      "Epoch 439/500\n",
      "1/1 [==============================] - 0s 14ms/step - batch: 0.0000e+00 - size: 10.0000 - loss: 6.7660e-05 - accuracy: 1.0000\n",
      "Epoch 440/500\n",
      "1/1 [==============================] - 0s 14ms/step - batch: 0.0000e+00 - size: 10.0000 - loss: 6.7016e-05 - accuracy: 1.0000\n",
      "Epoch 441/500\n",
      "1/1 [==============================] - 0s 14ms/step - batch: 0.0000e+00 - size: 10.0000 - loss: 4.6764e-05 - accuracy: 1.0000\n",
      "Epoch 442/500\n",
      "1/1 [==============================] - 0s 14ms/step - batch: 0.0000e+00 - size: 10.0000 - loss: 4.4451e-05 - accuracy: 1.0000\n",
      "Epoch 443/500\n",
      "1/1 [==============================] - 0s 14ms/step - batch: 0.0000e+00 - size: 10.0000 - loss: 7.0104e-05 - accuracy: 1.0000\n",
      "Epoch 444/500\n",
      "1/1 [==============================] - 0s 14ms/step - batch: 0.0000e+00 - size: 10.0000 - loss: 4.9231e-05 - accuracy: 1.0000\n",
      "Epoch 445/500\n",
      "1/1 [==============================] - 0s 15ms/step - batch: 0.0000e+00 - size: 10.0000 - loss: 4.9255e-05 - accuracy: 1.0000\n",
      "Epoch 446/500\n",
      "1/1 [==============================] - 0s 14ms/step - batch: 0.0000e+00 - size: 10.0000 - loss: 4.4762e-05 - accuracy: 1.0000\n",
      "Epoch 447/500\n",
      "1/1 [==============================] - 0s 14ms/step - batch: 0.0000e+00 - size: 10.0000 - loss: 4.5572e-05 - accuracy: 1.0000\n",
      "Epoch 448/500\n",
      "1/1 [==============================] - 0s 14ms/step - batch: 0.0000e+00 - size: 10.0000 - loss: 3.6477e-05 - accuracy: 1.0000\n",
      "Epoch 449/500\n",
      "1/1 [==============================] - 0s 14ms/step - batch: 0.0000e+00 - size: 10.0000 - loss: 4.2056e-05 - accuracy: 1.0000\n",
      "Epoch 450/500\n",
      "1/1 [==============================] - 0s 14ms/step - batch: 0.0000e+00 - size: 10.0000 - loss: 4.7146e-05 - accuracy: 1.0000\n",
      "Epoch 451/500\n",
      "1/1 [==============================] - 0s 14ms/step - batch: 0.0000e+00 - size: 10.0000 - loss: 4.0101e-05 - accuracy: 1.0000\n",
      "Epoch 452/500\n",
      "1/1 [==============================] - 0s 14ms/step - batch: 0.0000e+00 - size: 10.0000 - loss: 3.4010e-05 - accuracy: 1.0000\n",
      "Epoch 453/500\n",
      "1/1 [==============================] - 0s 14ms/step - batch: 0.0000e+00 - size: 10.0000 - loss: 4.3117e-05 - accuracy: 1.0000\n",
      "Epoch 454/500\n",
      "1/1 [==============================] - 0s 14ms/step - batch: 0.0000e+00 - size: 10.0000 - loss: 4.2770e-05 - accuracy: 1.0000\n",
      "Epoch 455/500\n",
      "1/1 [==============================] - 0s 14ms/step - batch: 0.0000e+00 - size: 10.0000 - loss: 5.9483e-05 - accuracy: 1.0000\n",
      "Epoch 456/500\n",
      "1/1 [==============================] - 0s 14ms/step - batch: 0.0000e+00 - size: 10.0000 - loss: 4.2377e-05 - accuracy: 1.0000\n",
      "Epoch 457/500\n",
      "1/1 [==============================] - 0s 14ms/step - batch: 0.0000e+00 - size: 10.0000 - loss: 4.3069e-05 - accuracy: 1.0000\n",
      "Epoch 458/500\n",
      "1/1 [==============================] - 0s 14ms/step - batch: 0.0000e+00 - size: 10.0000 - loss: 3.4403e-05 - accuracy: 1.0000\n",
      "Epoch 459/500\n",
      "1/1 [==============================] - 0s 14ms/step - batch: 0.0000e+00 - size: 10.0000 - loss: 5.6122e-05 - accuracy: 1.0000\n",
      "Epoch 460/500\n",
      "1/1 [==============================] - 0s 14ms/step - batch: 0.0000e+00 - size: 10.0000 - loss: 3.2758e-05 - accuracy: 1.0000\n",
      "Epoch 461/500\n",
      "1/1 [==============================] - 0s 14ms/step - batch: 0.0000e+00 - size: 10.0000 - loss: 3.7669e-05 - accuracy: 1.0000\n",
      "Epoch 462/500\n",
      "1/1 [==============================] - 0s 14ms/step - batch: 0.0000e+00 - size: 10.0000 - loss: 4.0077e-05 - accuracy: 1.0000\n",
      "Epoch 463/500\n",
      "1/1 [==============================] - 0s 14ms/step - batch: 0.0000e+00 - size: 10.0000 - loss: 3.0934e-05 - accuracy: 1.0000\n",
      "Epoch 464/500\n",
      "1/1 [==============================] - 0s 14ms/step - batch: 0.0000e+00 - size: 10.0000 - loss: 6.2487e-05 - accuracy: 1.0000\n",
      "Epoch 465/500\n",
      "1/1 [==============================] - 0s 14ms/step - batch: 0.0000e+00 - size: 10.0000 - loss: 5.7063e-05 - accuracy: 1.0000\n",
      "Epoch 466/500\n",
      "1/1 [==============================] - 0s 14ms/step - batch: 0.0000e+00 - size: 10.0000 - loss: 4.5119e-05 - accuracy: 1.0000\n",
      "Epoch 467/500\n",
      "1/1 [==============================] - 0s 14ms/step - batch: 0.0000e+00 - size: 10.0000 - loss: 4.4451e-05 - accuracy: 1.0000\n",
      "Epoch 468/500\n",
      "1/1 [==============================] - 0s 14ms/step - batch: 0.0000e+00 - size: 10.0000 - loss: 4.3712e-05 - accuracy: 1.0000\n",
      "Epoch 469/500\n",
      "1/1 [==============================] - 0s 14ms/step - batch: 0.0000e+00 - size: 10.0000 - loss: 3.9088e-05 - accuracy: 1.0000\n",
      "Epoch 470/500\n",
      "1/1 [==============================] - 0s 14ms/step - batch: 0.0000e+00 - size: 10.0000 - loss: 4.2198e-05 - accuracy: 1.0000\n",
      "Epoch 471/500\n",
      "1/1 [==============================] - 0s 14ms/step - batch: 0.0000e+00 - size: 10.0000 - loss: 3.3723e-05 - accuracy: 1.0000\n",
      "Epoch 472/500\n",
      "1/1 [==============================] - 0s 14ms/step - batch: 0.0000e+00 - size: 10.0000 - loss: 4.2628e-05 - accuracy: 1.0000\n",
      "Epoch 473/500\n",
      "1/1 [==============================] - 0s 14ms/step - batch: 0.0000e+00 - size: 10.0000 - loss: 5.4572e-05 - accuracy: 1.0000\n",
      "Epoch 474/500\n",
      "1/1 [==============================] - 0s 14ms/step - batch: 0.0000e+00 - size: 10.0000 - loss: 7.1331e-05 - accuracy: 1.0000\n",
      "Epoch 475/500\n",
      "1/1 [==============================] - 0s 14ms/step - batch: 0.0000e+00 - size: 10.0000 - loss: 5.7695e-05 - accuracy: 1.0000\n",
      "Epoch 476/500\n",
      "1/1 [==============================] - 0s 14ms/step - batch: 0.0000e+00 - size: 10.0000 - loss: 2.7608e-05 - accuracy: 1.0000\n",
      "Epoch 477/500\n",
      "1/1 [==============================] - 0s 14ms/step - batch: 0.0000e+00 - size: 10.0000 - loss: 3.1339e-05 - accuracy: 1.0000\n",
      "Epoch 478/500\n",
      "1/1 [==============================] - 0s 14ms/step - batch: 0.0000e+00 - size: 10.0000 - loss: 4.6919e-05 - accuracy: 1.0000\n",
      "Epoch 479/500\n",
      "1/1 [==============================] - 0s 14ms/step - batch: 0.0000e+00 - size: 10.0000 - loss: 5.5263e-05 - accuracy: 1.0000\n",
      "Epoch 480/500\n",
      "1/1 [==============================] - 0s 33ms/step - batch: 0.0000e+00 - size: 10.0000 - loss: 3.6643e-05 - accuracy: 1.0000\n",
      "Epoch 481/500\n",
      "1/1 [==============================] - 0s 14ms/step - batch: 0.0000e+00 - size: 10.0000 - loss: 3.6608e-05 - accuracy: 1.0000\n",
      "Epoch 482/500\n",
      "1/1 [==============================] - 0s 14ms/step - batch: 0.0000e+00 - size: 10.0000 - loss: 5.4453e-05 - accuracy: 1.0000\n",
      "Epoch 483/500\n",
      "1/1 [==============================] - 0s 14ms/step - batch: 0.0000e+00 - size: 10.0000 - loss: 4.2019e-05 - accuracy: 1.0000\n",
      "Epoch 484/500\n",
      "1/1 [==============================] - 0s 14ms/step - batch: 0.0000e+00 - size: 10.0000 - loss: 2.2304e-05 - accuracy: 1.0000\n",
      "Epoch 485/500\n",
      "1/1 [==============================] - 0s 14ms/step - batch: 0.0000e+00 - size: 10.0000 - loss: 5.0638e-05 - accuracy: 1.0000\n",
      "Epoch 486/500\n",
      "1/1 [==============================] - 0s 14ms/step - batch: 0.0000e+00 - size: 10.0000 - loss: 5.1342e-05 - accuracy: 1.0000\n",
      "Epoch 487/500\n",
      "1/1 [==============================] - 0s 14ms/step - batch: 0.0000e+00 - size: 10.0000 - loss: 2.8359e-05 - accuracy: 1.0000\n",
      "Epoch 488/500\n",
      "1/1 [==============================] - 0s 14ms/step - batch: 0.0000e+00 - size: 10.0000 - loss: 3.1971e-05 - accuracy: 1.0000\n",
      "Epoch 489/500\n",
      "1/1 [==============================] - 0s 14ms/step - batch: 0.0000e+00 - size: 10.0000 - loss: 4.7575e-05 - accuracy: 1.0000\n",
      "Epoch 490/500\n",
      "1/1 [==============================] - 0s 14ms/step - batch: 0.0000e+00 - size: 10.0000 - loss: 5.8577e-05 - accuracy: 1.0000\n",
      "Epoch 491/500\n",
      "1/1 [==============================] - 0s 14ms/step - batch: 0.0000e+00 - size: 10.0000 - loss: 4.8671e-05 - accuracy: 1.0000\n",
      "Epoch 492/500\n",
      "1/1 [==============================] - 0s 14ms/step - batch: 0.0000e+00 - size: 10.0000 - loss: 3.8074e-05 - accuracy: 1.0000\n",
      "Epoch 493/500\n",
      "1/1 [==============================] - 0s 14ms/step - batch: 0.0000e+00 - size: 10.0000 - loss: 3.9111e-05 - accuracy: 1.0000\n",
      "Epoch 494/500\n",
      "1/1 [==============================] - 0s 14ms/step - batch: 0.0000e+00 - size: 10.0000 - loss: 2.7119e-05 - accuracy: 1.0000\n",
      "Epoch 495/500\n",
      "1/1 [==============================] - 0s 14ms/step - batch: 0.0000e+00 - size: 10.0000 - loss: 4.9279e-05 - accuracy: 1.0000\n",
      "Epoch 496/500\n",
      "1/1 [==============================] - 0s 14ms/step - batch: 0.0000e+00 - size: 10.0000 - loss: 6.5062e-05 - accuracy: 1.0000\n",
      "Epoch 497/500\n",
      "1/1 [==============================] - 0s 14ms/step - batch: 0.0000e+00 - size: 10.0000 - loss: 3.2329e-05 - accuracy: 1.0000\n",
      "Epoch 498/500\n",
      "1/1 [==============================] - 0s 14ms/step - batch: 0.0000e+00 - size: 10.0000 - loss: 3.2162e-05 - accuracy: 1.0000\n",
      "Epoch 499/500\n",
      "1/1 [==============================] - 0s 14ms/step - batch: 0.0000e+00 - size: 10.0000 - loss: 5.3464e-05 - accuracy: 1.0000\n",
      "Epoch 500/500\n",
      "1/1 [==============================] - 0s 15ms/step - batch: 0.0000e+00 - size: 10.0000 - loss: 2.6905e-05 - accuracy: 1.0000\n"
     ]
    }
   ],
   "source": [
    "# Step 4: Train the ART classifier\n",
    "\n",
    "classifier.fit(x_train, y_train, batch_size=10, nb_epochs=500)\n",
    "# models_folder_name = \"model_\" + time.strftime(\"%Y%m%d_%H%M%S\", time.localtime())\n",
    "classifier.save(\"model.h5\", path=\".\")\n",
    "all_acc = {}"
   ]
  },
  {
   "cell_type": "code",
   "execution_count": null,
   "metadata": {},
   "outputs": [],
   "source": [
    "# Clear allocated memory for the GPU\n",
    "try:\n",
    "    from numba import cuda\n",
    "    cuda.select_device(0)\n",
    "    cuda.close()"
   ]
  },
  {
   "cell_type": "code",
   "execution_count": 19,
   "metadata": {
    "ExecuteTime": {
     "end_time": "2021-03-02T07:03:35.309822Z",
     "start_time": "2021-03-02T07:03:34.766772Z"
    },
    "pycharm": {
     "is_executing": true
    }
   },
   "outputs": [
    {
     "output_type": "stream",
     "name": "stdout",
     "text": [
      "Accuracy on benign test examples: 60.0%\n[0 1 2 3 4 5 6 7 8 9] 10\n[0 2 3 4 5 9] 6\nAccuracy Score : 0.6\nReport : \n              precision    recall  f1-score   support\n\n           0       1.00      1.00      1.00         1\n           1       0.00      0.00      0.00         1\n           2       0.20      1.00      0.33         1\n           3       1.00      1.00      1.00         1\n           4       1.00      1.00      1.00         1\n           5       1.00      1.00      1.00         1\n           6       0.00      0.00      0.00         1\n           7       0.00      0.00      0.00         1\n           8       0.00      0.00      0.00         1\n           9       1.00      1.00      1.00         1\n\n    accuracy                           0.60        10\n   macro avg       0.52      0.60      0.53        10\nweighted avg       0.52      0.60      0.53        10\n\n"
     ]
    },
    {
     "output_type": "display_data",
     "data": {
      "text/plain": "<Figure size 720x504 with 2 Axes>",
      "image/png": "[encoded data removed]"
     },
     "metadata": {}
    }
   ],
   "source": [
    "# Step 5: Evaluate the ART classifier on benign test examples\n",
    "# predictions = classifier.predict(x_train)\n",
    "predictions = classifier.predict(x_test)\n",
    "accuracy = np.sum(np.argmax(predictions, axis=1) == np.argmax(y_test, axis=1)) / len(y_test)\n",
    "print(\"Accuracy on benign test examples: {}%\".format(accuracy * 100))\n",
    "all_acc['nat'] = accuracy * 100\n",
    "\n",
    "y_true = np.argmax(y_test, axis=1)\n",
    "y_pred = np.argmax(predictions, axis=1)\n",
    "cm = confusion_matrix(y_true, y_pred)\n",
    "\n",
    "fmt = '.2g'\n",
    "# Normalize, https://stackoverflow.com/questions/20927368/python-how-to-normalize-a-confusion-matrix\n",
    "# cm = cm.astype('float') / cm.sum(axis=1)[:, np.newaxis]; fmt = '.2f'\n",
    "\n",
    "print(np.unique(y_true), len(np.unique(y_true)))\n",
    "print(np.unique(y_pred), len(np.unique(y_pred)))\n",
    "\n",
    "print('Accuracy Score :', accuracy_score(y_true, y_pred))\n",
    "print('Report : ')\n",
    "print(classification_report(y_true, y_pred))\n",
    "\n",
    "df_cm = pd.DataFrame(cm, range(cm.shape[0]), range(cm.shape[0]))\n",
    "plt.figure(figsize=(10,7))\n",
    "\n",
    "with sn.plotting_context(context=\"notebook\", font_scale=1.5), \\\n",
    "plt.rc_context({'axes.labelcolor':'orange', 'xtick.color':'#ba5e27', 'ytick.color':'#ba5e27'}):\n",
    "    sn.heatmap(df_cm, annot=True, cmap='Blues', fmt=fmt, annot_kws={\"size\": 16}) #cmap: inferno; Blues\n",
    "\n",
    "plt.xlabel('Predicted labels');\n",
    "plt.ylabel('True labels');\n",
    "\n",
    "LABEL_COLOR_MAP = {0: 'b',\n",
    "                   1: 'g',\n",
    "                   2: 'r',\n",
    "                   3: 'c',\n",
    "                   4: 'm',\n",
    "                   5: 'orange',\n",
    "                   6: 'k'\n",
    "                   }\n",
    "\n",
    "num_classes = len(class_names['train'])\n",
    "ax = plt.gca()\n",
    "for i in range(num_classes):\n",
    "    c = LABEL_COLOR_MAP[i%(num_classes//2)]\n",
    "    ax.get_xticklabels()[i].set_color(c)\n",
    "    ax.get_yticklabels()[i].set_color(c)\n",
    "\n",
    "\n",
    "textstr = '\\n'.join((\n",
    "    r'$\\mu=%.2f$' % (2, ),\n",
    "    r'$\\mathrm{median}=%.2f$' % (5, ),\n",
    "    r'$\\sigma=%.2f$' % (1, )))\n",
    "\n",
    "textstr = \"Families are grouped by color\\n\" + '\\n'.join(\"{}: {}\".format(idx, c) for idx, c in enumerate(class_names['train']))\n",
    "\n",
    "# these are matplotlib.patch.Patch properties\n",
    "props = dict(boxstyle='round', facecolor='wheat', alpha=0.5)\n",
    "\n",
    "# place a text box in upper left in axes coords\n",
    "ax.text(0.90, 0.85, textstr, color='black', transform=plt.gcf().transFigure, fontsize=14,\n",
    "        verticalalignment='top', bbox=props)\n",
    "\n",
    "plt.show()"
   ]
  },
  {
   "cell_type": "code",
   "execution_count": 21,
   "metadata": {},
   "outputs": [
    {
     "output_type": "execute_result",
     "data": {
      "text/plain": [
       "dict_keys(['loss', 'accuracy'])"
      ]
     },
     "metadata": {},
     "execution_count": 21
    }
   ],
   "source": [
    "classifier._model.history.history.keys()"
   ]
  },
  {
   "cell_type": "code",
   "execution_count": 22,
   "metadata": {
    "ExecuteTime": {
     "end_time": "2021-03-02T06:47:01.527979Z",
     "start_time": "2021-03-02T06:47:01.247602Z"
    },
    "pycharm": {
     "is_executing": true
    }
   },
   "outputs": [
    {
     "output_type": "display_data",
     "data": {
      "text/plain": "<Figure size 432x288 with 1 Axes>",
      "image/png": "[encoded data removed]"
     },
     "metadata": {
      "needs_background": "dark"
     }
    },
    {
     "output_type": "display_data",
     "data": {
      "text/plain": "<Figure size 432x288 with 1 Axes>",
      "image/png": "[encoded data removed]"
     },
     "metadata": {
      "needs_background": "dark"
     }
    }
   ],
   "source": [
    "# Training graphs\n",
    "plt.figure()\n",
    "ax = plt.gca()\n",
    "try:\n",
    "    plt.plot(classifier._model.history.history['acc'])\n",
    "except KeyError:\n",
    "    plt.plot(classifier._model.history.history['accuracy'])\n",
    "plt.ylabel('Accuracy', color=\"orange\")\n",
    "plt.xlabel('Epoch', color=\"orange\")\n",
    "plt.legend(['Train'], loc='best')\n",
    "plt.title('Model Accuracy', color=\"orange\")\n",
    "ax.tick_params(axis='x', colors=\"orange\")\n",
    "ax.tick_params(axis='y', colors=\"orange\")\n",
    "\n",
    "plt.figure()\n",
    "ax = plt.gca()\n",
    "plt.plot(classifier._model.history.history['loss'])\n",
    "plt.ylabel('Loss', color=\"orange\")\n",
    "plt.xlabel('Epoch', color=\"orange\")\n",
    "plt.legend(['Train'], loc='best')\n",
    "plt.title('Model Loss', color=\"orange\")\n",
    "ax.tick_params(axis='x', colors=\"orange\")\n",
    "ax.tick_params(axis='y', colors=\"orange\")\n",
    "\n",
    "plt.show()"
   ]
  },
  {
   "cell_type": "code",
   "execution_count": 23,
   "metadata": {
    "ExecuteTime": {
     "end_time": "2021-03-02T06:47:02.342804Z",
     "start_time": "2021-03-02T06:47:01.529989Z"
    },
    "pycharm": {
     "is_executing": true
    }
   },
   "outputs": [
    {
     "output_type": "stream",
     "name": "stdout",
     "text": [
      "Accuracy on -90 degrees: 50.0%\n",
      "Accuracy on -89 degrees: 50.0%\n",
      "Accuracy on -88 degrees: 50.0%\n",
      "Accuracy on -87 degrees: 50.0%\n",
      "Accuracy on -86 degrees: 50.0%\n",
      "Accuracy on -85 degrees: 50.0%\n",
      "Accuracy on -84 degrees: 50.0%\n",
      "Accuracy on -83 degrees: 50.0%\n",
      "Accuracy on -82 degrees: 50.0%\n",
      "Accuracy on -81 degrees: 50.0%\n",
      "Accuracy on -80 degrees: 50.0%\n",
      "Accuracy on -79 degrees: 50.0%\n",
      "Accuracy on -78 degrees: 50.0%\n",
      "Accuracy on -77 degrees: 50.0%\n",
      "Accuracy on -76 degrees: 50.0%\n",
      "Accuracy on -75 degrees: 50.0%\n",
      "Accuracy on -74 degrees: 50.0%\n",
      "Accuracy on -73 degrees: 50.0%\n",
      "Accuracy on -72 degrees: 50.0%\n",
      "Accuracy on -71 degrees: 50.0%\n",
      "Accuracy on -70 degrees: 50.0%\n",
      "Accuracy on -69 degrees: 50.0%\n",
      "Accuracy on -68 degrees: 50.0%\n",
      "Accuracy on -67 degrees: 50.0%\n",
      "Accuracy on -66 degrees: 50.0%\n",
      "Accuracy on -65 degrees: 50.0%\n",
      "Accuracy on -64 degrees: 50.0%\n",
      "Accuracy on -63 degrees: 50.0%\n",
      "Accuracy on -62 degrees: 50.0%\n",
      "Accuracy on -61 degrees: 50.0%\n",
      "Accuracy on -60 degrees: 50.0%\n",
      "Accuracy on -59 degrees: 50.0%\n",
      "Accuracy on -58 degrees: 50.0%\n",
      "Accuracy on -57 degrees: 50.0%\n",
      "Accuracy on -56 degrees: 50.0%\n",
      "Accuracy on -55 degrees: 50.0%\n",
      "Accuracy on -54 degrees: 50.0%\n",
      "Accuracy on -53 degrees: 50.0%\n",
      "Accuracy on -52 degrees: 50.0%\n",
      "Accuracy on -51 degrees: 50.0%\n",
      "Accuracy on -50 degrees: 40.0%\n",
      "Accuracy on -49 degrees: 40.0%\n",
      "Accuracy on -48 degrees: 40.0%\n",
      "Accuracy on -47 degrees: 40.0%\n",
      "Accuracy on -46 degrees: 50.0%\n",
      "Accuracy on -45 degrees: 50.0%\n",
      "Accuracy on -44 degrees: 40.0%\n",
      "Accuracy on -43 degrees: 60.0%\n",
      "Accuracy on -42 degrees: 60.0%\n",
      "Accuracy on -41 degrees: 60.0%\n",
      "Accuracy on -40 degrees: 60.0%\n",
      "Accuracy on -39 degrees: 60.0%\n",
      "Accuracy on -38 degrees: 60.0%\n",
      "Accuracy on -37 degrees: 60.0%\n",
      "Accuracy on -36 degrees: 60.0%\n",
      "Accuracy on -35 degrees: 60.0%\n",
      "Accuracy on -34 degrees: 70.0%\n",
      "Accuracy on -33 degrees: 70.0%\n",
      "Accuracy on -32 degrees: 80.0%\n",
      "Accuracy on -31 degrees: 80.0%\n",
      "Accuracy on -30 degrees: 80.0%\n",
      "Accuracy on -29 degrees: 80.0%\n",
      "Accuracy on -28 degrees: 80.0%\n",
      "Accuracy on -27 degrees: 80.0%\n",
      "Accuracy on -26 degrees: 80.0%\n",
      "Accuracy on -25 degrees: 90.0%\n",
      "Accuracy on -24 degrees: 90.0%\n",
      "Accuracy on -23 degrees: 100.0%\n",
      "Accuracy on -22 degrees: 100.0%\n",
      "Accuracy on -21 degrees: 100.0%\n",
      "Accuracy on -20 degrees: 100.0%\n",
      "Accuracy on -19 degrees: 100.0%\n",
      "Accuracy on -18 degrees: 100.0%\n",
      "Accuracy on -17 degrees: 100.0%\n",
      "Accuracy on -16 degrees: 100.0%\n",
      "Accuracy on -15 degrees: 100.0%\n",
      "Accuracy on -14 degrees: 100.0%\n",
      "Accuracy on -13 degrees: 100.0%\n",
      "Accuracy on -12 degrees: 100.0%\n",
      "Accuracy on -11 degrees: 100.0%\n",
      "Accuracy on -10 degrees: 100.0%\n",
      "Accuracy on -9 degrees: 100.0%\n",
      "Accuracy on -8 degrees: 100.0%\n",
      "Accuracy on -7 degrees: 100.0%\n",
      "Accuracy on -6 degrees: 100.0%\n",
      "Accuracy on -5 degrees: 100.0%\n",
      "Accuracy on -4 degrees: 100.0%\n",
      "Accuracy on -3 degrees: 100.0%\n",
      "Accuracy on -2 degrees: 100.0%\n",
      "Accuracy on -1 degrees: 100.0%\n",
      "Accuracy on 0 degrees: 100.0%\n",
      "Accuracy on 1 degrees: 100.0%\n",
      "Accuracy on 2 degrees: 100.0%\n",
      "Accuracy on 3 degrees: 100.0%\n",
      "Accuracy on 4 degrees: 100.0%\n",
      "Accuracy on 5 degrees: 100.0%\n",
      "Accuracy on 6 degrees: 100.0%\n",
      "Accuracy on 7 degrees: 100.0%\n",
      "Accuracy on 8 degrees: 100.0%\n",
      "Accuracy on 9 degrees: 100.0%\n",
      "Accuracy on 10 degrees: 100.0%\n",
      "Accuracy on 11 degrees: 100.0%\n",
      "Accuracy on 12 degrees: 100.0%\n",
      "Accuracy on 13 degrees: 100.0%\n",
      "Accuracy on 14 degrees: 100.0%\n",
      "Accuracy on 15 degrees: 100.0%\n",
      "Accuracy on 16 degrees: 100.0%\n",
      "Accuracy on 17 degrees: 100.0%\n",
      "Accuracy on 18 degrees: 100.0%\n",
      "Accuracy on 19 degrees: 100.0%\n",
      "Accuracy on 20 degrees: 100.0%\n",
      "Accuracy on 21 degrees: 100.0%\n",
      "Accuracy on 22 degrees: 100.0%\n",
      "Accuracy on 23 degrees: 100.0%\n",
      "Accuracy on 24 degrees: 100.0%\n",
      "Accuracy on 25 degrees: 100.0%\n",
      "Accuracy on 26 degrees: 100.0%\n",
      "Accuracy on 27 degrees: 100.0%\n",
      "Accuracy on 28 degrees: 90.0%\n",
      "Accuracy on 29 degrees: 90.0%\n",
      "Accuracy on 30 degrees: 90.0%\n",
      "Accuracy on 31 degrees: 90.0%\n",
      "Accuracy on 32 degrees: 90.0%\n",
      "Accuracy on 33 degrees: 90.0%\n",
      "Accuracy on 34 degrees: 80.0%\n",
      "Accuracy on 35 degrees: 80.0%\n",
      "Accuracy on 36 degrees: 80.0%\n",
      "Accuracy on 37 degrees: 70.0%\n",
      "Accuracy on 38 degrees: 70.0%\n",
      "Accuracy on 39 degrees: 70.0%\n",
      "Accuracy on 40 degrees: 70.0%\n",
      "Accuracy on 41 degrees: 70.0%\n",
      "Accuracy on 42 degrees: 70.0%\n",
      "Accuracy on 43 degrees: 70.0%\n",
      "Accuracy on 44 degrees: 60.0%\n",
      "Accuracy on 45 degrees: 70.0%\n",
      "Accuracy on 46 degrees: 70.0%\n",
      "Accuracy on 47 degrees: 70.0%\n",
      "Accuracy on 48 degrees: 70.0%\n",
      "Accuracy on 49 degrees: 70.0%\n",
      "Accuracy on 50 degrees: 70.0%\n",
      "Accuracy on 51 degrees: 80.0%\n",
      "Accuracy on 52 degrees: 80.0%\n",
      "Accuracy on 53 degrees: 70.0%\n",
      "Accuracy on 54 degrees: 70.0%\n",
      "Accuracy on 55 degrees: 80.0%\n",
      "Accuracy on 56 degrees: 80.0%\n",
      "Accuracy on 57 degrees: 80.0%\n",
      "Accuracy on 58 degrees: 80.0%\n",
      "Accuracy on 59 degrees: 80.0%\n",
      "Accuracy on 60 degrees: 80.0%\n",
      "Accuracy on 61 degrees: 80.0%\n",
      "Accuracy on 62 degrees: 80.0%\n",
      "Accuracy on 63 degrees: 80.0%\n",
      "Accuracy on 64 degrees: 80.0%\n",
      "Accuracy on 65 degrees: 80.0%\n",
      "Accuracy on 66 degrees: 80.0%\n",
      "Accuracy on 67 degrees: 70.0%\n",
      "Accuracy on 68 degrees: 70.0%\n",
      "Accuracy on 69 degrees: 70.0%\n",
      "Accuracy on 70 degrees: 70.0%\n",
      "Accuracy on 71 degrees: 70.0%\n",
      "Accuracy on 72 degrees: 70.0%\n",
      "Accuracy on 73 degrees: 70.0%\n",
      "Accuracy on 74 degrees: 70.0%\n",
      "Accuracy on 75 degrees: 70.0%\n",
      "Accuracy on 76 degrees: 70.0%\n",
      "Accuracy on 77 degrees: 70.0%\n",
      "Accuracy on 78 degrees: 80.0%\n",
      "Accuracy on 79 degrees: 70.0%\n",
      "Accuracy on 80 degrees: 60.0%\n",
      "Accuracy on 81 degrees: 60.0%\n",
      "Accuracy on 82 degrees: 60.0%\n",
      "Accuracy on 83 degrees: 60.0%\n",
      "Accuracy on 84 degrees: 60.0%\n",
      "Accuracy on 85 degrees: 60.0%\n",
      "Accuracy on 86 degrees: 60.0%\n",
      "Accuracy on 87 degrees: 60.0%\n",
      "Accuracy on 88 degrees: 60.0%\n",
      "Accuracy on 89 degrees: 60.0%\n",
      "Accuracy on 90 degrees: 60.0%\n"
     ]
    }
   ],
   "source": [
    "all_acc = {}\n",
    "for k in all_test.keys():\n",
    "#     (x_test, y_test) = all_test[k]\n",
    "    (x_test, y_test) = np.copy(all_test[k][0]), np.copy(all_test[k][1])\n",
    "    # Normalize\n",
    "    x_test *= (1.0/255)\n",
    "    # Calculate accuracy\n",
    "    predictions = classifier.predict(x_test)\n",
    "    accuracy = np.sum(np.argmax(predictions, axis=1) == np.argmax(y_test, axis=1)) / len(y_test)\n",
    "    all_acc[k] = accuracy\n",
    "    print(\"Accuracy on {} degrees: {}%\".format(k, accuracy * 100))"
   ]
  },
  {
   "cell_type": "code",
   "execution_count": 24,
   "metadata": {
    "ExecuteTime": {
     "end_time": "2021-03-02T06:47:02.357763Z",
     "start_time": "2021-03-02T06:47:02.344798Z"
    },
    "pycharm": {
     "is_executing": true
    }
   },
   "outputs": [],
   "source": [
    "# for k in all_acc.keys():\n",
    "# #     print(\"{};{}\".format(k, all_acc[k]))\n",
    "#     print(\"{}\".format(all_acc[k]))\n",
    "# classifier.save(\"model.h5\", path=\".\")"
   ]
  },
  {
   "cell_type": "code",
   "execution_count": 25,
   "metadata": {
    "ExecuteTime": {
     "end_time": "2021-03-02T06:47:04.127051Z",
     "start_time": "2021-03-02T06:47:02.360755Z"
    },
    "pycharm": {
     "is_executing": true
    }
   },
   "outputs": [
    {
     "output_type": "display_data",
     "data": {
      "text/plain": "<Figure size 2160x720 with 1 Axes>",
      "image/png": "[encoded data removed]"
     },
     "metadata": {
      "needs_background": "light"
     }
    }
   ],
   "source": [
    "fig = plt.figure(figsize=(30,10))\n",
    "plt.bar(all_acc.keys(), all_acc.values(), width = 0.25, color='g')\n",
    "plt.show()"
   ]
  },
  {
   "cell_type": "code",
   "execution_count": 26,
   "metadata": {
    "ExecuteTime": {
     "end_time": "2021-03-02T06:47:04.158950Z",
     "start_time": "2021-03-02T06:47:04.131024Z"
    },
    "pycharm": {
     "is_executing": true
    }
   },
   "outputs": [
    {
     "output_type": "error",
     "ename": "KeyboardInterrupt",
     "evalue": "",
     "traceback": [
      "\u001b[0;31m---------------------------------------------------------------------------\u001b[0m",
      "\u001b[0;31mKeyboardInterrupt\u001b[0m                         Traceback (most recent call last)",
      "\u001b[0;32m<ipython-input-26-fd4121448dd6>\u001b[0m in \u001b[0;36m<module>\u001b[0;34m\u001b[0m\n\u001b[1;32m      1\u001b[0m \u001b[0;31m# Stop execution early\u001b[0m\u001b[0;34m\u001b[0m\u001b[0;34m\u001b[0m\u001b[0;34m\u001b[0m\u001b[0m\n\u001b[0;32m----> 2\u001b[0;31m \u001b[0;32mraise\u001b[0m \u001b[0mKeyboardInterrupt\u001b[0m\u001b[0;34m\u001b[0m\u001b[0;34m\u001b[0m\u001b[0m\n\u001b[0m",
      "\u001b[0;31mKeyboardInterrupt\u001b[0m: "
     ]
    }
   ],
   "source": [
    "# Stop execution early\n",
    "raise KeyboardInterrupt"
   ]
  },
  {
   "cell_type": "code",
   "execution_count": null,
   "metadata": {
    "ExecuteTime": {
     "end_time": "2021-03-02T06:47:04.161942Z",
     "start_time": "2021-03-02T06:46:54.332Z"
    },
    "pycharm": {
     "is_executing": true
    }
   },
   "outputs": [],
   "source": [
    "# Step 6: Generate adversarial test examples\n",
    "\n",
    "# Craft adversarial samples\n",
    "print(\"Create adversarial attack\")\n",
    "attack = SpatialTransformation(classifier=classifier, max_translation=10.0, num_translations=1, max_rotation=30.0, num_rotations=1)\n",
    "# attack = FastGradientMethod(classifier, eps=0.1)\n",
    "print(\"Craft attack on training examples\")\n",
    "x_train_adv = attack.generate(x_train)\n",
    "print(\"Craft attack test examples\")\n",
    "x_test_adv = attack.generate(x_test)\n",
    "\n",
    "print(x_train_adv.shape)\n",
    "print(x_test_adv.shape)"
   ]
  },
  {
   "cell_type": "code",
   "execution_count": null,
   "metadata": {
    "ExecuteTime": {
     "end_time": "2021-03-02T06:47:04.163938Z",
     "start_time": "2021-03-02T06:46:54.334Z"
    },
    "pycharm": {
     "is_executing": true
    }
   },
   "outputs": [],
   "source": [
    "# Step 6.1: Visualize adversarial samples\n",
    "fig, axes = plt.subplots(3,10, figsize=(10,4))\n",
    "for i,ax in enumerate(axes.flat):\n",
    "    ax.imshow(x_train_adv[i][:,:,0], cmap=cm)\n",
    "    true_label = np.argwhere(y_train[i] == 1).flatten()\n",
    "    ax.set_title(\"{number}: {label}\".format(label=true_label, number=i), fontsize=15, color='#ba5e27')\n",
    "    ax.set_yticklabels([])\n",
    "    ax.set_xticklabels([])\n",
    "    ax.tick_params(axis=u'both', which=u'both', length=0)\n",
    "\n",
    "fig.suptitle('Adversarial Training Samples', fontsize=15, color='orange')\n",
    "\n",
    "fig, axes = plt.subplots(3,10, figsize=(10,4))\n",
    "for i,ax in enumerate(axes.flat):\n",
    "    ax.imshow(x_test_adv[i][:,:,0], cmap=cm)\n",
    "    true_label = np.argwhere(y_test[i] == 1).flatten()\n",
    "    ax.set_title(\"{number}: {label}\".format(label=true_label, number=i), fontsize=15, color='#ba5e27')\n",
    "    ax.set_yticklabels([])\n",
    "    ax.set_xticklabels([])\n",
    "    ax.tick_params(axis=u'both', which=u'both', length=0)\n",
    "\n",
    "fig.suptitle('Adversarial Test Samples', fontsize=15, color='orange')\n",
    "\n",
    "plt.show()"
   ]
  },
  {
   "cell_type": "code",
   "execution_count": null,
   "metadata": {
    "ExecuteTime": {
     "end_time": "2021-03-02T06:47:04.164947Z",
     "start_time": "2021-03-02T06:46:54.337Z"
    },
    "pycharm": {
     "is_executing": true
    }
   },
   "outputs": [],
   "source": [
    "classifier.save(\"model.h5\", path=\".\")"
   ]
  },
  {
   "cell_type": "code",
   "execution_count": null,
   "metadata": {
    "ExecuteTime": {
     "end_time": "2021-03-02T06:47:04.165930Z",
     "start_time": "2021-03-02T06:46:54.339Z"
    },
    "pycharm": {
     "is_executing": true
    }
   },
   "outputs": [],
   "source": [
    "# Step 7: Evaluate the ART classifier on adversarial test examples\n",
    "\n",
    "predictions = classifier.predict(x_test_adv)\n",
    "accuracy = np.sum(np.argmax(predictions, axis=1) == np.argmax(y_test, axis=1)) / len(y_test)\n",
    "print(\"Accuracy on adversarial test examples before AT: {}%\".format(accuracy * 100))\n",
    "all_acc['adv_before_AT'] = accuracy * 100\n",
    "\n",
    "y_true = np.argmax(y_test, axis=1)\n",
    "y_pred = np.argmax(predictions, axis=1)\n",
    "cm = confusion_matrix(y_true, y_pred)\n",
    "\n",
    "fmt = '.2g'\n",
    "# Normalize\n",
    "cm = cm.astype('float') / cm.sum(axis=1)[:, np.newaxis]; fmt = '.2f'\n",
    "\n",
    "print(np.unique(y_true), len(np.unique(y_true)))\n",
    "print(np.unique(y_pred), len(np.unique(y_pred)))\n",
    "\n",
    "print('Accuracy Score :', accuracy_score(y_true, y_pred))\n",
    "print('Report : ')\n",
    "print(classification_report(y_true, y_pred))\n",
    "\n",
    "df_cm = pd.DataFrame(cm, range(cm.shape[0]), range(cm.shape[0]))\n",
    "plt.figure(figsize=(10,7), facecolor='None')\n",
    "with sn.plotting_context(context=\"notebook\", font_scale=1.5), \\\n",
    "plt.rc_context({'axes.labelcolor':'orange', 'xtick.color':'#ba5e27', 'ytick.color':'#ba5e27'}):\n",
    "    sn.heatmap(df_cm, annot=True, cmap='Blues', fmt=fmt, annot_kws={\"size\": 16}) #cmap: inferno; Blues\n",
    "plt.xlabel('Predicted labels');\n",
    "plt.ylabel('True labels');\n",
    "\n",
    "plt.show()"
   ]
  },
  {
   "cell_type": "code",
   "execution_count": null,
   "metadata": {
    "ExecuteTime": {
     "end_time": "2021-03-02T06:47:04.166929Z",
     "start_time": "2021-03-02T06:46:54.340Z"
    },
    "pycharm": {
     "is_executing": true
    }
   },
   "outputs": [],
   "source": [
    "# Step 8: Create adversarial trainer and perform adversarial training\n",
    "adv_trainer = AdversarialTrainer(classifier, attacks=attack, ratio=1.0)\n",
    "adv_trainer.fit(x_train_adv, y_train, batch_size=64, nb_epochs=3)"
   ]
  },
  {
   "cell_type": "code",
   "execution_count": null,
   "metadata": {
    "ExecuteTime": {
     "end_time": "2021-03-02T06:47:04.168922Z",
     "start_time": "2021-03-02T06:46:54.344Z"
    },
    "pycharm": {
     "is_executing": true
    }
   },
   "outputs": [],
   "source": [
    "# Step 9: Evaluate new robustly trained classifier\n",
    "predictions = classifier.predict(x_test_adv)\n",
    "accuracy = np.sum(np.argmax(predictions, axis=1) == np.argmax(y_test, axis=1)) / len(y_test)\n",
    "print(\"Accuracy on adversarial test examples after AT: {}%\".format(accuracy * 100))\n",
    "all_acc['adv_after_AT'] = accuracy * 100\n",
    "\n",
    "print(all_acc)\n",
    "\n",
    "y_true = np.argmax(y_test, axis=1)\n",
    "y_pred = np.argmax(predictions, axis=1)\n",
    "cm = confusion_matrix(y_true, y_pred)\n",
    "\n",
    "fmt = '.2g'\n",
    "# Normalize\n",
    "cm = cm.astype('float') / cm.sum(axis=1)[:, np.newaxis]; fmt = '.2f'\n",
    "\n",
    "print(np.unique(y_true), len(np.unique(y_true)))\n",
    "print(np.unique(y_pred), len(np.unique(y_pred)))\n",
    "\n",
    "print('Accuracy Score :', accuracy_score(y_true, y_pred))\n",
    "print('Report : ')\n",
    "print(classification_report(y_true, y_pred))\n",
    "\n",
    "df_cm = pd.DataFrame(cm, range(cm.shape[0]), range(cm.shape[0]))\n",
    "\n",
    "plt.figure(figsize=(10,7), facecolor='None')\n",
    "\n",
    "with sn.plotting_context(context=\"notebook\", font_scale=1.5), \\\n",
    "plt.rc_context({'axes.labelcolor':'orange', 'xtick.color':'#ba5e27', 'ytick.color':'#ba5e27'}):\n",
    "    hm = sn.heatmap(df_cm, annot=True, cmap='Blues', fmt=fmt, annot_kws={\"size\": 16}) #cmap: inferno; Blues\n",
    "plt.xlabel('Predicted labels');\n",
    "plt.ylabel('True labels');\n",
    "\n",
    "plt.show()"
   ]
  },
  {
   "cell_type": "code",
   "execution_count": null,
   "metadata": {
    "ExecuteTime": {
     "end_time": "2021-03-02T06:47:04.171959Z",
     "start_time": "2021-03-02T06:46:54.346Z"
    },
    "pycharm": {
     "is_executing": true
    },
    "scrolled": true
   },
   "outputs": [],
   "source": [
    "dir(classifier)\n",
    "# predictions[1]\n",
    "# np.argmax(predictions, axis=1)\n",
    "# classifier._loss\n",
    "# classifier._loss_gradients\n",
    "classifier.loss_gradient"
   ]
  }
 ],
 "metadata": {
  "hide_input": false,
  "kernelspec": {
   "display_name": "Python 3",
   "language": "python",
   "name": "python3"
  },
  "language_info": {
   "codemirror_mode": {
    "name": "ipython",
    "version": 3
   },
   "file_extension": ".py",
   "mimetype": "text/x-python",
   "name": "python",
   "nbconvert_exporter": "python",
   "pygments_lexer": "ipython3",
   "version": "3.8.5-final"
  },
  "varInspector": {
   "cols": {
    "lenName": 16,
    "lenType": 16,
    "lenVar": 40
   },
   "kernels_config": {
    "python": {
     "delete_cmd_postfix": "",
     "delete_cmd_prefix": "del ",
     "library": "var_list.py",
     "varRefreshCmd": "print(var_dic_list())"
    },
    "r": {
     "delete_cmd_postfix": ") ",
     "delete_cmd_prefix": "rm(",
     "library": "var_list.r",
     "varRefreshCmd": "cat(var_dic_list()) "
    }
   },
   "types_to_exclude": [
    "module",
    "function",
    "builtin_function_or_method",
    "instance",
    "_Feature"
   ],
   "window_display": false
  }
 },
 "nbformat": 4,
 "nbformat_minor": 2
}