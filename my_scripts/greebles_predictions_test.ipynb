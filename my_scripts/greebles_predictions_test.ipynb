{
 "cells": [
  {
   "cell_type": "code",
   "execution_count": 1,
   "metadata": {
    "ExecuteTime": {
     "end_time": "2021-03-02T06:41:33.894973Z",
     "start_time": "2021-03-02T06:41:28.944985Z"
    },
    "pycharm": {
     "is_executing": true
    },
    "scrolled": false
   },
   "outputs": [
    {
     "output_type": "stream",
     "name": "stderr",
     "text": [
      "Using TensorFlow backend.\n"
     ]
    }
   ],
   "source": [
    "\"\"\"\n",
    "The script demonstrates a simple example of using ART with Keras. The example train a small model on the MNIST dataset\n",
    "and creates adversarial examples using the Fast Gradient Sign Method. Here we use the ART classifier to train the model,\n",
    "it would also be possible to provide a pretrained model to the ART classifier.\n",
    "The parameters are chosen for reduced computational requirements of the script and not optimised for accuracy.\n",
    "\"\"\"\n",
    "# https://stackoverflow.com/questions/42212810/tqdm-in-jupyter-notebook-prints-new-progress-bars-repeatedly\n",
    "# https://stackoverflow.com/questions/42212810/tqdm-in-jupyter-notebook-prints-new-progress-bars-repeatedly\n",
    "# replace tqdm imported by any other module with tqdm.notebook\n",
    "import sys\n",
    "import tqdm\n",
    "from tqdm.notebook import tqdm\n",
    "sys.modules[\"tqdm\"].tqdm = tqdm\n",
    "sys.modules[\"tqdm.tqdm\"] = tqdm\n",
    "import ipywidgets as widgets # check if this is installed to make normal tqdm work inside the notebook\n",
    "\n",
    "import os\n",
    "import warnings\n",
    "warnings.filterwarnings('ignore')\n",
    "import logging\n",
    "logging.getLogger('tensorflow').setLevel(logging.FATAL)\n",
    "\n",
    "import numpy as np\n",
    "import keras\n",
    "from keras.models import load_model\n",
    "from keras.models import Sequential\n",
    "from keras.layers import Dense, Flatten, Conv2D, MaxPooling2D, Input\n",
    "\n",
    "from keras.applications.resnet50 import ResNet50\n",
    "from keras.applications.vgg16 import preprocess_input, VGG16\n",
    "\n",
    "from art.estimators.classification import KerasClassifier\n",
    "\n",
    "from art.attacks.evasion import SpatialTransformation\n",
    "from art.attacks.evasion import FastGradientMethod\n",
    "\n",
    "from art.defences.trainer import AdversarialTrainer\n",
    "\n",
    "# from art.utils import load_mnist\n",
    "from art.utils import load_dataset\n",
    "\n",
    "#this is what makes the plots transparent in notebooks\n",
    "%matplotlib inline\n",
    "import matplotlib.pyplot as plt\n",
    "import seaborn as sn\n",
    "# sn.set() #this changes the style of all plots, and imshow shows up wrong\n",
    "import pandas as pd\n",
    "from sklearn.metrics import confusion_matrix\n",
    "from sklearn.metrics import accuracy_score\n",
    "from sklearn.metrics import classification_report\n",
    "from sklearn.externals import joblib\n",
    "\n",
    "import time\n",
    "import platform\n",
    "import subprocess\n",
    "import shutil\n",
    "import load10_temp as ltemp\n",
    "\n",
    "try:\n",
    "    import tensorflow as tf\n",
    "    # tf.config.run_functions_eagerly(False)\n",
    "    tf.compat.v1.disable_eager_execution()\n",
    "except:\n",
    "    print(\"Failed to disable tensorflow eager execution\")"
   ]
  },
  {
   "cell_type": "code",
   "execution_count": 2,
   "metadata": {
    "ExecuteTime": {
     "end_time": "2021-03-02T06:41:35.662136Z",
     "start_time": "2021-03-02T06:41:33.897919Z"
    },
    "pycharm": {
     "is_executing": true
    }
   },
   "outputs": [],
   "source": [
    "def ends(df, n=5):\n",
    "    '''Get the head and tail of a dataframe'''\n",
    "    return df.head(n).append(df.tail(n))\n",
    "    \n",
    "# img_size = 32\n",
    "# img_size = 176\n",
    "# img_size = 180\n",
    "img_size = 224\n",
    "# img_size = 512\n",
    "\n",
    "render_util_folder = os.getcwd()\n",
    "if (platform.system() == \"Windows\"):\n",
    "    blender_folder = r\"D:\\Users\\Enzo\\Desktop\\poke102938\\School\\RIT No Sync\\Research\\GAN\\blender-2.78c-windows64\" \n",
    "    dataset_folder = r\"D:\\Users\\Enzo\\Desktop\\poke102938\\School\\RIT No Sync\\Research\\GAN\\greebles-generator-master\\Greebles_3DS_10\"\n",
    "else:\n",
    "    blender_folder = r\"/home/ec1018/projects/blender-2.78c-linux-glibc219-x86_64\"\n",
    "    dataset_folder = r\"/home/ec1018/projects/Greebles_3DS_10\"\n",
    "\n",
    "render_folder = os.path.join(os.getcwd(), \"greebles_10\") #reduced dataset of 10\n",
    "\n",
    "# Delete folder - comment and uncomment as you need\n",
    "# if os.path.exists(render_folder) and os.path.isdir(render_folder):\n",
    "#     shutil.rmtree(render_folder)\n",
    "    \n",
    "if not os.path.isdir(dataset_folder):\n",
    "    raise OSError(2, 'No such directory', str(dataset_folder))\n",
    "if not os.path.exists(os.path.join(render_util_folder, 'render.py')):\n",
    "    raise OSError(2, 'render.py not found', str(render_util_folder))\n",
    "\n",
    "render_script = os.path.join(render_util_folder, 'render.py')\n",
    "\n",
    "# Find the correct version of blender depending on the OS\n",
    "if (platform.system() == \"Windows\"):\n",
    "    blender_exec = os.path.join(blender_folder, 'blender.exe')\n",
    "else:\n",
    "    blender_exec = os.path.join(blender_folder, 'blender')\n",
    "    \n",
    "if not os.path.exists(os.path.join(blender_folder, blender_exec)):\n",
    "    raise OSError(2, 'Blender executable not found', str(blender_folder))\n",
    "\n",
    "# If you want to split command automatically\n",
    "# import shlex; shlex.split(\"/bin/prog -i data.txt -o \\\"more data.txt\\\"\")\n",
    "# https://janakiev.com/blog/python-shell-commands/\n",
    "\n",
    "\n",
    "set_mode = 'specific_all'\n",
    "set_type = 'specific_angle'\n",
    "#####################################\n",
    "# Generate training set\n",
    "blender_process = subprocess.run([blender_exec, '-b', '-P', render_script, '--', \n",
    "                    '-st', set_type, '-sm', set_mode, '-rp', render_folder, '-dp', dataset_folder, '-rm', 'none', '-pf', 'tensorflow',\n",
    "                    '-is', str(img_size), '-ni', '1', '-xr', '0', '-yr', '0', '-zr', '0'])\n",
    "\n",
    "# Move training set to folder                    \n",
    "source_folder = os.path.join(render_folder, \"greebles_tf-\" + set_mode, set_type)\n",
    "ltemp.move_to_folder(source_folder, os.path.join(source_folder, \"train\"))"
   ]
  },
  {
   "cell_type": "code",
   "execution_count": 3,
   "metadata": {
    "ExecuteTime": {
     "end_time": "2021-03-02T06:41:35.710012Z",
     "start_time": "2021-03-02T06:41:35.664134Z"
    },
    "pycharm": {
     "is_executing": true
    }
   },
   "outputs": [
    {
     "output_type": "stream",
     "name": "stdout",
     "text": [
      "(10, 224, 224, 1)\n(10, 10)\n"
     ]
    },
    {
     "output_type": "execute_result",
     "data": {
      "text/plain": [
       "array([[0., 0., 0., 0., 0., 1., 0., 0., 0., 0.],\n",
       "       [1., 0., 0., 0., 0., 0., 0., 0., 0., 0.],\n",
       "       [0., 0., 0., 0., 0., 0., 0., 0., 1., 0.],\n",
       "       [0., 0., 0., 0., 1., 0., 0., 0., 0., 0.],\n",
       "       [0., 0., 0., 0., 0., 0., 0., 0., 0., 1.],\n",
       "       [0., 0., 0., 0., 0., 0., 0., 1., 0., 0.],\n",
       "       [0., 0., 1., 0., 0., 0., 0., 0., 0., 0.],\n",
       "       [0., 0., 0., 0., 0., 0., 1., 0., 0., 0.],\n",
       "       [0., 0., 0., 1., 0., 0., 0., 0., 0., 0.],\n",
       "       [0., 1., 0., 0., 0., 0., 0., 0., 0., 0.]], dtype=float32)"
      ]
     },
     "metadata": {},
     "execution_count": 3
    }
   ],
   "source": [
    "# Step 1: Get training set\n",
    "\n",
    "(x_train, y_train) = ltemp.load_dataset_temp(\"train\", source_folder)\n",
    "x_train = np.array(x_train, dtype='float64')\n",
    "y_train = np.array(y_train, dtype='float32')\n",
    "\n",
    "print(x_train.shape)\n",
    "print(y_train.shape)\n",
    "y_train"
   ]
  },
  {
   "cell_type": "code",
   "execution_count": 4,
   "metadata": {
    "ExecuteTime": {
     "end_time": "2021-03-02T06:45:14.293842Z",
     "start_time": "2021-03-02T06:41:36.277502Z"
    },
    "pycharm": {
     "is_executing": true
    }
   },
   "outputs": [
    {
     "output_type": "stream",
     "name": "stdout",
     "text": [
      "\n (10, 224, 224, 1)\n"
     ]
    }
   ],
   "source": [
    "# Put all the different angles in a dictionary to access individually later\n",
    "all_test = {}\n",
    "\n",
    "y_rot = 0\n",
    "extra = \"upsidedown\"; y_rot = 180\n",
    "\n",
    "test_set_gen_params = [-90, 90, 1]\n",
    "# test_set_gen_params = [85, 90, 1]\n",
    "\n",
    "try:\n",
    "    test_set_name = \"greebles10_{}_{}_{}_{}_{}.npy\".format(extra,\n",
    "                    test_set_gen_params[0], test_set_gen_params[1], test_set_gen_params[2], img_size)\n",
    "except NameError:\n",
    "    test_set_name = \"greebles10_test_{}_{}_{}_{}.npy\".format(\n",
    "                    test_set_gen_params[0], test_set_gen_params[1], test_set_gen_params[2], img_size)\n",
    "\n",
    "test_set_path = os.path.join(source_folder, test_set_name)\n",
    "\n",
    "if not (os.path.isfile(test_set_path)):\n",
    "    # Generate test set\n",
    "    for z in range(test_set_gen_params[0], test_set_gen_params[1] + 1, test_set_gen_params[2]):\n",
    "\n",
    "        blender_process = subprocess.run([blender_exec, '-b', '-P', render_script, '--', \n",
    "                            '-st', set_type, '-sm', set_mode, '-rp', render_folder, '-dp', dataset_folder, '-rm', 'none', '-pf', 'tensorflow',\n",
    "                            '-is', str(img_size), '-ni', '1', '-xr', '0', '-yr', str(y_rot), '-zr', str(z)])\n",
    "\n",
    "        # Move training set to folder                    \n",
    "        source_folder = os.path.join(render_folder, \"greebles_tf-\" + set_mode, set_type)\n",
    "        ltemp.move_to_folder(source_folder, os.path.join(source_folder, \"test\"))\n",
    "\n",
    "        print(z, end=\", \")\n",
    "        (x_test, y_test) = ltemp.load_dataset_temp(\"test\", source_folder)\n",
    "        x_test = np.array(x_test, dtype='float64')\n",
    "        y_test = np.array(y_test, dtype='float32')\n",
    "\n",
    "        all_test[str(z)] = (x_test, y_test)\n",
    "    \n",
    "    # Save the concatenated set after loop\n",
    "#     np.save(test_set_path, all_test) #not working with higher res images\n",
    "    joblib.dump(all_test, test_set_path)\n",
    "\n",
    "\n",
    "# all_test = np.load(test_set_path, allow_pickle=True).item()\n",
    "all_test = joblib.load(test_set_path)\n",
    "print(\"\\n\", all_test[\"90\"][0].shape)"
   ]
  },
  {
   "cell_type": "code",
   "execution_count": 5,
   "metadata": {},
   "outputs": [
    {
     "output_type": "stream",
     "name": "stdout",
     "text": [
      "WARNING:tensorflow:From /home/ec1018/anaconda3/envs/atf/lib/python3.7/site-packages/keras/backend/tensorflow_backend.py:517: The name tf.placeholder is deprecated. Please use tf.compat.v1.placeholder instead.\n",
      "\n",
      "WARNING:tensorflow:From /home/ec1018/anaconda3/envs/atf/lib/python3.7/site-packages/keras/backend/tensorflow_backend.py:4138: The name tf.random_uniform is deprecated. Please use tf.random.uniform instead.\n",
      "\n",
      "WARNING:tensorflow:From /home/ec1018/anaconda3/envs/atf/lib/python3.7/site-packages/keras/backend/tensorflow_backend.py:3976: The name tf.nn.max_pool is deprecated. Please use tf.nn.max_pool2d instead.\n",
      "\n",
      "WARNING:tensorflow:From /home/ec1018/anaconda3/envs/atf/lib/python3.7/site-packages/keras/backend/tensorflow_backend.py:174: The name tf.get_default_session is deprecated. Please use tf.compat.v1.get_default_session instead.\n",
      "\n",
      "WARNING:tensorflow:From /home/ec1018/anaconda3/envs/atf/lib/python3.7/site-packages/keras/backend/tensorflow_backend.py:181: The name tf.ConfigProto is deprecated. Please use tf.compat.v1.ConfigProto instead.\n",
      "\n",
      "WARNING:tensorflow:From /home/ec1018/anaconda3/envs/atf/lib/python3.7/site-packages/keras/backend/tensorflow_backend.py:186: The name tf.Session is deprecated. Please use tf.compat.v1.Session instead.\n",
      "\n",
      "WARNING:tensorflow:From /home/ec1018/anaconda3/envs/atf/lib/python3.7/site-packages/keras/backend/tensorflow_backend.py:190: The name tf.global_variables is deprecated. Please use tf.compat.v1.global_variables instead.\n",
      "\n",
      "WARNING:tensorflow:From /home/ec1018/anaconda3/envs/atf/lib/python3.7/site-packages/keras/backend/tensorflow_backend.py:199: The name tf.is_variable_initialized is deprecated. Please use tf.compat.v1.is_variable_initialized instead.\n",
      "\n",
      "WARNING:tensorflow:From /home/ec1018/anaconda3/envs/atf/lib/python3.7/site-packages/keras/backend/tensorflow_backend.py:206: The name tf.variables_initializer is deprecated. Please use tf.compat.v1.variables_initializer instead.\n",
      "\n",
      "WARNING:tensorflow:From /home/ec1018/anaconda3/envs/atf/lib/python3.7/site-packages/keras/optimizers.py:790: The name tf.train.Optimizer is deprecated. Please use tf.compat.v1.train.Optimizer instead.\n",
      "\n",
      "WARNING:tensorflow:From /home/ec1018/anaconda3/envs/atf/lib/python3.7/site-packages/keras/backend/tensorflow_backend.py:3295: The name tf.log is deprecated. Please use tf.math.log instead.\n",
      "\n",
      "WARNING:tensorflow:From /home/ec1018/anaconda3/envs/atf/lib/python3.7/site-packages/tensorflow_core/python/ops/math_grad.py:1424: where (from tensorflow.python.ops.array_ops) is deprecated and will be removed in a future version.\n",
      "Instructions for updating:\n",
      "Use tf.where in 2.0, which has the same broadcast rule as np.where\n",
      "WARNING:tensorflow:From /home/ec1018/anaconda3/envs/atf/lib/python3.7/site-packages/keras/backend/tensorflow_backend.py:986: The name tf.assign_add is deprecated. Please use tf.compat.v1.assign_add instead.\n",
      "\n",
      "WARNING:tensorflow:From /home/ec1018/anaconda3/envs/atf/lib/python3.7/site-packages/keras/backend/tensorflow_backend.py:973: The name tf.assign is deprecated. Please use tf.compat.v1.assign instead.\n",
      "\n",
      "_________________________________________________________________\n",
      "Layer (type)                 Output Shape              Param #   \n",
      "=================================================================\n",
      "conv2d_1 (Conv2D)            (None, 224, 224, 64)      640       \n",
      "_________________________________________________________________\n",
      "conv2d_2 (Conv2D)            (None, 224, 224, 64)      36928     \n",
      "_________________________________________________________________\n",
      "max_pooling2d_1 (MaxPooling2 (None, 112, 112, 64)      0         \n",
      "_________________________________________________________________\n",
      "conv2d_3 (Conv2D)            (None, 112, 112, 128)     73856     \n",
      "_________________________________________________________________\n",
      "conv2d_4 (Conv2D)            (None, 112, 112, 128)     147584    \n",
      "_________________________________________________________________\n",
      "max_pooling2d_2 (MaxPooling2 (None, 56, 56, 128)       0         \n",
      "_________________________________________________________________\n",
      "conv2d_5 (Conv2D)            (None, 56, 56, 256)       295168    \n",
      "_________________________________________________________________\n",
      "conv2d_6 (Conv2D)            (None, 56, 56, 256)       590080    \n",
      "_________________________________________________________________\n",
      "conv2d_7 (Conv2D)            (None, 56, 56, 256)       590080    \n",
      "_________________________________________________________________\n",
      "max_pooling2d_3 (MaxPooling2 (None, 28, 28, 256)       0         \n",
      "_________________________________________________________________\n",
      "conv2d_8 (Conv2D)            (None, 28, 28, 512)       1180160   \n",
      "_________________________________________________________________\n",
      "conv2d_9 (Conv2D)            (None, 28, 28, 512)       2359808   \n",
      "_________________________________________________________________\n",
      "conv2d_10 (Conv2D)           (None, 28, 28, 512)       2359808   \n",
      "_________________________________________________________________\n",
      "max_pooling2d_4 (MaxPooling2 (None, 14, 14, 512)       0         \n",
      "_________________________________________________________________\n",
      "conv2d_11 (Conv2D)           (None, 14, 14, 512)       2359808   \n",
      "_________________________________________________________________\n",
      "conv2d_12 (Conv2D)           (None, 14, 14, 512)       2359808   \n",
      "_________________________________________________________________\n",
      "conv2d_13 (Conv2D)           (None, 14, 14, 512)       2359808   \n",
      "_________________________________________________________________\n",
      "max_pooling2d_5 (MaxPooling2 (None, 7, 7, 512)         0         \n",
      "_________________________________________________________________\n",
      "flatten_1 (Flatten)          (None, 25088)             0         \n",
      "_________________________________________________________________\n",
      "dense_1 (Dense)              (None, 4096)              102764544 \n",
      "_________________________________________________________________\n",
      "dense_2 (Dense)              (None, 4096)              16781312  \n",
      "_________________________________________________________________\n",
      "dense_3 (Dense)              (None, 10)                40970     \n",
      "=================================================================\n",
      "Total params: 134,300,362\n",
      "Trainable params: 134,300,362\n",
      "Non-trainable params: 0\n",
      "_________________________________________________________________\n"
     ]
    }
   ],
   "source": [
    "img_size = 224\n",
    "extra = 'big'\n",
    "model = load_model(os.path.join(os.getcwd(), 'model_{}_{}.h5'.format(img_size, extra)))\n",
    "model.summary()"
   ]
  },
  {
   "cell_type": "code",
   "execution_count": 6,
   "metadata": {},
   "outputs": [
    {
     "output_type": "execute_result",
     "data": {
      "text/plain": [
       "dict_keys(['-90', '-89', '-88', '-87', '-86', '-85', '-84', '-83', '-82', '-81', '-80', '-79', '-78', '-77', '-76', '-75', '-74', '-73', '-72', '-71', '-70', '-69', '-68', '-67', '-66', '-65', '-64', '-63', '-62', '-61', '-60', '-59', '-58', '-57', '-56', '-55', '-54', '-53', '-52', '-51', '-50', '-49', '-48', '-47', '-46', '-45', '-44', '-43', '-42', '-41', '-40', '-39', '-38', '-37', '-36', '-35', '-34', '-33', '-32', '-31', '-30', '-29', '-28', '-27', '-26', '-25', '-24', '-23', '-22', '-21', '-20', '-19', '-18', '-17', '-16', '-15', '-14', '-13', '-12', '-11', '-10', '-9', '-8', '-7', '-6', '-5', '-4', '-3', '-2', '-1', '0', '1', '2', '3', '4', '5', '6', '7', '8', '9', '10', '11', '12', '13', '14', '15', '16', '17', '18', '19', '20', '21', '22', '23', '24', '25', '26', '27', '28', '29', '30', '31', '32', '33', '34', '35', '36', '37', '38', '39', '40', '41', '42', '43', '44', '45', '46', '47', '48', '49', '50', '51', '52', '53', '54', '55', '56', '57', '58', '59', '60', '61', '62', '63', '64', '65', '66', '67', '68', '69', '70', '71', '72', '73', '74', '75', '76', '77', '78', '79', '80', '81', '82', '83', '84', '85', '86', '87', '88', '89', '90'])"
      ]
     },
     "metadata": {},
     "execution_count": 6
    }
   ],
   "source": [
    "all_test.keys()"
   ]
  },
  {
   "cell_type": "code",
   "execution_count": 7,
   "metadata": {},
   "outputs": [],
   "source": [
    "sample_idx = 0\n",
    "(x_test, y_test) = np.copy(all_test[str(sample_idx)][0]), np.copy(all_test[str(sample_idx)][1])\n",
    "# Normalize\n",
    "x_test *= (1.0/255)\n",
    "predictions_probs = model.predict_proba(x_test)\n",
    "predictions_class = model.predict_classes(x_test)"
   ]
  },
  {
   "cell_type": "code",
   "execution_count": 8,
   "metadata": {},
   "outputs": [
    {
     "output_type": "stream",
     "name": "stdout",
     "text": [
      "[1 1 1 1 6 6 1 1 1 1]\n[5 0 2 6 3 8 1 9 4 7]\n"
     ]
    }
   ],
   "source": [
    "print(predictions_class)\n",
    "y_true = np.argmax(y_test, axis=1)\n",
    "print(y_true)"
   ]
  },
  {
   "cell_type": "code",
   "execution_count": 9,
   "metadata": {},
   "outputs": [
    {
     "output_type": "stream",
     "name": "stdout",
     "text": [
      "[1 1]\n[[1.5756788e-14 9.5655417e-01 1.9655419e-12 1.9621926e-05 9.6823351e-06\n  3.2155456e-09 4.3416504e-02 9.6505555e-12 9.1132542e-09 1.7512228e-08]\n [2.7930835e-14 9.7979480e-01 6.1156282e-17 5.4478777e-09 1.5891583e-06\n  1.4618158e-07 2.0203527e-02 1.4300702e-15 3.3681370e-11 1.7564881e-08]]\n[1.        1.0000001]\n"
     ]
    }
   ],
   "source": [
    "print(model.predict_classes(x_test[0:2]))\n",
    "\n",
    "print(model.predict(x_test[0:2]))\n",
    "print(np.sum(model.predict(x_test[0:2]), axis=1))"
   ]
  },
  {
   "cell_type": "code",
   "execution_count": 10,
   "metadata": {},
   "outputs": [
    {
     "output_type": "stream",
     "name": "stdout",
     "text": [
      "Sum probs: [1.         1.         1.         0.99999994 0.9999999  1.0000001\n 0.99999994 1.         0.99999994 0.99999994]\n\nMax prob: [0.9565543  0.9797948  0.9781684  0.9876945  0.5466031  0.49848226\n 0.9965318  0.95846945 0.995777   0.9268536 ]\n"
     ]
    },
    {
     "output_type": "display_data",
     "data": {
      "text/plain": "'All probs:'"
     },
     "metadata": {}
    },
    {
     "output_type": "display_data",
     "data": {
      "text/plain": "array([1, 6, 3, 4, 9, 8, 5, 7, 2, 0])"
     },
     "metadata": {}
    },
    {
     "output_type": "stream",
     "name": "stdout",
     "text": [
      "\n[[1 6 3 4 9 8 5 7 2 0]\n [1 6 4 5 9 3 8 0 7 2]]\n"
     ]
    },
    {
     "output_type": "display_data",
     "data": {
      "text/plain": "array([[1.5756788e-14, 9.5655417e-01, 1.9655419e-12, 1.9621926e-05,\n        9.6823351e-06, 3.2155456e-09, 4.3416504e-02, 9.6505555e-12,\n        9.1132542e-09, 1.7512228e-08],\n       [2.7930835e-14, 9.7979480e-01, 6.1156282e-17, 5.4478777e-09,\n        1.5891583e-06, 1.4618158e-07, 2.0203527e-02, 1.4300702e-15,\n        3.3681370e-11, 1.7564881e-08]], dtype=float32)"
     },
     "metadata": {}
    }
   ],
   "source": [
    "print(\"Sum probs:\", np.sum(predictions_probs, axis=1))\n",
    "print(\"\\nMax prob:\", np.max(predictions_probs, axis=1))\n",
    "display(\"All probs:\", predictions_probs[0].argsort()[::-1])\n",
    "print(\"\")\n",
    "# print(model.predict(x_test[0:2]).argsort(axis=1)[::-1])\n",
    "# print(np.take_along_axis(a, sorted(range(len(a)), key=lambda i: a[i])))\n",
    "# print(model.predict(x_test[0:2]))\n",
    "top_classes = np.apply_along_axis(np.argsort, 1, model.predict(x_test[0:2]))\n",
    "top_classes = np.apply_along_axis(np.flip, -1, top_classes)\n",
    "print(top_classes)\n",
    "# print(predictions_probs.argsort()[::-1])\n",
    "display(model.predict(x_test[0:2]))"
   ]
  },
  {
   "cell_type": "code",
   "execution_count": 11,
   "metadata": {
    "tags": []
   },
   "outputs": [
    {
     "output_type": "stream",
     "name": "stdout",
     "text": [
      "Accuracy on -90 degrees: 10.0%\n",
      "Accuracy on -89 degrees: 10.0%\n",
      "Accuracy on -88 degrees: 10.0%\n",
      "Accuracy on -87 degrees: 10.0%\n",
      "Accuracy on -86 degrees: 10.0%\n",
      "Accuracy on -85 degrees: 10.0%\n",
      "Accuracy on -84 degrees: 10.0%\n",
      "Accuracy on -83 degrees: 10.0%\n",
      "Accuracy on -82 degrees: 10.0%\n",
      "Accuracy on -81 degrees: 10.0%\n",
      "Accuracy on -80 degrees: 10.0%\n",
      "Accuracy on -79 degrees: 10.0%\n",
      "Accuracy on -78 degrees: 10.0%\n",
      "Accuracy on -77 degrees: 10.0%\n",
      "Accuracy on -76 degrees: 10.0%\n",
      "Accuracy on -75 degrees: 10.0%\n",
      "Accuracy on -74 degrees: 10.0%\n",
      "Accuracy on -73 degrees: 10.0%\n",
      "Accuracy on -72 degrees: 10.0%\n",
      "Accuracy on -71 degrees: 10.0%\n",
      "Accuracy on -70 degrees: 10.0%\n",
      "Accuracy on -69 degrees: 10.0%\n",
      "Accuracy on -68 degrees: 10.0%\n",
      "Accuracy on -67 degrees: 10.0%\n",
      "Accuracy on -66 degrees: 10.0%\n",
      "Accuracy on -65 degrees: 10.0%\n",
      "Accuracy on -64 degrees: 10.0%\n",
      "Accuracy on -63 degrees: 10.0%\n",
      "Accuracy on -62 degrees: 10.0%\n",
      "Accuracy on -61 degrees: 10.0%\n",
      "Accuracy on -60 degrees: 10.0%\n",
      "Accuracy on -59 degrees: 10.0%\n",
      "Accuracy on -58 degrees: 10.0%\n",
      "Accuracy on -57 degrees: 10.0%\n",
      "Accuracy on -56 degrees: 10.0%\n",
      "Accuracy on -55 degrees: 10.0%\n",
      "Accuracy on -54 degrees: 10.0%\n",
      "Accuracy on -53 degrees: 10.0%\n",
      "Accuracy on -52 degrees: 10.0%\n",
      "Accuracy on -51 degrees: 10.0%\n",
      "Accuracy on -50 degrees: 10.0%\n",
      "Accuracy on -49 degrees: 10.0%\n",
      "Accuracy on -48 degrees: 10.0%\n",
      "Accuracy on -47 degrees: 10.0%\n",
      "Accuracy on -46 degrees: 10.0%\n",
      "Accuracy on -45 degrees: 10.0%\n",
      "Accuracy on -44 degrees: 10.0%\n",
      "Accuracy on -43 degrees: 10.0%\n",
      "Accuracy on -42 degrees: 10.0%\n",
      "Accuracy on -41 degrees: 10.0%\n",
      "Accuracy on -40 degrees: 10.0%\n",
      "Accuracy on -39 degrees: 10.0%\n",
      "Accuracy on -38 degrees: 10.0%\n",
      "Accuracy on -37 degrees: 10.0%\n",
      "Accuracy on -36 degrees: 10.0%\n",
      "Accuracy on -35 degrees: 10.0%\n",
      "Accuracy on -34 degrees: 10.0%\n",
      "Accuracy on -33 degrees: 10.0%\n",
      "Accuracy on -32 degrees: 10.0%\n",
      "Accuracy on -31 degrees: 10.0%\n",
      "Accuracy on -30 degrees: 10.0%\n",
      "Accuracy on -29 degrees: 10.0%\n",
      "Accuracy on -28 degrees: 10.0%\n",
      "Accuracy on -27 degrees: 10.0%\n",
      "Accuracy on -26 degrees: 10.0%\n",
      "Accuracy on -25 degrees: 10.0%\n",
      "Accuracy on -24 degrees: 10.0%\n",
      "Accuracy on -23 degrees: 10.0%\n",
      "Accuracy on -22 degrees: 10.0%\n",
      "Accuracy on -21 degrees: 10.0%\n",
      "Accuracy on -20 degrees: 10.0%\n",
      "Accuracy on -19 degrees: 10.0%\n",
      "Accuracy on -18 degrees: 10.0%\n",
      "Accuracy on -17 degrees: 10.0%\n",
      "Accuracy on -16 degrees: 10.0%\n",
      "Accuracy on -15 degrees: 10.0%\n",
      "Accuracy on -14 degrees: 10.0%\n",
      "Accuracy on -13 degrees: 10.0%\n",
      "Accuracy on -12 degrees: 10.0%\n",
      "Accuracy on -11 degrees: 10.0%\n",
      "Accuracy on -10 degrees: 10.0%\n",
      "Accuracy on -9 degrees: 10.0%\n",
      "Accuracy on -8 degrees: 10.0%\n",
      "Accuracy on -7 degrees: 10.0%\n",
      "Accuracy on -6 degrees: 10.0%\n",
      "Accuracy on -5 degrees: 10.0%\n",
      "Accuracy on -4 degrees: 10.0%\n",
      "Accuracy on -3 degrees: 10.0%\n",
      "Accuracy on -2 degrees: 10.0%\n",
      "Accuracy on -1 degrees: 10.0%\n",
      "Accuracy on 0 degrees: 10.0%\n",
      "Accuracy on 1 degrees: 10.0%\n",
      "Accuracy on 2 degrees: 10.0%\n",
      "Accuracy on 3 degrees: 10.0%\n",
      "Accuracy on 4 degrees: 10.0%\n",
      "Accuracy on 5 degrees: 10.0%\n",
      "Accuracy on 6 degrees: 10.0%\n",
      "Accuracy on 7 degrees: 10.0%\n",
      "Accuracy on 8 degrees: 10.0%\n",
      "Accuracy on 9 degrees: 10.0%\n",
      "Accuracy on 10 degrees: 10.0%\n",
      "Accuracy on 11 degrees: 10.0%\n",
      "Accuracy on 12 degrees: 10.0%\n",
      "Accuracy on 13 degrees: 10.0%\n",
      "Accuracy on 14 degrees: 10.0%\n",
      "Accuracy on 15 degrees: 10.0%\n",
      "Accuracy on 16 degrees: 10.0%\n",
      "Accuracy on 17 degrees: 10.0%\n",
      "Accuracy on 18 degrees: 10.0%\n",
      "Accuracy on 19 degrees: 10.0%\n",
      "Accuracy on 20 degrees: 10.0%\n",
      "Accuracy on 21 degrees: 10.0%\n",
      "Accuracy on 22 degrees: 10.0%\n",
      "Accuracy on 23 degrees: 10.0%\n",
      "Accuracy on 24 degrees: 10.0%\n",
      "Accuracy on 25 degrees: 10.0%\n",
      "Accuracy on 26 degrees: 10.0%\n",
      "Accuracy on 27 degrees: 10.0%\n",
      "Accuracy on 28 degrees: 10.0%\n",
      "Accuracy on 29 degrees: 10.0%\n",
      "Accuracy on 30 degrees: 10.0%\n",
      "Accuracy on 31 degrees: 10.0%\n",
      "Accuracy on 32 degrees: 10.0%\n",
      "Accuracy on 33 degrees: 10.0%\n",
      "Accuracy on 34 degrees: 10.0%\n",
      "Accuracy on 35 degrees: 10.0%\n",
      "Accuracy on 36 degrees: 10.0%\n",
      "Accuracy on 37 degrees: 10.0%\n",
      "Accuracy on 38 degrees: 10.0%\n",
      "Accuracy on 39 degrees: 10.0%\n",
      "Accuracy on 40 degrees: 10.0%\n",
      "Accuracy on 41 degrees: 10.0%\n",
      "Accuracy on 42 degrees: 10.0%\n",
      "Accuracy on 43 degrees: 10.0%\n",
      "Accuracy on 44 degrees: 10.0%\n",
      "Accuracy on 45 degrees: 10.0%\n",
      "Accuracy on 46 degrees: 10.0%\n",
      "Accuracy on 47 degrees: 10.0%\n",
      "Accuracy on 48 degrees: 10.0%\n",
      "Accuracy on 49 degrees: 10.0%\n",
      "Accuracy on 50 degrees: 10.0%\n",
      "Accuracy on 51 degrees: 10.0%\n",
      "Accuracy on 52 degrees: 10.0%\n",
      "Accuracy on 53 degrees: 10.0%\n",
      "Accuracy on 54 degrees: 10.0%\n",
      "Accuracy on 55 degrees: 10.0%\n",
      "Accuracy on 56 degrees: 10.0%\n",
      "Accuracy on 57 degrees: 10.0%\n",
      "Accuracy on 58 degrees: 10.0%\n",
      "Accuracy on 59 degrees: 10.0%\n",
      "Accuracy on 60 degrees: 10.0%\n",
      "Accuracy on 61 degrees: 10.0%\n",
      "Accuracy on 62 degrees: 10.0%\n",
      "Accuracy on 63 degrees: 10.0%\n",
      "Accuracy on 64 degrees: 10.0%\n",
      "Accuracy on 65 degrees: 10.0%\n",
      "Accuracy on 66 degrees: 10.0%\n",
      "Accuracy on 67 degrees: 10.0%\n",
      "Accuracy on 68 degrees: 10.0%\n",
      "Accuracy on 69 degrees: 10.0%\n",
      "Accuracy on 70 degrees: 10.0%\n",
      "Accuracy on 71 degrees: 10.0%\n",
      "Accuracy on 72 degrees: 10.0%\n",
      "Accuracy on 73 degrees: 10.0%\n",
      "Accuracy on 74 degrees: 10.0%\n",
      "Accuracy on 75 degrees: 10.0%\n",
      "Accuracy on 76 degrees: 10.0%\n",
      "Accuracy on 77 degrees: 10.0%\n",
      "Accuracy on 78 degrees: 10.0%\n",
      "Accuracy on 79 degrees: 10.0%\n",
      "Accuracy on 80 degrees: 10.0%\n",
      "Accuracy on 81 degrees: 10.0%\n",
      "Accuracy on 82 degrees: 10.0%\n",
      "Accuracy on 83 degrees: 10.0%\n",
      "Accuracy on 84 degrees: 10.0%\n",
      "Accuracy on 85 degrees: 10.0%\n",
      "Accuracy on 86 degrees: 10.0%\n",
      "Accuracy on 87 degrees: 10.0%\n",
      "Accuracy on 88 degrees: 10.0%\n",
      "Accuracy on 89 degrees: 10.0%\n",
      "Accuracy on 90 degrees: 10.0%\n"
     ]
    }
   ],
   "source": [
    "all_acc = {}\n",
    "all_probs = {}\n",
    "raw_data = []\n",
    "for k in all_test.keys():\n",
    "    (x_test, y_test) = np.copy(all_test[k][0]), np.copy(all_test[k][1])\n",
    "    # Normalize\n",
    "    x_test *= (1.0/255)\n",
    "    # Calculate accuracy\n",
    "    predictions = model.predict(x_test)\n",
    "    y_true = np.argmax(y_test, axis=1)\n",
    "    y_pred = np.argmax(predictions, axis=1)\n",
    "    accuracy = np.sum(y_pred == y_true) / len(y_test)\n",
    "    all_acc[k] = accuracy\n",
    "    y_pred_prob = np.max(predictions, axis=1)\n",
    "    top_pred_categories = np.apply_along_axis(np.argsort, 1, predictions)\n",
    "    top_pred_categories = np.apply_along_axis(np.flip, -1, top_pred_categories)\n",
    "    print(\"Accuracy on {} degrees: {}%\".format(k, accuracy * 100))\n",
    "    # print(\"True:{tr}; Predicted:{pr}; Prob:{prob}\".format(tr=np.argmax(y_test, axis=1), pr=np.argmax(predictions, axis=1), prob=np.max(predictions, axis=1)))\n",
    "    for i in range(len(y_test)):\n",
    "        n = [int(k), accuracy, y_true[i], y_pred[i], y_pred_prob[i], top_pred_categories[i]]\n",
    "        n.extend(predictions[i])\n",
    "        raw_data.append(n)\n"
   ]
  },
  {
   "cell_type": "code",
   "execution_count": 12,
   "metadata": {},
   "outputs": [],
   "source": [
    "class_names = ltemp.get_class_names()\n",
    "class_idx = [idx for idx, name in enumerate(class_names['train'])]\n",
    "\n",
    "class_cols = [\"Prob_C{}\".format(i) for i in class_idx]\n",
    "cols = ['z_angle', \"acc\", \"y_true\", \"y_pred\", \"y_pred_prob\", \"top_pred_categories\"]\n",
    "cols.extend(class_cols)\n",
    "\n",
    "df_main = pd.DataFrame(raw_data, columns=cols)"
   ]
  },
  {
   "cell_type": "code",
   "execution_count": 13,
   "metadata": {},
   "outputs": [],
   "source": [
    "def df_column_switch(df, column1, column2):\n",
    "    ''' Swaps two column positions by name in a dataframe.\n",
    "    Source: https://stackoverflow.com/a/56693510/4017530 '''\n",
    "    i = list(df.columns)\n",
    "    a, b = i.index(column1), i.index(column2)\n",
    "    i[b], i[a] = i[a], i[b]\n",
    "    df = df[i]\n",
    "    return df\n",
    "\n",
    "df_main['top2_pred_categories'] = df_main['top_pred_categories'].apply(lambda x: x[:2])\n",
    "df_main = df_column_switch(df_main, 'top_pred_categories', 'top2_pred_categories')"
   ]
  },
  {
   "cell_type": "code",
   "execution_count": 14,
   "metadata": {},
   "outputs": [
    {
     "output_type": "display_data",
     "data": {
      "text/plain": "      z_angle  acc  y_true  y_pred  y_pred_prob top2_pred_categories  \\\n0         -90  0.1       5       1     0.994661               [1, 6]   \n1         -90  0.1       0       1     0.994905               [1, 6]   \n1808       90  0.1       3       1     0.989577               [1, 6]   \n1809       90  0.1       4       1     0.995019               [1, 6]   \n\n           Prob_C0   Prob_C1       Prob_C2       Prob_C3   Prob_C4  \\\n0     2.723567e-12  0.994661  1.612529e-10  7.422394e-07  0.000006   \n1     7.099875e-11  0.994905  3.130554e-12  2.281871e-07  0.000046   \n1808  3.749774e-13  0.989577  1.303059e-14  5.412365e-10  0.000023   \n1809  6.137778e-11  0.995019  8.803070e-11  5.829841e-06  0.000005   \n\n           Prob_C5   Prob_C6       Prob_C7       Prob_C8       Prob_C9  \\\n0     1.622788e-10  0.005332  1.698802e-12  6.332986e-13  4.571901e-11   \n1     9.828935e-09  0.005049  5.062714e-14  2.871282e-13  3.112042e-10   \n1808  5.715054e-08  0.010398  1.374737e-13  5.239868e-12  1.285421e-06   \n1809  1.974175e-09  0.004971  6.491759e-14  8.415178e-12  1.818391e-11   \n\n                 top_pred_categories  \n0     [1, 6, 4, 3, 5, 2, 9, 0, 7, 8]  \n1     [1, 6, 4, 3, 5, 9, 0, 2, 8, 7]  \n1808  [1, 6, 4, 9, 5, 3, 8, 0, 7, 2]  \n1809  [1, 6, 3, 4, 5, 2, 0, 9, 8, 7]  ",
      "text/html": "<div>\n<style scoped>\n    .dataframe tbody tr th:only-of-type {\n        vertical-align: middle;\n    }\n\n    .dataframe tbody tr th {\n        vertical-align: top;\n    }\n\n    .dataframe thead th {\n        text-align: right;\n    }\n</style>\n<table border=\"1\" class=\"dataframe\">\n  <thead>\n    <tr style=\"text-align: right;\">\n      <th></th>\n      <th>z_angle</th>\n      <th>acc</th>\n      <th>y_true</th>\n      <th>y_pred</th>\n      <th>y_pred_prob</th>\n      <th>top2_pred_categories</th>\n      <th>Prob_C0</th>\n      <th>Prob_C1</th>\n      <th>Prob_C2</th>\n      <th>Prob_C3</th>\n      <th>Prob_C4</th>\n      <th>Prob_C5</th>\n      <th>Prob_C6</th>\n      <th>Prob_C7</th>\n      <th>Prob_C8</th>\n      <th>Prob_C9</th>\n      <th>top_pred_categories</th>\n    </tr>\n  </thead>\n  <tbody>\n    <tr>\n      <th>0</th>\n      <td>-90</td>\n      <td>0.1</td>\n      <td>5</td>\n      <td>1</td>\n      <td>0.994661</td>\n      <td>[1, 6]</td>\n      <td>2.723567e-12</td>\n      <td>0.994661</td>\n      <td>1.612529e-10</td>\n      <td>7.422394e-07</td>\n      <td>0.000006</td>\n      <td>1.622788e-10</td>\n      <td>0.005332</td>\n      <td>1.698802e-12</td>\n      <td>6.332986e-13</td>\n      <td>4.571901e-11</td>\n      <td>[1, 6, 4, 3, 5, 2, 9, 0, 7, 8]</td>\n    </tr>\n    <tr>\n      <th>1</th>\n      <td>-90</td>\n      <td>0.1</td>\n      <td>0</td>\n      <td>1</td>\n      <td>0.994905</td>\n      <td>[1, 6]</td>\n      <td>7.099875e-11</td>\n      <td>0.994905</td>\n      <td>3.130554e-12</td>\n      <td>2.281871e-07</td>\n      <td>0.000046</td>\n      <td>9.828935e-09</td>\n      <td>0.005049</td>\n      <td>5.062714e-14</td>\n      <td>2.871282e-13</td>\n      <td>3.112042e-10</td>\n      <td>[1, 6, 4, 3, 5, 9, 0, 2, 8, 7]</td>\n    </tr>\n    <tr>\n      <th>1808</th>\n      <td>90</td>\n      <td>0.1</td>\n      <td>3</td>\n      <td>1</td>\n      <td>0.989577</td>\n      <td>[1, 6]</td>\n      <td>3.749774e-13</td>\n      <td>0.989577</td>\n      <td>1.303059e-14</td>\n      <td>5.412365e-10</td>\n      <td>0.000023</td>\n      <td>5.715054e-08</td>\n      <td>0.010398</td>\n      <td>1.374737e-13</td>\n      <td>5.239868e-12</td>\n      <td>1.285421e-06</td>\n      <td>[1, 6, 4, 9, 5, 3, 8, 0, 7, 2]</td>\n    </tr>\n    <tr>\n      <th>1809</th>\n      <td>90</td>\n      <td>0.1</td>\n      <td>4</td>\n      <td>1</td>\n      <td>0.995019</td>\n      <td>[1, 6]</td>\n      <td>6.137778e-11</td>\n      <td>0.995019</td>\n      <td>8.803070e-11</td>\n      <td>5.829841e-06</td>\n      <td>0.000005</td>\n      <td>1.974175e-09</td>\n      <td>0.004971</td>\n      <td>6.491759e-14</td>\n      <td>8.415178e-12</td>\n      <td>1.818391e-11</td>\n      <td>[1, 6, 3, 4, 5, 2, 0, 9, 8, 7]</td>\n    </tr>\n  </tbody>\n</table>\n</div>"
     },
     "metadata": {}
    },
    {
     "output_type": "stream",
     "name": "stdout",
     "text": [
      "<class 'pandas.core.frame.DataFrame'>\nRangeIndex: 1810 entries, 0 to 1809\nData columns (total 17 columns):\n #   Column                Non-Null Count  Dtype  \n---  ------                --------------  -----  \n 0   z_angle               1810 non-null   int64  \n 1   acc                   1810 non-null   float64\n 2   y_true                1810 non-null   int64  \n 3   y_pred                1810 non-null   int64  \n 4   y_pred_prob           1810 non-null   float64\n 5   top2_pred_categories  1810 non-null   object \n 6   Prob_C0               1810 non-null   float64\n 7   Prob_C1               1810 non-null   float64\n 8   Prob_C2               1810 non-null   float64\n 9   Prob_C3               1810 non-null   float64\n 10  Prob_C4               1810 non-null   float64\n 11  Prob_C5               1810 non-null   float64\n 12  Prob_C6               1810 non-null   float64\n 13  Prob_C7               1810 non-null   float64\n 14  Prob_C8               1810 non-null   float64\n 15  Prob_C9               1810 non-null   float64\n 16  top_pred_categories   1810 non-null   object \ndtypes: float64(12), int64(3), object(2)\nmemory usage: 240.5+ KB\n"
     ]
    },
    {
     "output_type": "display_data",
     "data": {
      "text/plain": "None"
     },
     "metadata": {}
    },
    {
     "output_type": "display_data",
     "data": {
      "text/plain": "           z_angle     acc       y_true       y_pred  y_pred_prob  \\\ncount  1810.000000  1810.0  1810.000000  1810.000000  1810.000000   \nmean      0.000000     0.1     4.500000     1.138122     0.928922   \nstd      52.263841     0.0     2.873075     0.819696     0.127239   \nmin     -90.000000     0.1     0.000000     1.000000     0.498482   \n25%     -45.000000     0.1     2.000000     1.000000     0.957779   \n50%       0.000000     0.1     4.500000     1.000000     0.983682   \n75%      45.000000     0.1     7.000000     1.000000     0.992306   \nmax      90.000000     0.1     9.000000     6.000000     0.997993   \n\n            Prob_C0      Prob_C1       Prob_C2       Prob_C3       Prob_C4  \\\ncount  1.810000e+03  1810.000000  1.810000e+03  1.810000e+03  1.810000e+03   \nmean   3.763621e-05     0.927818  1.945564e-09  2.452906e-04  8.688005e-03   \nstd    2.336720e-04     0.130912  7.864488e-09  9.268584e-04  4.516637e-02   \nmin    2.970508e-17     0.453181  1.978264e-17  8.155056e-14  1.058954e-08   \n25%    5.241883e-15     0.957779  1.218229e-14  1.588189e-09  4.472935e-07   \n50%    5.389085e-14     0.983682  2.042788e-12  1.499355e-07  3.559007e-06   \n75%    4.137279e-12     0.992306  1.165672e-10  8.237386e-06  3.446244e-05   \nmax    2.640865e-03     0.997993  7.171190e-08  7.957205e-03  3.629158e-01   \n\n            Prob_C5      Prob_C6       Prob_C7       Prob_C8       Prob_C9  \ncount  1.810000e+03  1810.000000  1.810000e+03  1.810000e+03  1.810000e+03  \nmean   7.465051e-07     0.063152  1.703366e-08  2.596596e-05  3.204789e-05  \nstd    2.965251e-06     0.124479  8.165340e-08  1.393088e-04  1.477594e-04  \nmin    4.928600e-12     0.002007  8.465701e-16  6.379511e-16  1.953266e-12  \n25%    1.606618e-09     0.007378  7.823233e-14  7.797138e-13  8.805054e-10  \n50%    4.287596e-08     0.015815  5.254792e-13  2.576310e-11  6.390792e-08  \n75%    1.510878e-07     0.035161  1.936723e-11  4.750045e-09  2.191884e-06  \nmax    2.591469e-05     0.546603  7.705391e-07  1.286059e-03  1.348911e-03  ",
      "text/html": "<div>\n<style scoped>\n    .dataframe tbody tr th:only-of-type {\n        vertical-align: middle;\n    }\n\n    .dataframe tbody tr th {\n        vertical-align: top;\n    }\n\n    .dataframe thead th {\n        text-align: right;\n    }\n</style>\n<table border=\"1\" class=\"dataframe\">\n  <thead>\n    <tr style=\"text-align: right;\">\n      <th></th>\n      <th>z_angle</th>\n      <th>acc</th>\n      <th>y_true</th>\n      <th>y_pred</th>\n      <th>y_pred_prob</th>\n      <th>Prob_C0</th>\n      <th>Prob_C1</th>\n      <th>Prob_C2</th>\n      <th>Prob_C3</th>\n      <th>Prob_C4</th>\n      <th>Prob_C5</th>\n      <th>Prob_C6</th>\n      <th>Prob_C7</th>\n      <th>Prob_C8</th>\n      <th>Prob_C9</th>\n    </tr>\n  </thead>\n  <tbody>\n    <tr>\n      <th>count</th>\n      <td>1810.000000</td>\n      <td>1810.0</td>\n      <td>1810.000000</td>\n      <td>1810.000000</td>\n      <td>1810.000000</td>\n      <td>1.810000e+03</td>\n      <td>1810.000000</td>\n      <td>1.810000e+03</td>\n      <td>1.810000e+03</td>\n      <td>1.810000e+03</td>\n      <td>1.810000e+03</td>\n      <td>1810.000000</td>\n      <td>1.810000e+03</td>\n      <td>1.810000e+03</td>\n      <td>1.810000e+03</td>\n    </tr>\n    <tr>\n      <th>mean</th>\n      <td>0.000000</td>\n      <td>0.1</td>\n      <td>4.500000</td>\n      <td>1.138122</td>\n      <td>0.928922</td>\n      <td>3.763621e-05</td>\n      <td>0.927818</td>\n      <td>1.945564e-09</td>\n      <td>2.452906e-04</td>\n      <td>8.688005e-03</td>\n      <td>7.465051e-07</td>\n      <td>0.063152</td>\n      <td>1.703366e-08</td>\n      <td>2.596596e-05</td>\n      <td>3.204789e-05</td>\n    </tr>\n    <tr>\n      <th>std</th>\n      <td>52.263841</td>\n      <td>0.0</td>\n      <td>2.873075</td>\n      <td>0.819696</td>\n      <td>0.127239</td>\n      <td>2.336720e-04</td>\n      <td>0.130912</td>\n      <td>7.864488e-09</td>\n      <td>9.268584e-04</td>\n      <td>4.516637e-02</td>\n      <td>2.965251e-06</td>\n      <td>0.124479</td>\n      <td>8.165340e-08</td>\n      <td>1.393088e-04</td>\n      <td>1.477594e-04</td>\n    </tr>\n    <tr>\n      <th>min</th>\n      <td>-90.000000</td>\n      <td>0.1</td>\n      <td>0.000000</td>\n      <td>1.000000</td>\n      <td>0.498482</td>\n      <td>2.970508e-17</td>\n      <td>0.453181</td>\n      <td>1.978264e-17</td>\n      <td>8.155056e-14</td>\n      <td>1.058954e-08</td>\n      <td>4.928600e-12</td>\n      <td>0.002007</td>\n      <td>8.465701e-16</td>\n      <td>6.379511e-16</td>\n      <td>1.953266e-12</td>\n    </tr>\n    <tr>\n      <th>25%</th>\n      <td>-45.000000</td>\n      <td>0.1</td>\n      <td>2.000000</td>\n      <td>1.000000</td>\n      <td>0.957779</td>\n      <td>5.241883e-15</td>\n      <td>0.957779</td>\n      <td>1.218229e-14</td>\n      <td>1.588189e-09</td>\n      <td>4.472935e-07</td>\n      <td>1.606618e-09</td>\n      <td>0.007378</td>\n      <td>7.823233e-14</td>\n      <td>7.797138e-13</td>\n      <td>8.805054e-10</td>\n    </tr>\n    <tr>\n      <th>50%</th>\n      <td>0.000000</td>\n      <td>0.1</td>\n      <td>4.500000</td>\n      <td>1.000000</td>\n      <td>0.983682</td>\n      <td>5.389085e-14</td>\n      <td>0.983682</td>\n      <td>2.042788e-12</td>\n      <td>1.499355e-07</td>\n      <td>3.559007e-06</td>\n      <td>4.287596e-08</td>\n      <td>0.015815</td>\n      <td>5.254792e-13</td>\n      <td>2.576310e-11</td>\n      <td>6.390792e-08</td>\n    </tr>\n    <tr>\n      <th>75%</th>\n      <td>45.000000</td>\n      <td>0.1</td>\n      <td>7.000000</td>\n      <td>1.000000</td>\n      <td>0.992306</td>\n      <td>4.137279e-12</td>\n      <td>0.992306</td>\n      <td>1.165672e-10</td>\n      <td>8.237386e-06</td>\n      <td>3.446244e-05</td>\n      <td>1.510878e-07</td>\n      <td>0.035161</td>\n      <td>1.936723e-11</td>\n      <td>4.750045e-09</td>\n      <td>2.191884e-06</td>\n    </tr>\n    <tr>\n      <th>max</th>\n      <td>90.000000</td>\n      <td>0.1</td>\n      <td>9.000000</td>\n      <td>6.000000</td>\n      <td>0.997993</td>\n      <td>2.640865e-03</td>\n      <td>0.997993</td>\n      <td>7.171190e-08</td>\n      <td>7.957205e-03</td>\n      <td>3.629158e-01</td>\n      <td>2.591469e-05</td>\n      <td>0.546603</td>\n      <td>7.705391e-07</td>\n      <td>1.286059e-03</td>\n      <td>1.348911e-03</td>\n    </tr>\n  </tbody>\n</table>\n</div>"
     },
     "metadata": {}
    }
   ],
   "source": [
    "display(ends(df_main, n=2))\n",
    "display(df_main.info())\n",
    "display(df_main.describe())"
   ]
  },
  {
   "cell_type": "code",
   "execution_count": 15,
   "metadata": {},
   "outputs": [
    {
     "output_type": "display_data",
     "data": {
      "text/plain": "                           y_true  y_pred  y_pred_prob top2_pred_categories  \\\nz_angle acc misclassified                                                     \n-90     0.1 0                   1       1     0.974926               [1, 6]   \n            1                   2       1     0.997862               [1, 6]   \n            1                   4       1     0.997835               [1, 6]   \n            1                   9       1     0.997223               [1, 6]   \n            1                   0       1     0.994905               [1, 6]   \n            1                   5       1     0.994661               [1, 6]   \n            1                   6       1     0.993404               [1, 6]   \n            1                   3       1     0.989860               [1, 6]   \n            1                   7       1     0.983734               [1, 6]   \n            1                   8       1     0.833776               [1, 6]   \n-89     0.1 0                   1       1     0.974280               [1, 6]   \n            1                   2       1     0.997908               [1, 6]   \n            1                   4       1     0.997795               [1, 6]   \n            1                   9       1     0.997201               [1, 6]   \n            1                   0       1     0.994845               [1, 6]   \n            1                   5       1     0.994627               [1, 6]   \n            1                   6       1     0.993469               [1, 6]   \n            1                   3       1     0.989861               [1, 6]   \n            1                   7       1     0.984083               [1, 6]   \n            1                   8       1     0.829891               [1, 6]   \n-88     0.1 0                   1       1     0.973405               [1, 6]   \n            1                   2       1     0.997916               [1, 6]   \n            1                   4       1     0.997682               [1, 6]   \n            1                   9       1     0.997160               [1, 6]   \n            1                   0       1     0.994803               [1, 6]   \n            1                   5       1     0.994672               [1, 6]   \n            1                   6       1     0.993500               [1, 6]   \n            1                   3       1     0.989688               [1, 6]   \n            1                   7       1     0.984140               [1, 6]   \n            1                   8       1     0.830636               [1, 6]   \n\n                                Prob_C0   Prob_C1       Prob_C2       Prob_C3  \\\nz_angle acc misclassified                                                       \n-90     0.1 0              6.931580e-05  0.974926  2.967077e-10  3.274851e-08   \n            1              4.005441e-13  0.997862  5.591542e-16  9.657992e-14   \n            1              9.241131e-12  0.997835  3.251036e-11  7.214830e-07   \n            1              2.615762e-16  0.997223  1.704294e-10  4.756238e-06   \n            1              7.099875e-11  0.994905  3.130554e-12  2.281871e-07   \n            1              2.723567e-12  0.994661  1.612529e-10  7.422394e-07   \n            1              5.396280e-11  0.993404  3.075410e-12  1.937856e-10   \n            1              2.746020e-13  0.989860  8.424774e-15  1.360755e-10   \n            1              6.326467e-15  0.983734  2.979339e-15  1.904261e-12   \n            1              1.774563e-14  0.833776  1.370083e-12  4.887775e-08   \n-89     0.1 0              8.896739e-05  0.974280  3.216792e-10  3.549540e-08   \n            1              4.258571e-13  0.997908  5.521976e-16  8.970553e-14   \n            1              1.054092e-11  0.997795  3.541770e-11  7.730893e-07   \n            1              2.706352e-16  0.997201  1.966609e-10  5.019433e-06   \n            1              7.870942e-11  0.994845  3.398777e-12  2.455992e-07   \n            1              3.038590e-12  0.994627  1.828874e-10  8.107564e-07   \n            1              5.826242e-11  0.993469  3.207714e-12  1.973723e-10   \n            1              2.701930e-13  0.989861  8.436846e-15  1.360724e-10   \n            1              6.529453e-15  0.984083  2.923496e-15  1.801082e-12   \n            1              1.683515e-14  0.829891  1.446884e-12  4.885812e-08   \n-88     0.1 0              1.103691e-04  0.973405  3.453612e-10  3.829211e-08   \n            1              4.247281e-13  0.997916  5.547526e-16  8.831077e-14   \n            1              1.290419e-11  0.997682  3.774941e-11  8.470760e-07   \n            1              2.675120e-16  0.997160  2.171383e-10  5.379731e-06   \n            1              8.910359e-11  0.994803  3.488853e-12  2.565535e-07   \n            1              3.204515e-12  0.994672  1.912786e-10  8.252133e-07   \n            1              6.297912e-11  0.993500  3.380351e-12  1.987439e-10   \n            1              2.819416e-13  0.989688  9.050041e-15  1.394575e-10   \n            1              6.460553e-15  0.984140  2.915534e-15  1.775251e-12   \n            1              1.574048e-14  0.830636  1.593680e-12  4.891906e-08   \n\n                                Prob_C4       Prob_C5   Prob_C6       Prob_C7  \\\nz_angle acc misclassified                                                       \n-90     0.1 0              9.108106e-03  1.449916e-06  0.015895  2.540516e-13   \n            1              2.293455e-07  3.355054e-07  0.002137  1.015724e-15   \n            1              2.226838e-07  3.296093e-10  0.002164  6.373970e-14   \n            1              2.029379e-08  2.523230e-11  0.002772  6.028590e-11   \n            1              4.594392e-05  9.828935e-09  0.005049  5.062714e-14   \n            1              5.758533e-06  1.622788e-10  0.005332  1.698802e-12   \n            1              1.204375e-05  2.567165e-09  0.006584  1.195969e-13   \n            1              6.105892e-06  4.910959e-08  0.010134  5.869565e-14   \n            1              5.953159e-08  8.540935e-08  0.016264  6.900063e-14   \n            1              2.489817e-06  2.647449e-07  0.166208  4.674924e-10   \n-89     0.1 0              9.503617e-03  1.550758e-06  0.016126  2.563228e-13   \n            1              2.189216e-07  3.369575e-07  0.002091  9.524864e-16   \n            1              2.298589e-07  3.387268e-10  0.002204  6.591706e-14   \n            1              2.000402e-08  2.431770e-11  0.002794  6.640779e-11   \n            1              4.680944e-05  9.932900e-09  0.005108  5.250536e-14   \n            1              5.685514e-06  1.586346e-10  0.005366  1.790849e-12   \n            1              1.150366e-05  2.511656e-09  0.006520  1.185034e-13   \n            1              5.844248e-06  4.819783e-08  0.010133  5.799641e-14   \n            1              5.627290e-08  8.680679e-08  0.015915  6.663817e-14   \n            1              2.282406e-06  2.534217e-07  0.170095  4.868449e-10   \n-88     0.1 0              1.002422e-02  1.650283e-06  0.016458  2.604707e-13   \n            1              2.108386e-07  3.271935e-07  0.002083  9.360794e-16   \n            1              2.476529e-07  3.723571e-10  0.002317  6.859898e-14   \n            1              1.967251e-08  2.348137e-11  0.002835  7.322649e-11   \n            1              4.790890e-05  1.034161e-08  0.005149  5.192434e-14   \n            1              5.592132e-06  1.547462e-10  0.005321  1.802022e-12   \n            1              1.098254e-05  2.453463e-09  0.006489  1.186030e-13   \n            1              5.893102e-06  4.740306e-08  0.010306  6.020356e-14   \n            1              5.435133e-08  8.374332e-08  0.015859  6.599928e-14   \n            1              2.022321e-06  2.306843e-07  0.169352  5.117728e-10   \n\n                                Prob_C8       Prob_C9  \\\nz_angle acc misclassified                               \n-90     0.1 0              2.426284e-15  8.801569e-10   \n            1              1.376076e-15  7.762515e-07   \n            1              2.883801e-13  1.979607e-12   \n            1              1.026183e-09  1.623930e-10   \n            1              2.871282e-13  3.112042e-10   \n            1              6.332986e-13  4.571901e-11   \n            1              1.028176e-15  1.127579e-10   \n            1              1.492325e-12  2.552506e-07   \n            1              1.769868e-13  1.687499e-06   \n            1              3.464596e-08  1.286516e-05   \n-89     0.1 0              2.449815e-15  8.494165e-10   \n            1              1.236796e-15  7.201746e-07   \n            1              2.905425e-13  1.953266e-12   \n            1              1.010925e-09  1.573373e-10   \n            1              2.883832e-13  2.994314e-10   \n            1              6.237990e-13  4.152430e-11   \n            1              9.937720e-16  1.024927e-10   \n            1              1.477639e-12  2.426822e-07   \n            1              1.669086e-13  1.597527e-06   \n            1              3.458090e-08  1.176848e-05   \n-88     0.1 0              2.490936e-15  8.407164e-10   \n            1              1.194308e-15  6.770916e-07   \n            1              3.056210e-13  1.996716e-12   \n            1              1.061436e-09  1.543013e-10   \n            1              2.891537e-13  2.953554e-10   \n            1              6.061851e-13  3.946422e-11   \n            1              9.499849e-16  9.378493e-11   \n            1              1.440539e-12  2.334458e-07   \n            1              1.622313e-13  1.511000e-06   \n            1              3.250988e-08  9.859602e-06   \n\n                                      top_pred_categories  \nz_angle acc misclassified                                  \n-90     0.1 0              [1, 6, 4, 0, 5, 3, 9, 2, 7, 8]  \n            1              [1, 6, 9, 5, 4, 0, 3, 8, 7, 2]  \n            1              [1, 6, 3, 4, 5, 2, 0, 9, 8, 7]  \n            1              [1, 6, 3, 4, 8, 2, 9, 7, 5, 0]  \n            1              [1, 6, 4, 3, 5, 9, 0, 2, 8, 7]  \n            1              [1, 6, 4, 3, 5, 2, 9, 0, 7, 8]  \n            1              [1, 6, 4, 5, 3, 9, 0, 2, 7, 8]  \n            1              [1, 6, 4, 9, 5, 3, 8, 0, 7, 2]  \n            1              [1, 6, 9, 5, 4, 3, 8, 7, 0, 2]  \n            1              [1, 6, 9, 4, 5, 3, 8, 7, 2, 0]  \n-89     0.1 0              [1, 6, 4, 0, 5, 3, 9, 2, 7, 8]  \n            1              [1, 6, 9, 5, 4, 0, 3, 8, 7, 2]  \n            1              [1, 6, 3, 4, 5, 2, 0, 9, 8, 7]  \n            1              [1, 6, 3, 4, 8, 2, 9, 7, 5, 0]  \n            1              [1, 6, 4, 3, 5, 9, 0, 2, 8, 7]  \n            1              [1, 6, 4, 3, 2, 5, 9, 0, 7, 8]  \n            1              [1, 6, 4, 5, 3, 9, 0, 2, 7, 8]  \n            1              [1, 6, 4, 9, 5, 3, 8, 0, 7, 2]  \n            1              [1, 6, 9, 5, 4, 3, 8, 7, 0, 2]  \n            1              [1, 6, 9, 4, 5, 3, 8, 7, 2, 0]  \n-88     0.1 0              [1, 6, 4, 0, 5, 3, 9, 2, 7, 8]  \n            1              [1, 6, 9, 5, 4, 0, 3, 8, 7, 2]  \n            1              [1, 6, 3, 4, 5, 2, 0, 9, 8, 7]  \n            1              [1, 6, 3, 4, 8, 2, 9, 7, 5, 0]  \n            1              [1, 6, 4, 3, 5, 9, 0, 2, 8, 7]  \n            1              [1, 6, 4, 3, 2, 5, 9, 0, 7, 8]  \n            1              [1, 6, 4, 5, 3, 9, 0, 2, 7, 8]  \n            1              [1, 6, 4, 9, 5, 3, 8, 0, 7, 2]  \n            1              [1, 6, 9, 5, 4, 3, 8, 7, 0, 2]  \n            1              [1, 6, 9, 4, 5, 3, 8, 7, 2, 0]  ",
      "text/html": "<div>\n<style scoped>\n    .dataframe tbody tr th:only-of-type {\n        vertical-align: middle;\n    }\n\n    .dataframe tbody tr th {\n        vertical-align: top;\n    }\n\n    .dataframe thead th {\n        text-align: right;\n    }\n</style>\n<table border=\"1\" class=\"dataframe\">\n  <thead>\n    <tr style=\"text-align: right;\">\n      <th></th>\n      <th></th>\n      <th></th>\n      <th>y_true</th>\n      <th>y_pred</th>\n      <th>y_pred_prob</th>\n      <th>top2_pred_categories</th>\n      <th>Prob_C0</th>\n      <th>Prob_C1</th>\n      <th>Prob_C2</th>\n      <th>Prob_C3</th>\n      <th>Prob_C4</th>\n      <th>Prob_C5</th>\n      <th>Prob_C6</th>\n      <th>Prob_C7</th>\n      <th>Prob_C8</th>\n      <th>Prob_C9</th>\n      <th>top_pred_categories</th>\n    </tr>\n    <tr>\n      <th>z_angle</th>\n      <th>acc</th>\n      <th>misclassified</th>\n      <th></th>\n      <th></th>\n      <th></th>\n      <th></th>\n      <th></th>\n      <th></th>\n      <th></th>\n      <th></th>\n      <th></th>\n      <th></th>\n      <th></th>\n      <th></th>\n      <th></th>\n      <th></th>\n      <th></th>\n    </tr>\n  </thead>\n  <tbody>\n    <tr>\n      <th rowspan=\"10\" valign=\"top\">-90</th>\n      <th rowspan=\"10\" valign=\"top\">0.1</th>\n      <th>0</th>\n      <td>1</td>\n      <td>1</td>\n      <td>0.974926</td>\n      <td>[1, 6]</td>\n      <td>6.931580e-05</td>\n      <td>0.974926</td>\n      <td>2.967077e-10</td>\n      <td>3.274851e-08</td>\n      <td>9.108106e-03</td>\n      <td>1.449916e-06</td>\n      <td>0.015895</td>\n      <td>2.540516e-13</td>\n      <td>2.426284e-15</td>\n      <td>8.801569e-10</td>\n      <td>[1, 6, 4, 0, 5, 3, 9, 2, 7, 8]</td>\n    </tr>\n    <tr>\n      <th>1</th>\n      <td>2</td>\n      <td>1</td>\n      <td>0.997862</td>\n      <td>[1, 6]</td>\n      <td>4.005441e-13</td>\n      <td>0.997862</td>\n      <td>5.591542e-16</td>\n      <td>9.657992e-14</td>\n      <td>2.293455e-07</td>\n      <td>3.355054e-07</td>\n      <td>0.002137</td>\n      <td>1.015724e-15</td>\n      <td>1.376076e-15</td>\n      <td>7.762515e-07</td>\n      <td>[1, 6, 9, 5, 4, 0, 3, 8, 7, 2]</td>\n    </tr>\n    <tr>\n      <th>1</th>\n      <td>4</td>\n      <td>1</td>\n      <td>0.997835</td>\n      <td>[1, 6]</td>\n      <td>9.241131e-12</td>\n      <td>0.997835</td>\n      <td>3.251036e-11</td>\n      <td>7.214830e-07</td>\n      <td>2.226838e-07</td>\n      <td>3.296093e-10</td>\n      <td>0.002164</td>\n      <td>6.373970e-14</td>\n      <td>2.883801e-13</td>\n      <td>1.979607e-12</td>\n      <td>[1, 6, 3, 4, 5, 2, 0, 9, 8, 7]</td>\n    </tr>\n    <tr>\n      <th>1</th>\n      <td>9</td>\n      <td>1</td>\n      <td>0.997223</td>\n      <td>[1, 6]</td>\n      <td>2.615762e-16</td>\n      <td>0.997223</td>\n      <td>1.704294e-10</td>\n      <td>4.756238e-06</td>\n      <td>2.029379e-08</td>\n      <td>2.523230e-11</td>\n      <td>0.002772</td>\n      <td>6.028590e-11</td>\n      <td>1.026183e-09</td>\n      <td>1.623930e-10</td>\n      <td>[1, 6, 3, 4, 8, 2, 9, 7, 5, 0]</td>\n    </tr>\n    <tr>\n      <th>1</th>\n      <td>0</td>\n      <td>1</td>\n      <td>0.994905</td>\n      <td>[1, 6]</td>\n      <td>7.099875e-11</td>\n      <td>0.994905</td>\n      <td>3.130554e-12</td>\n      <td>2.281871e-07</td>\n      <td>4.594392e-05</td>\n      <td>9.828935e-09</td>\n      <td>0.005049</td>\n      <td>5.062714e-14</td>\n      <td>2.871282e-13</td>\n      <td>3.112042e-10</td>\n      <td>[1, 6, 4, 3, 5, 9, 0, 2, 8, 7]</td>\n    </tr>\n    <tr>\n      <th>1</th>\n      <td>5</td>\n      <td>1</td>\n      <td>0.994661</td>\n      <td>[1, 6]</td>\n      <td>2.723567e-12</td>\n      <td>0.994661</td>\n      <td>1.612529e-10</td>\n      <td>7.422394e-07</td>\n      <td>5.758533e-06</td>\n      <td>1.622788e-10</td>\n      <td>0.005332</td>\n      <td>1.698802e-12</td>\n      <td>6.332986e-13</td>\n      <td>4.571901e-11</td>\n      <td>[1, 6, 4, 3, 5, 2, 9, 0, 7, 8]</td>\n    </tr>\n    <tr>\n      <th>1</th>\n      <td>6</td>\n      <td>1</td>\n      <td>0.993404</td>\n      <td>[1, 6]</td>\n      <td>5.396280e-11</td>\n      <td>0.993404</td>\n      <td>3.075410e-12</td>\n      <td>1.937856e-10</td>\n      <td>1.204375e-05</td>\n      <td>2.567165e-09</td>\n      <td>0.006584</td>\n      <td>1.195969e-13</td>\n      <td>1.028176e-15</td>\n      <td>1.127579e-10</td>\n      <td>[1, 6, 4, 5, 3, 9, 0, 2, 7, 8]</td>\n    </tr>\n    <tr>\n      <th>1</th>\n      <td>3</td>\n      <td>1</td>\n      <td>0.989860</td>\n      <td>[1, 6]</td>\n      <td>2.746020e-13</td>\n      <td>0.989860</td>\n      <td>8.424774e-15</td>\n      <td>1.360755e-10</td>\n      <td>6.105892e-06</td>\n      <td>4.910959e-08</td>\n      <td>0.010134</td>\n      <td>5.869565e-14</td>\n      <td>1.492325e-12</td>\n      <td>2.552506e-07</td>\n      <td>[1, 6, 4, 9, 5, 3, 8, 0, 7, 2]</td>\n    </tr>\n    <tr>\n      <th>1</th>\n      <td>7</td>\n      <td>1</td>\n      <td>0.983734</td>\n      <td>[1, 6]</td>\n      <td>6.326467e-15</td>\n      <td>0.983734</td>\n      <td>2.979339e-15</td>\n      <td>1.904261e-12</td>\n      <td>5.953159e-08</td>\n      <td>8.540935e-08</td>\n      <td>0.016264</td>\n      <td>6.900063e-14</td>\n      <td>1.769868e-13</td>\n      <td>1.687499e-06</td>\n      <td>[1, 6, 9, 5, 4, 3, 8, 7, 0, 2]</td>\n    </tr>\n    <tr>\n      <th>1</th>\n      <td>8</td>\n      <td>1</td>\n      <td>0.833776</td>\n      <td>[1, 6]</td>\n      <td>1.774563e-14</td>\n      <td>0.833776</td>\n      <td>1.370083e-12</td>\n      <td>4.887775e-08</td>\n      <td>2.489817e-06</td>\n      <td>2.647449e-07</td>\n      <td>0.166208</td>\n      <td>4.674924e-10</td>\n      <td>3.464596e-08</td>\n      <td>1.286516e-05</td>\n      <td>[1, 6, 9, 4, 5, 3, 8, 7, 2, 0]</td>\n    </tr>\n    <tr>\n      <th rowspan=\"10\" valign=\"top\">-89</th>\n      <th rowspan=\"10\" valign=\"top\">0.1</th>\n      <th>0</th>\n      <td>1</td>\n      <td>1</td>\n      <td>0.974280</td>\n      <td>[1, 6]</td>\n      <td>8.896739e-05</td>\n      <td>0.974280</td>\n      <td>3.216792e-10</td>\n      <td>3.549540e-08</td>\n      <td>9.503617e-03</td>\n      <td>1.550758e-06</td>\n      <td>0.016126</td>\n      <td>2.563228e-13</td>\n      <td>2.449815e-15</td>\n      <td>8.494165e-10</td>\n      <td>[1, 6, 4, 0, 5, 3, 9, 2, 7, 8]</td>\n    </tr>\n    <tr>\n      <th>1</th>\n      <td>2</td>\n      <td>1</td>\n      <td>0.997908</td>\n      <td>[1, 6]</td>\n      <td>4.258571e-13</td>\n      <td>0.997908</td>\n      <td>5.521976e-16</td>\n      <td>8.970553e-14</td>\n      <td>2.189216e-07</td>\n      <td>3.369575e-07</td>\n      <td>0.002091</td>\n      <td>9.524864e-16</td>\n      <td>1.236796e-15</td>\n      <td>7.201746e-07</td>\n      <td>[1, 6, 9, 5, 4, 0, 3, 8, 7, 2]</td>\n    </tr>\n    <tr>\n      <th>1</th>\n      <td>4</td>\n      <td>1</td>\n      <td>0.997795</td>\n      <td>[1, 6]</td>\n      <td>1.054092e-11</td>\n      <td>0.997795</td>\n      <td>3.541770e-11</td>\n      <td>7.730893e-07</td>\n      <td>2.298589e-07</td>\n      <td>3.387268e-10</td>\n      <td>0.002204</td>\n      <td>6.591706e-14</td>\n      <td>2.905425e-13</td>\n      <td>1.953266e-12</td>\n      <td>[1, 6, 3, 4, 5, 2, 0, 9, 8, 7]</td>\n    </tr>\n    <tr>\n      <th>1</th>\n      <td>9</td>\n      <td>1</td>\n      <td>0.997201</td>\n      <td>[1, 6]</td>\n      <td>2.706352e-16</td>\n      <td>0.997201</td>\n      <td>1.966609e-10</td>\n      <td>5.019433e-06</td>\n      <td>2.000402e-08</td>\n      <td>2.431770e-11</td>\n      <td>0.002794</td>\n      <td>6.640779e-11</td>\n      <td>1.010925e-09</td>\n      <td>1.573373e-10</td>\n      <td>[1, 6, 3, 4, 8, 2, 9, 7, 5, 0]</td>\n    </tr>\n    <tr>\n      <th>1</th>\n      <td>0</td>\n      <td>1</td>\n      <td>0.994845</td>\n      <td>[1, 6]</td>\n      <td>7.870942e-11</td>\n      <td>0.994845</td>\n      <td>3.398777e-12</td>\n      <td>2.455992e-07</td>\n      <td>4.680944e-05</td>\n      <td>9.932900e-09</td>\n      <td>0.005108</td>\n      <td>5.250536e-14</td>\n      <td>2.883832e-13</td>\n      <td>2.994314e-10</td>\n      <td>[1, 6, 4, 3, 5, 9, 0, 2, 8, 7]</td>\n    </tr>\n    <tr>\n      <th>1</th>\n      <td>5</td>\n      <td>1</td>\n      <td>0.994627</td>\n      <td>[1, 6]</td>\n      <td>3.038590e-12</td>\n      <td>0.994627</td>\n      <td>1.828874e-10</td>\n      <td>8.107564e-07</td>\n      <td>5.685514e-06</td>\n      <td>1.586346e-10</td>\n      <td>0.005366</td>\n      <td>1.790849e-12</td>\n      <td>6.237990e-13</td>\n      <td>4.152430e-11</td>\n      <td>[1, 6, 4, 3, 2, 5, 9, 0, 7, 8]</td>\n    </tr>\n    <tr>\n      <th>1</th>\n      <td>6</td>\n      <td>1</td>\n      <td>0.993469</td>\n      <td>[1, 6]</td>\n      <td>5.826242e-11</td>\n      <td>0.993469</td>\n      <td>3.207714e-12</td>\n      <td>1.973723e-10</td>\n      <td>1.150366e-05</td>\n      <td>2.511656e-09</td>\n      <td>0.006520</td>\n      <td>1.185034e-13</td>\n      <td>9.937720e-16</td>\n      <td>1.024927e-10</td>\n      <td>[1, 6, 4, 5, 3, 9, 0, 2, 7, 8]</td>\n    </tr>\n    <tr>\n      <th>1</th>\n      <td>3</td>\n      <td>1</td>\n      <td>0.989861</td>\n      <td>[1, 6]</td>\n      <td>2.701930e-13</td>\n      <td>0.989861</td>\n      <td>8.436846e-15</td>\n      <td>1.360724e-10</td>\n      <td>5.844248e-06</td>\n      <td>4.819783e-08</td>\n      <td>0.010133</td>\n      <td>5.799641e-14</td>\n      <td>1.477639e-12</td>\n      <td>2.426822e-07</td>\n      <td>[1, 6, 4, 9, 5, 3, 8, 0, 7, 2]</td>\n    </tr>\n    <tr>\n      <th>1</th>\n      <td>7</td>\n      <td>1</td>\n      <td>0.984083</td>\n      <td>[1, 6]</td>\n      <td>6.529453e-15</td>\n      <td>0.984083</td>\n      <td>2.923496e-15</td>\n      <td>1.801082e-12</td>\n      <td>5.627290e-08</td>\n      <td>8.680679e-08</td>\n      <td>0.015915</td>\n      <td>6.663817e-14</td>\n      <td>1.669086e-13</td>\n      <td>1.597527e-06</td>\n      <td>[1, 6, 9, 5, 4, 3, 8, 7, 0, 2]</td>\n    </tr>\n    <tr>\n      <th>1</th>\n      <td>8</td>\n      <td>1</td>\n      <td>0.829891</td>\n      <td>[1, 6]</td>\n      <td>1.683515e-14</td>\n      <td>0.829891</td>\n      <td>1.446884e-12</td>\n      <td>4.885812e-08</td>\n      <td>2.282406e-06</td>\n      <td>2.534217e-07</td>\n      <td>0.170095</td>\n      <td>4.868449e-10</td>\n      <td>3.458090e-08</td>\n      <td>1.176848e-05</td>\n      <td>[1, 6, 9, 4, 5, 3, 8, 7, 2, 0]</td>\n    </tr>\n    <tr>\n      <th rowspan=\"10\" valign=\"top\">-88</th>\n      <th rowspan=\"10\" valign=\"top\">0.1</th>\n      <th>0</th>\n      <td>1</td>\n      <td>1</td>\n      <td>0.973405</td>\n      <td>[1, 6]</td>\n      <td>1.103691e-04</td>\n      <td>0.973405</td>\n      <td>3.453612e-10</td>\n      <td>3.829211e-08</td>\n      <td>1.002422e-02</td>\n      <td>1.650283e-06</td>\n      <td>0.016458</td>\n      <td>2.604707e-13</td>\n      <td>2.490936e-15</td>\n      <td>8.407164e-10</td>\n      <td>[1, 6, 4, 0, 5, 3, 9, 2, 7, 8]</td>\n    </tr>\n    <tr>\n      <th>1</th>\n      <td>2</td>\n      <td>1</td>\n      <td>0.997916</td>\n      <td>[1, 6]</td>\n      <td>4.247281e-13</td>\n      <td>0.997916</td>\n      <td>5.547526e-16</td>\n      <td>8.831077e-14</td>\n      <td>2.108386e-07</td>\n      <td>3.271935e-07</td>\n      <td>0.002083</td>\n      <td>9.360794e-16</td>\n      <td>1.194308e-15</td>\n      <td>6.770916e-07</td>\n      <td>[1, 6, 9, 5, 4, 0, 3, 8, 7, 2]</td>\n    </tr>\n    <tr>\n      <th>1</th>\n      <td>4</td>\n      <td>1</td>\n      <td>0.997682</td>\n      <td>[1, 6]</td>\n      <td>1.290419e-11</td>\n      <td>0.997682</td>\n      <td>3.774941e-11</td>\n      <td>8.470760e-07</td>\n      <td>2.476529e-07</td>\n      <td>3.723571e-10</td>\n      <td>0.002317</td>\n      <td>6.859898e-14</td>\n      <td>3.056210e-13</td>\n      <td>1.996716e-12</td>\n      <td>[1, 6, 3, 4, 5, 2, 0, 9, 8, 7]</td>\n    </tr>\n    <tr>\n      <th>1</th>\n      <td>9</td>\n      <td>1</td>\n      <td>0.997160</td>\n      <td>[1, 6]</td>\n      <td>2.675120e-16</td>\n      <td>0.997160</td>\n      <td>2.171383e-10</td>\n      <td>5.379731e-06</td>\n      <td>1.967251e-08</td>\n      <td>2.348137e-11</td>\n      <td>0.002835</td>\n      <td>7.322649e-11</td>\n      <td>1.061436e-09</td>\n      <td>1.543013e-10</td>\n      <td>[1, 6, 3, 4, 8, 2, 9, 7, 5, 0]</td>\n    </tr>\n    <tr>\n      <th>1</th>\n      <td>0</td>\n      <td>1</td>\n      <td>0.994803</td>\n      <td>[1, 6]</td>\n      <td>8.910359e-11</td>\n      <td>0.994803</td>\n      <td>3.488853e-12</td>\n      <td>2.565535e-07</td>\n      <td>4.790890e-05</td>\n      <td>1.034161e-08</td>\n      <td>0.005149</td>\n      <td>5.192434e-14</td>\n      <td>2.891537e-13</td>\n      <td>2.953554e-10</td>\n      <td>[1, 6, 4, 3, 5, 9, 0, 2, 8, 7]</td>\n    </tr>\n    <tr>\n      <th>1</th>\n      <td>5</td>\n      <td>1</td>\n      <td>0.994672</td>\n      <td>[1, 6]</td>\n      <td>3.204515e-12</td>\n      <td>0.994672</td>\n      <td>1.912786e-10</td>\n      <td>8.252133e-07</td>\n      <td>5.592132e-06</td>\n      <td>1.547462e-10</td>\n      <td>0.005321</td>\n      <td>1.802022e-12</td>\n      <td>6.061851e-13</td>\n      <td>3.946422e-11</td>\n      <td>[1, 6, 4, 3, 2, 5, 9, 0, 7, 8]</td>\n    </tr>\n    <tr>\n      <th>1</th>\n      <td>6</td>\n      <td>1</td>\n      <td>0.993500</td>\n      <td>[1, 6]</td>\n      <td>6.297912e-11</td>\n      <td>0.993500</td>\n      <td>3.380351e-12</td>\n      <td>1.987439e-10</td>\n      <td>1.098254e-05</td>\n      <td>2.453463e-09</td>\n      <td>0.006489</td>\n      <td>1.186030e-13</td>\n      <td>9.499849e-16</td>\n      <td>9.378493e-11</td>\n      <td>[1, 6, 4, 5, 3, 9, 0, 2, 7, 8]</td>\n    </tr>\n    <tr>\n      <th>1</th>\n      <td>3</td>\n      <td>1</td>\n      <td>0.989688</td>\n      <td>[1, 6]</td>\n      <td>2.819416e-13</td>\n      <td>0.989688</td>\n      <td>9.050041e-15</td>\n      <td>1.394575e-10</td>\n      <td>5.893102e-06</td>\n      <td>4.740306e-08</td>\n      <td>0.010306</td>\n      <td>6.020356e-14</td>\n      <td>1.440539e-12</td>\n      <td>2.334458e-07</td>\n      <td>[1, 6, 4, 9, 5, 3, 8, 0, 7, 2]</td>\n    </tr>\n    <tr>\n      <th>1</th>\n      <td>7</td>\n      <td>1</td>\n      <td>0.984140</td>\n      <td>[1, 6]</td>\n      <td>6.460553e-15</td>\n      <td>0.984140</td>\n      <td>2.915534e-15</td>\n      <td>1.775251e-12</td>\n      <td>5.435133e-08</td>\n      <td>8.374332e-08</td>\n      <td>0.015859</td>\n      <td>6.599928e-14</td>\n      <td>1.622313e-13</td>\n      <td>1.511000e-06</td>\n      <td>[1, 6, 9, 5, 4, 3, 8, 7, 0, 2]</td>\n    </tr>\n    <tr>\n      <th>1</th>\n      <td>8</td>\n      <td>1</td>\n      <td>0.830636</td>\n      <td>[1, 6]</td>\n      <td>1.574048e-14</td>\n      <td>0.830636</td>\n      <td>1.593680e-12</td>\n      <td>4.891906e-08</td>\n      <td>2.022321e-06</td>\n      <td>2.306843e-07</td>\n      <td>0.169352</td>\n      <td>5.117728e-10</td>\n      <td>3.250988e-08</td>\n      <td>9.859602e-06</td>\n      <td>[1, 6, 9, 4, 5, 3, 8, 7, 2, 0]</td>\n    </tr>\n  </tbody>\n</table>\n</div>"
     },
     "metadata": {}
    }
   ],
   "source": [
    "def misclassified(row):\n",
    "    if row['y_true'] == row['y_pred']:\n",
    "        return 0\n",
    "    else:\n",
    "        return 1\n",
    "\n",
    "# df_main['acc'] = df_main['acc'].astype(str)\n",
    "df_main['misclassified'] = df_main.apply (lambda row: misclassified(row), axis=1)\n",
    "multi = df_main.set_index(['z_angle', 'acc', 'misclassified'], inplace=False).sort_index()\n",
    "multi = multi.reset_index().sort_values(\n",
    "    ['z_angle', 'acc', 'misclassified', 'y_pred_prob'], ascending=[1,1,1,0]\n",
    "    ).set_index(['z_angle', 'acc', 'misclassified'])\n",
    "\n",
    "display(multi[:30])"
   ]
  },
  {
   "cell_type": "code",
   "execution_count": 16,
   "metadata": {},
   "outputs": [
    {
     "output_type": "display_data",
     "data": {
      "text/plain": "      z_angle  acc  y_true  y_pred  y_pred_prob top2_pred_categories  \\\n7         -90  0.1       7       1     0.983734               [1, 6]   \n17        -89  0.1       7       1     0.984083               [1, 6]   \n27        -88  0.1       7       1     0.984140               [1, 6]   \n37        -87  0.1       7       1     0.984164               [1, 6]   \n47        -86  0.1       7       1     0.984476               [1, 6]   \n...       ...  ...     ...     ...          ...                  ...   \n1764       86  0.1       7       1     0.982265               [1, 6]   \n1774       87  0.1       7       1     0.981810               [1, 6]   \n1784       88  0.1       7       1     0.981247               [1, 6]   \n1794       89  0.1       7       1     0.980725               [1, 6]   \n1804       90  0.1       7       1     0.980914               [1, 6]   \n\n           Prob_C0   Prob_C1       Prob_C2       Prob_C3       Prob_C4  \\\n7     6.326467e-15  0.983734  2.979339e-15  1.904261e-12  5.953159e-08   \n17    6.529453e-15  0.984083  2.923496e-15  1.801082e-12  5.627290e-08   \n27    6.460553e-15  0.984140  2.915534e-15  1.775251e-12  5.435133e-08   \n37    6.420151e-15  0.984164  2.902811e-15  1.727057e-12  5.102643e-08   \n47    6.145110e-15  0.984476  2.948501e-15  1.690251e-12  4.739433e-08   \n...            ...       ...           ...           ...           ...   \n1764  4.626107e-15  0.982265  6.531002e-15  5.140183e-12  4.626873e-08   \n1774  4.859258e-15  0.981810  6.275910e-15  5.028196e-12  4.982001e-08   \n1784  4.878809e-15  0.981247  6.462632e-15  5.233886e-12  5.295895e-08   \n1794  5.189574e-15  0.980725  6.276439e-15  5.247942e-12  5.815350e-08   \n1804  5.260342e-15  0.980914  6.152380e-15  5.179200e-12  6.083798e-08   \n\n           Prob_C5   Prob_C6       Prob_C7       Prob_C8   Prob_C9  \\\n7     8.540935e-08  0.016264  6.900063e-14  1.769868e-13  0.000002   \n17    8.680679e-08  0.015915  6.663817e-14  1.669086e-13  0.000002   \n27    8.374332e-08  0.015859  6.599928e-14  1.622313e-13  0.000002   \n37    8.316282e-08  0.015834  6.580331e-14  1.585510e-13  0.000001   \n47    7.686200e-08  0.015523  6.470275e-14  1.486650e-13  0.000001   \n...            ...       ...           ...           ...       ...   \n1764  6.274180e-08  0.017733  2.201498e-13  2.904825e-13  0.000002   \n1774  6.717673e-08  0.018188  2.165146e-13  2.951241e-13  0.000002   \n1784  6.905490e-08  0.018751  2.267423e-13  3.134135e-13  0.000002   \n1794  7.511640e-08  0.019272  2.255475e-13  3.269720e-13  0.000002   \n1804  7.583910e-08  0.019083  2.189182e-13  3.222284e-13  0.000003   \n\n                 top_pred_categories  misclassified  \n7     [1, 6, 9, 5, 4, 3, 8, 7, 0, 2]              1  \n17    [1, 6, 9, 5, 4, 3, 8, 7, 0, 2]              1  \n27    [1, 6, 9, 5, 4, 3, 8, 7, 0, 2]              1  \n37    [1, 6, 9, 5, 4, 3, 8, 7, 0, 2]              1  \n47    [1, 6, 9, 5, 4, 3, 8, 7, 0, 2]              1  \n...                              ...            ...  \n1764  [1, 6, 9, 5, 4, 3, 8, 7, 2, 0]              1  \n1774  [1, 6, 9, 5, 4, 3, 8, 7, 2, 0]              1  \n1784  [1, 6, 9, 5, 4, 3, 8, 7, 2, 0]              1  \n1794  [1, 6, 9, 5, 4, 3, 8, 7, 2, 0]              1  \n1804  [1, 6, 9, 5, 4, 3, 8, 7, 2, 0]              1  \n\n[181 rows x 18 columns]",
      "text/html": "<div>\n<style scoped>\n    .dataframe tbody tr th:only-of-type {\n        vertical-align: middle;\n    }\n\n    .dataframe tbody tr th {\n        vertical-align: top;\n    }\n\n    .dataframe thead th {\n        text-align: right;\n    }\n</style>\n<table border=\"1\" class=\"dataframe\">\n  <thead>\n    <tr style=\"text-align: right;\">\n      <th></th>\n      <th>z_angle</th>\n      <th>acc</th>\n      <th>y_true</th>\n      <th>y_pred</th>\n      <th>y_pred_prob</th>\n      <th>top2_pred_categories</th>\n      <th>Prob_C0</th>\n      <th>Prob_C1</th>\n      <th>Prob_C2</th>\n      <th>Prob_C3</th>\n      <th>Prob_C4</th>\n      <th>Prob_C5</th>\n      <th>Prob_C6</th>\n      <th>Prob_C7</th>\n      <th>Prob_C8</th>\n      <th>Prob_C9</th>\n      <th>top_pred_categories</th>\n      <th>misclassified</th>\n    </tr>\n  </thead>\n  <tbody>\n    <tr>\n      <th>7</th>\n      <td>-90</td>\n      <td>0.1</td>\n      <td>7</td>\n      <td>1</td>\n      <td>0.983734</td>\n      <td>[1, 6]</td>\n      <td>6.326467e-15</td>\n      <td>0.983734</td>\n      <td>2.979339e-15</td>\n      <td>1.904261e-12</td>\n      <td>5.953159e-08</td>\n      <td>8.540935e-08</td>\n      <td>0.016264</td>\n      <td>6.900063e-14</td>\n      <td>1.769868e-13</td>\n      <td>0.000002</td>\n      <td>[1, 6, 9, 5, 4, 3, 8, 7, 0, 2]</td>\n      <td>1</td>\n    </tr>\n    <tr>\n      <th>17</th>\n      <td>-89</td>\n      <td>0.1</td>\n      <td>7</td>\n      <td>1</td>\n      <td>0.984083</td>\n      <td>[1, 6]</td>\n      <td>6.529453e-15</td>\n      <td>0.984083</td>\n      <td>2.923496e-15</td>\n      <td>1.801082e-12</td>\n      <td>5.627290e-08</td>\n      <td>8.680679e-08</td>\n      <td>0.015915</td>\n      <td>6.663817e-14</td>\n      <td>1.669086e-13</td>\n      <td>0.000002</td>\n      <td>[1, 6, 9, 5, 4, 3, 8, 7, 0, 2]</td>\n      <td>1</td>\n    </tr>\n    <tr>\n      <th>27</th>\n      <td>-88</td>\n      <td>0.1</td>\n      <td>7</td>\n      <td>1</td>\n      <td>0.984140</td>\n      <td>[1, 6]</td>\n      <td>6.460553e-15</td>\n      <td>0.984140</td>\n      <td>2.915534e-15</td>\n      <td>1.775251e-12</td>\n      <td>5.435133e-08</td>\n      <td>8.374332e-08</td>\n      <td>0.015859</td>\n      <td>6.599928e-14</td>\n      <td>1.622313e-13</td>\n      <td>0.000002</td>\n      <td>[1, 6, 9, 5, 4, 3, 8, 7, 0, 2]</td>\n      <td>1</td>\n    </tr>\n    <tr>\n      <th>37</th>\n      <td>-87</td>\n      <td>0.1</td>\n      <td>7</td>\n      <td>1</td>\n      <td>0.984164</td>\n      <td>[1, 6]</td>\n      <td>6.420151e-15</td>\n      <td>0.984164</td>\n      <td>2.902811e-15</td>\n      <td>1.727057e-12</td>\n      <td>5.102643e-08</td>\n      <td>8.316282e-08</td>\n      <td>0.015834</td>\n      <td>6.580331e-14</td>\n      <td>1.585510e-13</td>\n      <td>0.000001</td>\n      <td>[1, 6, 9, 5, 4, 3, 8, 7, 0, 2]</td>\n      <td>1</td>\n    </tr>\n    <tr>\n      <th>47</th>\n      <td>-86</td>\n      <td>0.1</td>\n      <td>7</td>\n      <td>1</td>\n      <td>0.984476</td>\n      <td>[1, 6]</td>\n      <td>6.145110e-15</td>\n      <td>0.984476</td>\n      <td>2.948501e-15</td>\n      <td>1.690251e-12</td>\n      <td>4.739433e-08</td>\n      <td>7.686200e-08</td>\n      <td>0.015523</td>\n      <td>6.470275e-14</td>\n      <td>1.486650e-13</td>\n      <td>0.000001</td>\n      <td>[1, 6, 9, 5, 4, 3, 8, 7, 0, 2]</td>\n      <td>1</td>\n    </tr>\n    <tr>\n      <th>...</th>\n      <td>...</td>\n      <td>...</td>\n      <td>...</td>\n      <td>...</td>\n      <td>...</td>\n      <td>...</td>\n      <td>...</td>\n      <td>...</td>\n      <td>...</td>\n      <td>...</td>\n      <td>...</td>\n      <td>...</td>\n      <td>...</td>\n      <td>...</td>\n      <td>...</td>\n      <td>...</td>\n      <td>...</td>\n      <td>...</td>\n    </tr>\n    <tr>\n      <th>1764</th>\n      <td>86</td>\n      <td>0.1</td>\n      <td>7</td>\n      <td>1</td>\n      <td>0.982265</td>\n      <td>[1, 6]</td>\n      <td>4.626107e-15</td>\n      <td>0.982265</td>\n      <td>6.531002e-15</td>\n      <td>5.140183e-12</td>\n      <td>4.626873e-08</td>\n      <td>6.274180e-08</td>\n      <td>0.017733</td>\n      <td>2.201498e-13</td>\n      <td>2.904825e-13</td>\n      <td>0.000002</td>\n      <td>[1, 6, 9, 5, 4, 3, 8, 7, 2, 0]</td>\n      <td>1</td>\n    </tr>\n    <tr>\n      <th>1774</th>\n      <td>87</td>\n      <td>0.1</td>\n      <td>7</td>\n      <td>1</td>\n      <td>0.981810</td>\n      <td>[1, 6]</td>\n      <td>4.859258e-15</td>\n      <td>0.981810</td>\n      <td>6.275910e-15</td>\n      <td>5.028196e-12</td>\n      <td>4.982001e-08</td>\n      <td>6.717673e-08</td>\n      <td>0.018188</td>\n      <td>2.165146e-13</td>\n      <td>2.951241e-13</td>\n      <td>0.000002</td>\n      <td>[1, 6, 9, 5, 4, 3, 8, 7, 2, 0]</td>\n      <td>1</td>\n    </tr>\n    <tr>\n      <th>1784</th>\n      <td>88</td>\n      <td>0.1</td>\n      <td>7</td>\n      <td>1</td>\n      <td>0.981247</td>\n      <td>[1, 6]</td>\n      <td>4.878809e-15</td>\n      <td>0.981247</td>\n      <td>6.462632e-15</td>\n      <td>5.233886e-12</td>\n      <td>5.295895e-08</td>\n      <td>6.905490e-08</td>\n      <td>0.018751</td>\n      <td>2.267423e-13</td>\n      <td>3.134135e-13</td>\n      <td>0.000002</td>\n      <td>[1, 6, 9, 5, 4, 3, 8, 7, 2, 0]</td>\n      <td>1</td>\n    </tr>\n    <tr>\n      <th>1794</th>\n      <td>89</td>\n      <td>0.1</td>\n      <td>7</td>\n      <td>1</td>\n      <td>0.980725</td>\n      <td>[1, 6]</td>\n      <td>5.189574e-15</td>\n      <td>0.980725</td>\n      <td>6.276439e-15</td>\n      <td>5.247942e-12</td>\n      <td>5.815350e-08</td>\n      <td>7.511640e-08</td>\n      <td>0.019272</td>\n      <td>2.255475e-13</td>\n      <td>3.269720e-13</td>\n      <td>0.000002</td>\n      <td>[1, 6, 9, 5, 4, 3, 8, 7, 2, 0]</td>\n      <td>1</td>\n    </tr>\n    <tr>\n      <th>1804</th>\n      <td>90</td>\n      <td>0.1</td>\n      <td>7</td>\n      <td>1</td>\n      <td>0.980914</td>\n      <td>[1, 6]</td>\n      <td>5.260342e-15</td>\n      <td>0.980914</td>\n      <td>6.152380e-15</td>\n      <td>5.179200e-12</td>\n      <td>6.083798e-08</td>\n      <td>7.583910e-08</td>\n      <td>0.019083</td>\n      <td>2.189182e-13</td>\n      <td>3.222284e-13</td>\n      <td>0.000003</td>\n      <td>[1, 6, 9, 5, 4, 3, 8, 7, 2, 0]</td>\n      <td>1</td>\n    </tr>\n  </tbody>\n</table>\n<p>181 rows × 18 columns</p>\n</div>"
     },
     "metadata": {}
    }
   ],
   "source": [
    "df_main.to_csv(\"model_224_big_upsidedown.csv\")\n",
    "# display(df_main[df_main[\"z_angle\"] == -90])\n",
    "\n",
    "# # get only misclassifications\n",
    "# multi.xs([1,], level=[2,])\n",
    "\n",
    "display(df_main[df_main[\"y_true\"] == 7])"
   ]
  },
  {
   "cell_type": "code",
   "execution_count": 2,
   "metadata": {},
   "outputs": [
    {
     "output_type": "error",
     "ename": "NameError",
     "evalue": "name 'plt' is not defined",
     "traceback": [
      "\u001b[0;31m---------------------------------------------------------------------------\u001b[0m",
      "\u001b[0;31mNameError\u001b[0m                                 Traceback (most recent call last)",
      "\u001b[0;32m<ipython-input-2-5964d81221ce>\u001b[0m in \u001b[0;36m<module>\u001b[0;34m\u001b[0m\n\u001b[0;32m----> 1\u001b[0;31m \u001b[0mfig\u001b[0m \u001b[0;34m=\u001b[0m \u001b[0mplt\u001b[0m\u001b[0;34m.\u001b[0m\u001b[0mfigure\u001b[0m\u001b[0;34m(\u001b[0m\u001b[0mfigsize\u001b[0m\u001b[0;34m=\u001b[0m\u001b[0;34m(\u001b[0m\u001b[0;36m30\u001b[0m\u001b[0;34m,\u001b[0m\u001b[0;36m10\u001b[0m\u001b[0;34m)\u001b[0m\u001b[0;34m)\u001b[0m\u001b[0;34m\u001b[0m\u001b[0;34m\u001b[0m\u001b[0m\n\u001b[0m\u001b[1;32m      2\u001b[0m \u001b[0mplt\u001b[0m\u001b[0;34m.\u001b[0m\u001b[0mbar\u001b[0m\u001b[0;34m(\u001b[0m\u001b[0mall_acc\u001b[0m\u001b[0;34m.\u001b[0m\u001b[0mkeys\u001b[0m\u001b[0;34m(\u001b[0m\u001b[0;34m)\u001b[0m\u001b[0;34m,\u001b[0m \u001b[0mall_acc\u001b[0m\u001b[0;34m.\u001b[0m\u001b[0mvalues\u001b[0m\u001b[0;34m(\u001b[0m\u001b[0;34m)\u001b[0m\u001b[0;34m,\u001b[0m \u001b[0mwidth\u001b[0m \u001b[0;34m=\u001b[0m \u001b[0;36m0.25\u001b[0m\u001b[0;34m,\u001b[0m \u001b[0mcolor\u001b[0m\u001b[0;34m=\u001b[0m\u001b[0;34m'g'\u001b[0m\u001b[0;34m)\u001b[0m\u001b[0;34m\u001b[0m\u001b[0;34m\u001b[0m\u001b[0m\n\u001b[1;32m      3\u001b[0m \u001b[0;31m# plt.ylim(0,1)\u001b[0m\u001b[0;34m\u001b[0m\u001b[0;34m\u001b[0m\u001b[0;34m\u001b[0m\u001b[0m\n\u001b[1;32m      4\u001b[0m \u001b[0mplt\u001b[0m\u001b[0;34m.\u001b[0m\u001b[0mshow\u001b[0m\u001b[0;34m(\u001b[0m\u001b[0;34m)\u001b[0m\u001b[0;34m\u001b[0m\u001b[0;34m\u001b[0m\u001b[0m\n",
      "\u001b[0;31mNameError\u001b[0m: name 'plt' is not defined"
     ]
    }
   ],
   "source": [
    "fig = plt.figure(figsize=(30,10))\n",
    "plt.bar(all_acc.keys(), all_acc.values(), width = 0.25, color='g')\n",
    "plt.show()"
   ]
  },
  {
   "cell_type": "code",
   "execution_count": 18,
   "metadata": {},
   "outputs": [],
   "source": [
    "# # Clear allocated memory for the GPU\n",
    "# try:\n",
    "#     from numba import cuda\n",
    "#     cuda.select_device(0)\n",
    "#     cuda.close()\n",
    "#     print(\"Cleared memory\")\n",
    "# except:\n",
    "#     print(\"Could not clear memory\")\n",
    "\n",
    "# print(time.strftime(\"%Y/%m/%d; %H:%M:%S\", time.localtime()))"
   ]
  }
 ],
 "metadata": {
  "hide_input": false,
  "kernelspec": {
   "name": "python374jvsc74a57bd08087e0338a47c76c8e15a9a22df352b860a832aa96ddf89fcf0f8e6508172633",
   "display_name": "Python 3.7.4 64-bit ('atf': conda)"
  },
  "language_info": {
   "codemirror_mode": {
    "name": "ipython",
    "version": 3
   },
   "file_extension": ".py",
   "mimetype": "text/x-python",
   "name": "python",
   "nbconvert_exporter": "python",
   "pygments_lexer": "ipython3",
   "version": "3.7.4"
  },
  "varInspector": {
   "cols": {
    "lenName": 16,
    "lenType": 16,
    "lenVar": 40
   },
   "kernels_config": {
    "python": {
     "delete_cmd_postfix": "",
     "delete_cmd_prefix": "del ",
     "library": "var_list.py",
     "varRefreshCmd": "print(var_dic_list())"
    },
    "r": {
     "delete_cmd_postfix": ") ",
     "delete_cmd_prefix": "rm(",
     "library": "var_list.r",
     "varRefreshCmd": "cat(var_dic_list()) "
    }
   },
   "types_to_exclude": [
    "module",
    "function",
    "builtin_function_or_method",
    "instance",
    "_Feature"
   ],
   "window_display": false
  },
  "metadata": {
   "interpreter": {
    "hash": "8087e0338a47c76c8e15a9a22df352b860a832aa96ddf89fcf0f8e6508172633"
   }
  }
 },
 "nbformat": 4,
 "nbformat_minor": 2
}