{
 "cells": [
  {
   "cell_type": "code",
   "execution_count": 1,
   "metadata": {},
   "outputs": [],
   "source": [
    "import os\n",
    "import subprocess\n",
    "import platform\n",
    "import shutil\n",
    "import load10_temp as ltemp\n",
    "import numpy as np\n",
    "%matplotlib inline\n",
    "import matplotlib.pyplot as plt"
   ]
  },
  {
   "cell_type": "code",
   "execution_count": 31,
   "metadata": {},
   "outputs": [
    {
     "data": {
      "image/png": "[encoded data removed]",
      "text/plain": [
       "<Figure size 1080x432 with 10 Axes>"
      ]
     },
     "metadata": {
      "needs_background": "light"
     },
     "output_type": "display_data"
    }
   ],
   "source": [
    "img_size = 32\n",
    "# img_size = 100\n",
    "\n",
    "render_util_folder = os.getcwd()\n",
    "blender_folder = r\"D:\\Users\\Enzo\\Desktop\\poke102938\\School\\RIT No Sync\\Research\\GAN\\blender-2.78c-windows64\" \n",
    "\n",
    "dataset_folder = r\"D:\\Users\\Enzo\\Desktop\\poke102938\\School\\RIT No Sync\\Research\\GAN\\greebles-generator-master\\Greebles_3DS_10\"\n",
    "render_folder = os.path.join(os.getcwd(), \"test_render\") #FOLDER NAME\n",
    "\n",
    "# Delete folder\n",
    "if os.path.exists(render_folder) and os.path.isdir(render_folder):\n",
    "    shutil.rmtree(render_folder)\n",
    "    \n",
    "if not os.path.isdir(dataset_folder):\n",
    "    raise OSError(2, 'No such directory', str(dataset_folder))\n",
    "if not os.path.exists(os.path.join(render_util_folder, 'render.py')):\n",
    "    raise OSError(2, 'render.py not found', str(render_util_folder))\n",
    "\n",
    "render_script = os.path.join(render_util_folder, 'render.py')\n",
    "\n",
    "# Find the correct version of blender depending on the OS\n",
    "if (platform.system() == \"Windows\"):\n",
    "    blender_exec = os.path.join(blender_folder, 'blender.exe')\n",
    "else:\n",
    "    blender_exec = os.path.join(blender_folder, 'blender')\n",
    "    \n",
    "if not os.path.exists(os.path.join(blender_folder, blender_exec)):\n",
    "    raise OSError(2, 'Blender executable not found', str(blender_folder))\n",
    "\n",
    "# If you want to split command automatically\n",
    "# import shlex; shlex.split(\"/bin/prog -i data.txt -o \\\"more data.txt\\\"\")\n",
    "# https://janakiev.com/blog/python-shell-commands/\n",
    "\n",
    "\n",
    "set_mode = 'specific_all'\n",
    "set_type = 'specific_angle'\n",
    "#####################################\n",
    "# Generate training set\n",
    "blender_process = subprocess.run([blender_exec, '-b', '-P', render_script, '--', \n",
    "                    '-st', set_type, '-sm', set_mode, '-rp', render_folder, '-dp', dataset_folder, '-rm', 'none', '-pf', 'tensorflow',\n",
    "                    '-is', str(img_size), '-ni', '1', '-xr', '0', '-yr', '0', '-zr', '0','--light_mode','behind_camera'])\n",
    "\n",
    "# Move training set to folder                    \n",
    "source_folder = os.path.join(render_folder, \"greebles_tf-\" + set_mode, set_type)\n",
    "ltemp.move_to_folder(source_folder, os.path.join(source_folder, \"train\"))\n",
    "\n",
    "###############################\n",
    "(x_train, y_train) = ltemp.load_dataset_temp(\"train\", source_folder)\n",
    "x_train = np.array(x_train, dtype='float64')\n",
    "y_train = np.array(y_train, dtype='float32')\n",
    "\n",
    "x_train *= (1.0/255)\n",
    "# x_train = (255-x_train)\n",
    "\n",
    "labels = {0: 'f-1', 1: 'f-2', 2: 'f-3', 3: 'f-4', 4: 'f-5', 5: 'm-1', 6: 'm-2', 7: 'm-3', 8: 'm-4', 9: 'm-5'}\n",
    "\n",
    "fig, axes = plt.subplots(2, 5, figsize=(15,6))\n",
    "for i,ax in enumerate(axes.flat):\n",
    "    ax.imshow(x_train[i][:,:,0], cmap='gray')\n",
    "#     ax.imshow(x_train[i][:,:,0])\n",
    "    true_label = np.argwhere(y_train[i] == 1).flatten()\n",
    "    ax.set_title(\"{number}: {label}\".format(label=labels[int(true_label)], number=i), fontsize=15, color='#ba5e27')\n",
    "    ax.set_yticklabels([])\n",
    "    ax.set_xticklabels([])\n",
    "    ax.tick_params(axis=u'both', which=u'both', length=0)\n",
    "\n",
    "fig.suptitle('Training Samples', fontsize=15, color='orange')\n",
    "\n",
    "plt.show()"
   ]
  },
  {
   "cell_type": "code",
   "execution_count": null,
   "metadata": {},
   "outputs": [],
   "source": [
    "# (x_train, y_train) = ltemp.load_dataset_temp(\"train\", source_folder)\n",
    "# x_train = np.array(x_train, dtype='float64')\n",
    "# y_train = np.array(y_train, dtype='float32')\n",
    "\n",
    "# x_train *= (1.0/255)\n",
    "\n",
    "# labels = {0: 'f-1', 1: 'f-2', 2: 'f-3', 3: 'f-4', 4: 'f-5', 5: 'm-1', 6: 'm-2', 7: 'm-3', 8: 'm-4', 9: 'm-5'}\n",
    "\n",
    "# fig, axes = plt.subplots(2, 5, figsize=(15,6))\n",
    "# for i,ax in enumerate(axes.flat):\n",
    "#     ax.imshow(x_train[i][:,:,0], cmap='gray')\n",
    "#     true_label = np.argwhere(y_train[i] == 1).flatten()\n",
    "#     ax.set_title(\"{number}: {label}\".format(label=labels[int(true_label)], number=i), fontsize=15, color='#ba5e27')\n",
    "#     ax.set_yticklabels([])\n",
    "#     ax.set_xticklabels([])\n",
    "#     ax.tick_params(axis=u'both', which=u'both', length=0)\n",
    "\n",
    "# fig.suptitle('Training Samples', fontsize=15, color='orange')\n",
    "\n",
    "# plt.show()"
   ]
  }
 ],
 "metadata": {
  "kernelspec": {
   "display_name": "Python 3",
   "language": "python",
   "name": "python3"
  },
  "language_info": {
   "codemirror_mode": {
    "name": "ipython",
    "version": 3
   },
   "file_extension": ".py",
   "mimetype": "text/x-python",
   "name": "python",
   "nbconvert_exporter": "python",
   "pygments_lexer": "ipython3",
   "version": "3.7.4"
  }
 },
 "nbformat": 4,
 "nbformat_minor": 2
}
